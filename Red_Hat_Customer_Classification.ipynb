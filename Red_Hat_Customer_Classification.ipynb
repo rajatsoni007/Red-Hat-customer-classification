{
  "cells": [
    {
      "cell_type": "markdown",
      "metadata": {
        "id": "6te4OogFI0Ld"
      },
      "source": [
        "\n",
        "Use the \"Run\" button to execute the code."
      ]
    },
    {
      "cell_type": "code",
      "execution_count": 1,
      "metadata": {
        "id": "-uWfTxkvI0Lg",
        "colab": {
          "base_uri": "https://localhost:8080/"
        },
        "outputId": "5b17f9a3-94b7-4366-d085-6d98ff9f2d68"
      },
      "outputs": [
        {
          "output_type": "stream",
          "name": "stdout",
          "text": [
            "\u001b[?25l\r\u001b[K     |████▊                           | 10 kB 26.7 MB/s eta 0:00:01\r\u001b[K     |█████████▌                      | 20 kB 20.1 MB/s eta 0:00:01\r\u001b[K     |██████████████▎                 | 30 kB 12.7 MB/s eta 0:00:01\r\u001b[K     |███████████████████             | 40 kB 10.0 MB/s eta 0:00:01\r\u001b[K     |███████████████████████▉        | 51 kB 4.5 MB/s eta 0:00:01\r\u001b[K     |████████████████████████████▋   | 61 kB 5.3 MB/s eta 0:00:01\r\u001b[K     |████████████████████████████████| 68 kB 1.4 MB/s \n",
            "\u001b[?25h  Building wheel for uuid (setup.py) ... \u001b[?25l\u001b[?25hdone\n"
          ]
        }
      ],
      "source": [
        "!pip install jovian --upgrade --quiet"
      ]
    },
    {
      "cell_type": "markdown",
      "metadata": {
        "id": "gAnvD0yKa20u"
      },
      "source": [
        "## Installing important libraries\n"
      ]
    },
    {
      "cell_type": "code",
      "execution_count": 2,
      "metadata": {
        "colab": {
          "base_uri": "https://localhost:8080/"
        },
        "id": "prsHy1NxI0Lj",
        "outputId": "ff75ca7a-dba0-4c05-ad71-7c6949cef7d9"
      },
      "outputs": [
        {
          "output_type": "stream",
          "name": "stdout",
          "text": [
            "\u001b[K     |████████████████████████████████| 27.7 MB 1.5 MB/s \n",
            "\u001b[K     |████████████████████████████████| 95 kB 3.0 MB/s \n",
            "\u001b[31mERROR: pip's dependency resolver does not currently take into account all the packages that are installed. This behaviour is the source of the following dependency conflicts.\n",
            "datascience 0.10.6 requires folium==0.2.1, but you have folium 0.12.1.post1 which is incompatible.\u001b[0m\n",
            "\u001b[?25h"
          ]
        }
      ],
      "source": [
        "!pip install opendatasets scikit-learn plotly folium --upgrade --quiet"
      ]
    },
    {
      "cell_type": "code",
      "execution_count": 3,
      "metadata": {
        "id": "V03PLBqFI0Lk"
      },
      "outputs": [],
      "source": [
        "import opendatasets as od"
      ]
    },
    {
      "cell_type": "code",
      "execution_count": 4,
      "metadata": {
        "colab": {
          "base_uri": "https://localhost:8080/",
          "height": 35
        },
        "id": "Ia0HgychJqUr",
        "outputId": "f5c8267e-96f6-40aa-e63b-0cb369fdcd00"
      },
      "outputs": [
        {
          "output_type": "execute_result",
          "data": {
            "application/vnd.google.colaboratory.intrinsic+json": {
              "type": "string"
            },
            "text/plain": [
              "'0.1.20'"
            ]
          },
          "metadata": {},
          "execution_count": 4
        }
      ],
      "source": [
        "od.version()"
      ]
    },
    {
      "cell_type": "code",
      "execution_count": 5,
      "metadata": {
        "id": "Jx08JmMWJzgB"
      },
      "outputs": [],
      "source": [
        "dataset_url = 'https://www.kaggle.com/c/predicting-red-hat-business-value/data'"
      ]
    },
    {
      "cell_type": "markdown",
      "metadata": {
        "id": "th6smFHha207"
      },
      "source": [
        "## Download the Dataset"
      ]
    },
    {
      "cell_type": "code",
      "execution_count": 6,
      "metadata": {
        "colab": {
          "base_uri": "https://localhost:8080/"
        },
        "id": "iWEIvtQpKG9k",
        "outputId": "ec040f35-5d20-4e6b-8d32-49f1f72a7bee"
      },
      "outputs": [
        {
          "output_type": "stream",
          "name": "stdout",
          "text": [
            "Please provide your Kaggle credentials to download this dataset. Learn more: http://bit.ly/kaggle-creds\n",
            "Your Kaggle username: rajatsoni1991\n",
            "Your Kaggle Key: ··········\n",
            "Downloading predicting-red-hat-business-value.zip to ./predicting-red-hat-business-value\n"
          ]
        },
        {
          "output_type": "stream",
          "name": "stderr",
          "text": [
            "100%|██████████| 25.5M/25.5M [00:00<00:00, 130MB/s] "
          ]
        },
        {
          "output_type": "stream",
          "name": "stdout",
          "text": [
            "\n",
            "Extracting archive ./predicting-red-hat-business-value/predicting-red-hat-business-value.zip to ./predicting-red-hat-business-value\n"
          ]
        },
        {
          "output_type": "stream",
          "name": "stderr",
          "text": [
            "\n"
          ]
        }
      ],
      "source": [
        "od.download(dataset_url)"
      ]
    },
    {
      "cell_type": "code",
      "execution_count": 7,
      "metadata": {
        "id": "-t3utEPRKKPT"
      },
      "outputs": [],
      "source": [
        "import os"
      ]
    },
    {
      "cell_type": "code",
      "execution_count": 8,
      "metadata": {
        "colab": {
          "base_uri": "https://localhost:8080/"
        },
        "id": "BU1BvGDoKc3s",
        "outputId": "4343de86-626d-425a-e84c-090dbc583c8c"
      },
      "outputs": [
        {
          "output_type": "execute_result",
          "data": {
            "text/plain": [
              "['act_test.csv.zip',\n",
              " 'act_train.csv.zip',\n",
              " 'sample_submission.csv.zip',\n",
              " 'people.csv.zip']"
            ]
          },
          "metadata": {},
          "execution_count": 8
        }
      ],
      "source": [
        "data_dir = './predicting-red-hat-business-value'\n",
        "os.listdir(data_dir)"
      ]
    },
    {
      "cell_type": "code",
      "execution_count": 9,
      "metadata": {
        "id": "OJ4v00HUa5nk"
      },
      "outputs": [],
      "source": [
        "import pandas as pd"
      ]
    },
    {
      "cell_type": "code",
      "execution_count": 10,
      "metadata": {
        "id": "pAaRikpSZe5m"
      },
      "outputs": [],
      "source": [
        "from zipfile import ZipFile\n",
        "with ZipFile(data_dir+'/act_train.csv.zip') as f:\n",
        "  f.extractall(path= 'red-hat-business')\n",
        "\n"
      ]
    },
    {
      "cell_type": "code",
      "execution_count": 11,
      "metadata": {
        "id": "_13QKwDHIaOT"
      },
      "outputs": [],
      "source": [
        "with ZipFile(data_dir+'/act_test.csv.zip') as f:\n",
        "  f.extractall(path= 'red-hat-business')"
      ]
    },
    {
      "cell_type": "code",
      "execution_count": 12,
      "metadata": {
        "id": "8enmkZfqIhPs"
      },
      "outputs": [],
      "source": [
        "with ZipFile(data_dir+'/people.csv.zip') as f:\n",
        "  f.extractall(path= 'red-hat-business')"
      ]
    },
    {
      "cell_type": "code",
      "execution_count": 13,
      "metadata": {
        "id": "DSADILbMKeoR"
      },
      "outputs": [],
      "source": [
        "\n",
        "train_csv = pd.read_csv('red-hat-business/act_train.csv')\n",
        "test_csv = pd.read_csv('red-hat-business/act_test.csv')\n",
        "people_csv = pd.read_csv('red-hat-business/people.csv')"
      ]
    },
    {
      "cell_type": "code",
      "execution_count": 14,
      "metadata": {
        "colab": {
          "base_uri": "https://localhost:8080/"
        },
        "id": "ZrcIPJnELKCU",
        "outputId": "c68e4557-9b2b-4827-8a74-de856592bd07"
      },
      "outputs": [
        {
          "output_type": "execute_result",
          "data": {
            "text/plain": [
              "(2197291, 15)"
            ]
          },
          "metadata": {},
          "execution_count": 14
        }
      ],
      "source": [
        "train_csv.shape\n"
      ]
    },
    {
      "cell_type": "code",
      "execution_count": 15,
      "metadata": {
        "colab": {
          "base_uri": "https://localhost:8080/",
          "height": 206
        },
        "id": "fYh1Gd5TLL4h",
        "outputId": "48ec6c53-875c-435b-a158-d64f5079a87a"
      },
      "outputs": [
        {
          "output_type": "execute_result",
          "data": {
            "text/html": [
              "\n",
              "  <div id=\"df-aa59286c-1789-45cf-94c7-1d53d6a066ac\">\n",
              "    <div class=\"colab-df-container\">\n",
              "      <div>\n",
              "<style scoped>\n",
              "    .dataframe tbody tr th:only-of-type {\n",
              "        vertical-align: middle;\n",
              "    }\n",
              "\n",
              "    .dataframe tbody tr th {\n",
              "        vertical-align: top;\n",
              "    }\n",
              "\n",
              "    .dataframe thead th {\n",
              "        text-align: right;\n",
              "    }\n",
              "</style>\n",
              "<table border=\"1\" class=\"dataframe\">\n",
              "  <thead>\n",
              "    <tr style=\"text-align: right;\">\n",
              "      <th></th>\n",
              "      <th>people_id</th>\n",
              "      <th>activity_id</th>\n",
              "      <th>date</th>\n",
              "      <th>activity_category</th>\n",
              "      <th>char_1</th>\n",
              "      <th>char_2</th>\n",
              "      <th>char_3</th>\n",
              "      <th>char_4</th>\n",
              "      <th>char_5</th>\n",
              "      <th>char_6</th>\n",
              "      <th>char_7</th>\n",
              "      <th>char_8</th>\n",
              "      <th>char_9</th>\n",
              "      <th>char_10</th>\n",
              "      <th>outcome</th>\n",
              "    </tr>\n",
              "  </thead>\n",
              "  <tbody>\n",
              "    <tr>\n",
              "      <th>0</th>\n",
              "      <td>ppl_100</td>\n",
              "      <td>act2_1734928</td>\n",
              "      <td>2023-08-26</td>\n",
              "      <td>type 4</td>\n",
              "      <td>NaN</td>\n",
              "      <td>NaN</td>\n",
              "      <td>NaN</td>\n",
              "      <td>NaN</td>\n",
              "      <td>NaN</td>\n",
              "      <td>NaN</td>\n",
              "      <td>NaN</td>\n",
              "      <td>NaN</td>\n",
              "      <td>NaN</td>\n",
              "      <td>type 76</td>\n",
              "      <td>0</td>\n",
              "    </tr>\n",
              "    <tr>\n",
              "      <th>1</th>\n",
              "      <td>ppl_100</td>\n",
              "      <td>act2_2434093</td>\n",
              "      <td>2022-09-27</td>\n",
              "      <td>type 2</td>\n",
              "      <td>NaN</td>\n",
              "      <td>NaN</td>\n",
              "      <td>NaN</td>\n",
              "      <td>NaN</td>\n",
              "      <td>NaN</td>\n",
              "      <td>NaN</td>\n",
              "      <td>NaN</td>\n",
              "      <td>NaN</td>\n",
              "      <td>NaN</td>\n",
              "      <td>type 1</td>\n",
              "      <td>0</td>\n",
              "    </tr>\n",
              "    <tr>\n",
              "      <th>2</th>\n",
              "      <td>ppl_100</td>\n",
              "      <td>act2_3404049</td>\n",
              "      <td>2022-09-27</td>\n",
              "      <td>type 2</td>\n",
              "      <td>NaN</td>\n",
              "      <td>NaN</td>\n",
              "      <td>NaN</td>\n",
              "      <td>NaN</td>\n",
              "      <td>NaN</td>\n",
              "      <td>NaN</td>\n",
              "      <td>NaN</td>\n",
              "      <td>NaN</td>\n",
              "      <td>NaN</td>\n",
              "      <td>type 1</td>\n",
              "      <td>0</td>\n",
              "    </tr>\n",
              "    <tr>\n",
              "      <th>3</th>\n",
              "      <td>ppl_100</td>\n",
              "      <td>act2_3651215</td>\n",
              "      <td>2023-08-04</td>\n",
              "      <td>type 2</td>\n",
              "      <td>NaN</td>\n",
              "      <td>NaN</td>\n",
              "      <td>NaN</td>\n",
              "      <td>NaN</td>\n",
              "      <td>NaN</td>\n",
              "      <td>NaN</td>\n",
              "      <td>NaN</td>\n",
              "      <td>NaN</td>\n",
              "      <td>NaN</td>\n",
              "      <td>type 1</td>\n",
              "      <td>0</td>\n",
              "    </tr>\n",
              "    <tr>\n",
              "      <th>4</th>\n",
              "      <td>ppl_100</td>\n",
              "      <td>act2_4109017</td>\n",
              "      <td>2023-08-26</td>\n",
              "      <td>type 2</td>\n",
              "      <td>NaN</td>\n",
              "      <td>NaN</td>\n",
              "      <td>NaN</td>\n",
              "      <td>NaN</td>\n",
              "      <td>NaN</td>\n",
              "      <td>NaN</td>\n",
              "      <td>NaN</td>\n",
              "      <td>NaN</td>\n",
              "      <td>NaN</td>\n",
              "      <td>type 1</td>\n",
              "      <td>0</td>\n",
              "    </tr>\n",
              "  </tbody>\n",
              "</table>\n",
              "</div>\n",
              "      <button class=\"colab-df-convert\" onclick=\"convertToInteractive('df-aa59286c-1789-45cf-94c7-1d53d6a066ac')\"\n",
              "              title=\"Convert this dataframe to an interactive table.\"\n",
              "              style=\"display:none;\">\n",
              "        \n",
              "  <svg xmlns=\"http://www.w3.org/2000/svg\" height=\"24px\"viewBox=\"0 0 24 24\"\n",
              "       width=\"24px\">\n",
              "    <path d=\"M0 0h24v24H0V0z\" fill=\"none\"/>\n",
              "    <path d=\"M18.56 5.44l.94 2.06.94-2.06 2.06-.94-2.06-.94-.94-2.06-.94 2.06-2.06.94zm-11 1L8.5 8.5l.94-2.06 2.06-.94-2.06-.94L8.5 2.5l-.94 2.06-2.06.94zm10 10l.94 2.06.94-2.06 2.06-.94-2.06-.94-.94-2.06-.94 2.06-2.06.94z\"/><path d=\"M17.41 7.96l-1.37-1.37c-.4-.4-.92-.59-1.43-.59-.52 0-1.04.2-1.43.59L10.3 9.45l-7.72 7.72c-.78.78-.78 2.05 0 2.83L4 21.41c.39.39.9.59 1.41.59.51 0 1.02-.2 1.41-.59l7.78-7.78 2.81-2.81c.8-.78.8-2.07 0-2.86zM5.41 20L4 18.59l7.72-7.72 1.47 1.35L5.41 20z\"/>\n",
              "  </svg>\n",
              "      </button>\n",
              "      \n",
              "  <style>\n",
              "    .colab-df-container {\n",
              "      display:flex;\n",
              "      flex-wrap:wrap;\n",
              "      gap: 12px;\n",
              "    }\n",
              "\n",
              "    .colab-df-convert {\n",
              "      background-color: #E8F0FE;\n",
              "      border: none;\n",
              "      border-radius: 50%;\n",
              "      cursor: pointer;\n",
              "      display: none;\n",
              "      fill: #1967D2;\n",
              "      height: 32px;\n",
              "      padding: 0 0 0 0;\n",
              "      width: 32px;\n",
              "    }\n",
              "\n",
              "    .colab-df-convert:hover {\n",
              "      background-color: #E2EBFA;\n",
              "      box-shadow: 0px 1px 2px rgba(60, 64, 67, 0.3), 0px 1px 3px 1px rgba(60, 64, 67, 0.15);\n",
              "      fill: #174EA6;\n",
              "    }\n",
              "\n",
              "    [theme=dark] .colab-df-convert {\n",
              "      background-color: #3B4455;\n",
              "      fill: #D2E3FC;\n",
              "    }\n",
              "\n",
              "    [theme=dark] .colab-df-convert:hover {\n",
              "      background-color: #434B5C;\n",
              "      box-shadow: 0px 1px 3px 1px rgba(0, 0, 0, 0.15);\n",
              "      filter: drop-shadow(0px 1px 2px rgba(0, 0, 0, 0.3));\n",
              "      fill: #FFFFFF;\n",
              "    }\n",
              "  </style>\n",
              "\n",
              "      <script>\n",
              "        const buttonEl =\n",
              "          document.querySelector('#df-aa59286c-1789-45cf-94c7-1d53d6a066ac button.colab-df-convert');\n",
              "        buttonEl.style.display =\n",
              "          google.colab.kernel.accessAllowed ? 'block' : 'none';\n",
              "\n",
              "        async function convertToInteractive(key) {\n",
              "          const element = document.querySelector('#df-aa59286c-1789-45cf-94c7-1d53d6a066ac');\n",
              "          const dataTable =\n",
              "            await google.colab.kernel.invokeFunction('convertToInteractive',\n",
              "                                                     [key], {});\n",
              "          if (!dataTable) return;\n",
              "\n",
              "          const docLinkHtml = 'Like what you see? Visit the ' +\n",
              "            '<a target=\"_blank\" href=https://colab.research.google.com/notebooks/data_table.ipynb>data table notebook</a>'\n",
              "            + ' to learn more about interactive tables.';\n",
              "          element.innerHTML = '';\n",
              "          dataTable['output_type'] = 'display_data';\n",
              "          await google.colab.output.renderOutput(dataTable, element);\n",
              "          const docLink = document.createElement('div');\n",
              "          docLink.innerHTML = docLinkHtml;\n",
              "          element.appendChild(docLink);\n",
              "        }\n",
              "      </script>\n",
              "    </div>\n",
              "  </div>\n",
              "  "
            ],
            "text/plain": [
              "  people_id   activity_id        date  ... char_9  char_10 outcome\n",
              "0   ppl_100  act2_1734928  2023-08-26  ...    NaN  type 76       0\n",
              "1   ppl_100  act2_2434093  2022-09-27  ...    NaN   type 1       0\n",
              "2   ppl_100  act2_3404049  2022-09-27  ...    NaN   type 1       0\n",
              "3   ppl_100  act2_3651215  2023-08-04  ...    NaN   type 1       0\n",
              "4   ppl_100  act2_4109017  2023-08-26  ...    NaN   type 1       0\n",
              "\n",
              "[5 rows x 15 columns]"
            ]
          },
          "metadata": {},
          "execution_count": 15
        }
      ],
      "source": [
        "train_csv.head(5)"
      ]
    },
    {
      "cell_type": "code",
      "execution_count": 16,
      "metadata": {
        "colab": {
          "base_uri": "https://localhost:8080/"
        },
        "id": "7IorPREALAE5",
        "outputId": "e237f0f6-0ef7-491a-9a07-769fda347cc1"
      },
      "outputs": [
        {
          "output_type": "execute_result",
          "data": {
            "text/plain": [
              "1847851       NaN\n",
              "61085         NaN\n",
              "1106712       NaN\n",
              "279940        NaN\n",
              "288008        NaN\n",
              "1344635       NaN\n",
              "1720721       NaN\n",
              "932081        NaN\n",
              "164275        NaN\n",
              "1317341       NaN\n",
              "1176356       NaN\n",
              "98325         NaN\n",
              "1005077       NaN\n",
              "740114        NaN\n",
              "682774        NaN\n",
              "2132494       NaN\n",
              "1247854       NaN\n",
              "1047687       NaN\n",
              "1237063       NaN\n",
              "1546820    type 2\n",
              "Name: char_6, dtype: object"
            ]
          },
          "metadata": {},
          "execution_count": 16
        }
      ],
      "source": [
        "train_csv.char_6.sample(20)"
      ]
    },
    {
      "cell_type": "markdown",
      "metadata": {
        "id": "LPfNSpx8a21A"
      },
      "source": [
        "## Merge 2 files"
      ]
    },
    {
      "cell_type": "code",
      "execution_count": 17,
      "metadata": {
        "id": "tM5PXNkpLaxC"
      },
      "outputs": [],
      "source": [
        "merged_df = train_csv.merge(people_csv, how= 'left', on= 'people_id')"
      ]
    },
    {
      "cell_type": "code",
      "execution_count": 18,
      "metadata": {
        "colab": {
          "base_uri": "https://localhost:8080/"
        },
        "id": "vRkuooYrM3vr",
        "outputId": "04b1ea4d-159a-4d51-ee1a-54206f2dcef3"
      },
      "outputs": [
        {
          "output_type": "execute_result",
          "data": {
            "text/plain": [
              "(2197291, 55)"
            ]
          },
          "metadata": {},
          "execution_count": 18
        }
      ],
      "source": [
        "merged_df.shape"
      ]
    },
    {
      "cell_type": "markdown",
      "metadata": {
        "id": "tym6r6eda21B"
      },
      "source": [
        "## Exploratory Data Analysis"
      ]
    },
    {
      "cell_type": "code",
      "execution_count": 19,
      "metadata": {
        "colab": {
          "base_uri": "https://localhost:8080/"
        },
        "id": "Ekh7Ow0yNWRM",
        "outputId": "a9a08cd3-aa72-45b2-f3e8-ff1a3a98862a"
      },
      "outputs": [
        {
          "output_type": "execute_result",
          "data": {
            "text/plain": [
              "people_id                  0\n",
              "activity_id                0\n",
              "date_x                     0\n",
              "activity_category          0\n",
              "char_1_x             2039676\n",
              "char_2_x             2039676\n",
              "char_3_x             2039676\n",
              "char_4_x             2039676\n",
              "char_5_x             2039676\n",
              "char_6_x             2039676\n",
              "char_7_x             2039676\n",
              "char_8_x             2039676\n",
              "char_9_x             2039676\n",
              "char_10_x             157615\n",
              "outcome                    0\n",
              "char_1_y                   0\n",
              "group_1                    0\n",
              "char_2_y                   0\n",
              "date_y                     0\n",
              "char_3_y                   0\n",
              "char_4_y                   0\n",
              "char_5_y                   0\n",
              "char_6_y                   0\n",
              "char_7_y                   0\n",
              "char_8_y                   0\n",
              "char_9_y                   0\n",
              "char_10_y                  0\n",
              "char_11                    0\n",
              "char_12                    0\n",
              "char_13                    0\n",
              "char_14                    0\n",
              "char_15                    0\n",
              "char_16                    0\n",
              "char_17                    0\n",
              "char_18                    0\n",
              "char_19                    0\n",
              "char_20                    0\n",
              "char_21                    0\n",
              "char_22                    0\n",
              "char_23                    0\n",
              "char_24                    0\n",
              "char_25                    0\n",
              "char_26                    0\n",
              "char_27                    0\n",
              "char_28                    0\n",
              "char_29                    0\n",
              "char_30                    0\n",
              "char_31                    0\n",
              "char_32                    0\n",
              "char_33                    0\n",
              "char_34                    0\n",
              "char_35                    0\n",
              "char_36                    0\n",
              "char_37                    0\n",
              "char_38                    0\n",
              "dtype: int64"
            ]
          },
          "metadata": {},
          "execution_count": 19
        }
      ],
      "source": [
        "merged_df.isnull().sum()"
      ]
    },
    {
      "cell_type": "code",
      "execution_count": 20,
      "metadata": {
        "colab": {
          "base_uri": "https://localhost:8080/"
        },
        "id": "VaMY6Fg7NrVW",
        "outputId": "af18b6b9-7f3c-4f6b-f4dd-b9a1eb790afe"
      },
      "outputs": [
        {
          "output_type": "stream",
          "name": "stdout",
          "text": [
            "<class 'pandas.core.frame.DataFrame'>\n",
            "Int64Index: 2197291 entries, 0 to 2197290\n",
            "Data columns (total 55 columns):\n",
            " #   Column             Dtype \n",
            "---  ------             ----- \n",
            " 0   people_id          object\n",
            " 1   activity_id        object\n",
            " 2   date_x             object\n",
            " 3   activity_category  object\n",
            " 4   char_1_x           object\n",
            " 5   char_2_x           object\n",
            " 6   char_3_x           object\n",
            " 7   char_4_x           object\n",
            " 8   char_5_x           object\n",
            " 9   char_6_x           object\n",
            " 10  char_7_x           object\n",
            " 11  char_8_x           object\n",
            " 12  char_9_x           object\n",
            " 13  char_10_x          object\n",
            " 14  outcome            int64 \n",
            " 15  char_1_y           object\n",
            " 16  group_1            object\n",
            " 17  char_2_y           object\n",
            " 18  date_y             object\n",
            " 19  char_3_y           object\n",
            " 20  char_4_y           object\n",
            " 21  char_5_y           object\n",
            " 22  char_6_y           object\n",
            " 23  char_7_y           object\n",
            " 24  char_8_y           object\n",
            " 25  char_9_y           object\n",
            " 26  char_10_y          bool  \n",
            " 27  char_11            bool  \n",
            " 28  char_12            bool  \n",
            " 29  char_13            bool  \n",
            " 30  char_14            bool  \n",
            " 31  char_15            bool  \n",
            " 32  char_16            bool  \n",
            " 33  char_17            bool  \n",
            " 34  char_18            bool  \n",
            " 35  char_19            bool  \n",
            " 36  char_20            bool  \n",
            " 37  char_21            bool  \n",
            " 38  char_22            bool  \n",
            " 39  char_23            bool  \n",
            " 40  char_24            bool  \n",
            " 41  char_25            bool  \n",
            " 42  char_26            bool  \n",
            " 43  char_27            bool  \n",
            " 44  char_28            bool  \n",
            " 45  char_29            bool  \n",
            " 46  char_30            bool  \n",
            " 47  char_31            bool  \n",
            " 48  char_32            bool  \n",
            " 49  char_33            bool  \n",
            " 50  char_34            bool  \n",
            " 51  char_35            bool  \n",
            " 52  char_36            bool  \n",
            " 53  char_37            bool  \n",
            " 54  char_38            int64 \n",
            "dtypes: bool(28), int64(2), object(25)\n",
            "memory usage: 528.1+ MB\n"
          ]
        }
      ],
      "source": [
        "merged_df.info()"
      ]
    },
    {
      "cell_type": "code",
      "execution_count": 21,
      "metadata": {
        "colab": {
          "base_uri": "https://localhost:8080/"
        },
        "id": "VpJx_1hGePJE",
        "outputId": "aa5f236a-87e1-421d-a689-451cae83df09"
      },
      "outputs": [
        {
          "output_type": "execute_result",
          "data": {
            "text/plain": [
              "('2022-07-17', '2023-08-31')"
            ]
          },
          "metadata": {},
          "execution_count": 21
        }
      ],
      "source": [
        "merged_df.date_x.min(),merged_df.date_x.max()"
      ]
    },
    {
      "cell_type": "code",
      "execution_count": 22,
      "metadata": {
        "colab": {
          "base_uri": "https://localhost:8080/"
        },
        "id": "3GN6Arvgemab",
        "outputId": "8c59cb6c-b88f-4805-8996-9bb97714f132"
      },
      "outputs": [
        {
          "output_type": "execute_result",
          "data": {
            "text/plain": [
              "datetime.date(2023, 8, 31)"
            ]
          },
          "metadata": {},
          "execution_count": 22
        }
      ],
      "source": [
        "max_date = pd.to_datetime(merged_df['date_x']).dt.date.max()\n",
        "max_date"
      ]
    },
    {
      "cell_type": "code",
      "execution_count": 23,
      "metadata": {
        "colab": {
          "base_uri": "https://localhost:8080/"
        },
        "id": "qpnWe-1XfGmj",
        "outputId": "576667c1-5311-4268-956f-dece03870d1e"
      },
      "outputs": [
        {
          "output_type": "execute_result",
          "data": {
            "text/plain": [
              "datetime.date"
            ]
          },
          "metadata": {},
          "execution_count": 23
        }
      ],
      "source": [
        "type(max_date)"
      ]
    },
    {
      "cell_type": "code",
      "execution_count": 24,
      "metadata": {
        "colab": {
          "base_uri": "https://localhost:8080/"
        },
        "id": "P0zrIRRcO3_8",
        "outputId": "cf0fb195-b3a8-4398-f941-3bb6f4c0411d"
      },
      "outputs": [
        {
          "output_type": "stream",
          "name": "stdout",
          "text": [
            "Start of date_x: 2022-07-17\n",
            "  End of date_x: 2023-08-31\n",
            "Start of date_y: 2022-07-17\n",
            "  End of date_y: 2023-08-31\n"
          ]
        }
      ],
      "source": [
        "for d in ['date_x','date_y']:\n",
        "  print('Start of ' + d + ': ' + str(pd.to_datetime(merged_df.date_x).dt.date.min()))\n",
        "  print('  End of ' + d + ': ' + str(pd.to_datetime(merged_df.date_x).dt.date.max()))\n",
        " \n"
      ]
    },
    {
      "cell_type": "code",
      "execution_count": 25,
      "metadata": {
        "colab": {
          "base_uri": "https://localhost:8080/"
        },
        "id": "clju_aWKkgo6",
        "outputId": "0f5fd907-93bb-426a-b9ae-3d316c746c24"
      },
      "outputs": [
        {
          "output_type": "execute_result",
          "data": {
            "text/plain": [
              "people_id                  0\n",
              "activity_id                0\n",
              "date_x                     0\n",
              "activity_category          0\n",
              "char_1_x             2039676\n",
              "char_2_x             2039676\n",
              "char_3_x             2039676\n",
              "char_4_x             2039676\n",
              "char_5_x             2039676\n",
              "char_6_x             2039676\n",
              "char_7_x             2039676\n",
              "char_8_x             2039676\n",
              "char_9_x             2039676\n",
              "char_10_x             157615\n",
              "outcome                    0\n",
              "char_1_y                   0\n",
              "group_1                    0\n",
              "char_2_y                   0\n",
              "date_y                     0\n",
              "char_3_y                   0\n",
              "char_4_y                   0\n",
              "char_5_y                   0\n",
              "char_6_y                   0\n",
              "char_7_y                   0\n",
              "char_8_y                   0\n",
              "char_9_y                   0\n",
              "char_10_y                  0\n",
              "char_11                    0\n",
              "char_12                    0\n",
              "char_13                    0\n",
              "char_14                    0\n",
              "char_15                    0\n",
              "char_16                    0\n",
              "char_17                    0\n",
              "char_18                    0\n",
              "char_19                    0\n",
              "char_20                    0\n",
              "char_21                    0\n",
              "char_22                    0\n",
              "char_23                    0\n",
              "char_24                    0\n",
              "char_25                    0\n",
              "char_26                    0\n",
              "char_27                    0\n",
              "char_28                    0\n",
              "char_29                    0\n",
              "char_30                    0\n",
              "char_31                    0\n",
              "char_32                    0\n",
              "char_33                    0\n",
              "char_34                    0\n",
              "char_35                    0\n",
              "char_36                    0\n",
              "char_37                    0\n",
              "char_38                    0\n",
              "dtype: int64"
            ]
          },
          "metadata": {},
          "execution_count": 25
        }
      ],
      "source": [
        "merged_df.isnull().sum()"
      ]
    },
    {
      "cell_type": "code",
      "execution_count": 26,
      "metadata": {
        "colab": {
          "base_uri": "https://localhost:8080/"
        },
        "id": "QCsvg54sVzK-",
        "outputId": "5c6d8c85-1f4c-49b0-db33-7170920251c8"
      },
      "outputs": [
        {
          "output_type": "execute_result",
          "data": {
            "text/plain": [
              "people_id            0.000000\n",
              "activity_id          0.000000\n",
              "date_x               0.000000\n",
              "activity_category    0.000000\n",
              "char_1_x             0.928268\n",
              "char_2_x             0.928268\n",
              "char_3_x             0.928268\n",
              "char_4_x             0.928268\n",
              "char_5_x             0.928268\n",
              "char_6_x             0.928268\n",
              "char_7_x             0.928268\n",
              "char_8_x             0.928268\n",
              "char_9_x             0.928268\n",
              "char_10_x            0.071732\n",
              "outcome              0.000000\n",
              "char_1_y             0.000000\n",
              "group_1              0.000000\n",
              "char_2_y             0.000000\n",
              "date_y               0.000000\n",
              "char_3_y             0.000000\n",
              "char_4_y             0.000000\n",
              "char_5_y             0.000000\n",
              "char_6_y             0.000000\n",
              "char_7_y             0.000000\n",
              "char_8_y             0.000000\n",
              "char_9_y             0.000000\n",
              "char_10_y            0.000000\n",
              "char_11              0.000000\n",
              "char_12              0.000000\n",
              "char_13              0.000000\n",
              "char_14              0.000000\n",
              "char_15              0.000000\n",
              "char_16              0.000000\n",
              "char_17              0.000000\n",
              "char_18              0.000000\n",
              "char_19              0.000000\n",
              "char_20              0.000000\n",
              "char_21              0.000000\n",
              "char_22              0.000000\n",
              "char_23              0.000000\n",
              "char_24              0.000000\n",
              "char_25              0.000000\n",
              "char_26              0.000000\n",
              "char_27              0.000000\n",
              "char_28              0.000000\n",
              "char_29              0.000000\n",
              "char_30              0.000000\n",
              "char_31              0.000000\n",
              "char_32              0.000000\n",
              "char_33              0.000000\n",
              "char_34              0.000000\n",
              "char_35              0.000000\n",
              "char_36              0.000000\n",
              "char_37              0.000000\n",
              "char_38              0.000000\n",
              "dtype: float64"
            ]
          },
          "metadata": {},
          "execution_count": 26
        }
      ],
      "source": [
        "merged_df.isnull().sum()/merged_df.shape[0]"
      ]
    },
    {
      "cell_type": "markdown",
      "metadata": {
        "id": "uqph6-kva21F"
      },
      "source": [
        "### Drop coulmns with max null values"
      ]
    },
    {
      "cell_type": "code",
      "execution_count": 27,
      "metadata": {
        "id": "70wC3ectW1Cs"
      },
      "outputs": [],
      "source": [
        "merged_df = merged_df.drop(['char_1_x','char_2_x','char_3_x','char_4_x','char_5_x','char_6_x','char_7_x','char_8_x','char_9_x'], axis=1)\n"
      ]
    },
    {
      "cell_type": "code",
      "execution_count": 28,
      "metadata": {
        "id": "NT9IV1dJYy9P"
      },
      "outputs": [],
      "source": [
        "merged_df.dropna(subset=['char_10_x'],inplace=True)"
      ]
    },
    {
      "cell_type": "code",
      "execution_count": 29,
      "metadata": {
        "colab": {
          "base_uri": "https://localhost:8080/"
        },
        "id": "dcklZm9Pa36l",
        "outputId": "07c4d9fe-61fb-4673-85bc-c132f0f6bd40"
      },
      "outputs": [
        {
          "output_type": "execute_result",
          "data": {
            "text/plain": [
              "0    1129010\n",
              "1     910666\n",
              "Name: outcome, dtype: int64"
            ]
          },
          "metadata": {},
          "execution_count": 29
        }
      ],
      "source": [
        "merged_df.outcome.value_counts()"
      ]
    },
    {
      "cell_type": "markdown",
      "metadata": {
        "id": "0SXtUQw7a21H"
      },
      "source": [
        "### Visualising the data"
      ]
    },
    {
      "cell_type": "code",
      "execution_count": 30,
      "metadata": {
        "id": "jWb2QPIlbIeN"
      },
      "outputs": [],
      "source": [
        "import plotly.express as px\n",
        "import matplotlib\n",
        "import matplotlib.pyplot as plt\n",
        "import seaborn as sns\n",
        "%matplotlib inline\n",
        "matplotlib.rcParams['figure.figsize'] = (10, 6)\n",
        "\n",
        "sns.set_style('darkgrid')\n"
      ]
    },
    {
      "cell_type": "code",
      "execution_count": 31,
      "metadata": {
        "colab": {
          "base_uri": "https://localhost:8080/"
        },
        "id": "ayAhnNM3sbtR",
        "outputId": "ed194d1c-2583-4c52-c7c9-8d496bf9036c"
      },
      "outputs": [
        {
          "output_type": "execute_result",
          "data": {
            "text/plain": [
              "Index(['people_id', 'activity_id', 'date_x', 'activity_category', 'char_10_x',\n",
              "       'outcome', 'char_1_y', 'group_1', 'char_2_y', 'date_y', 'char_3_y',\n",
              "       'char_4_y', 'char_5_y', 'char_6_y', 'char_7_y', 'char_8_y', 'char_9_y',\n",
              "       'char_10_y', 'char_11', 'char_12', 'char_13', 'char_14', 'char_15',\n",
              "       'char_16', 'char_17', 'char_18', 'char_19', 'char_20', 'char_21',\n",
              "       'char_22', 'char_23', 'char_24', 'char_25', 'char_26', 'char_27',\n",
              "       'char_28', 'char_29', 'char_30', 'char_31', 'char_32', 'char_33',\n",
              "       'char_34', 'char_35', 'char_36', 'char_37', 'char_38'],\n",
              "      dtype='object')"
            ]
          },
          "metadata": {},
          "execution_count": 31
        }
      ],
      "source": [
        "merged_df.columns"
      ]
    },
    {
      "cell_type": "code",
      "execution_count": 31,
      "metadata": {
        "id": "thHrItOsa21I"
      },
      "outputs": [],
      "source": [
        ""
      ]
    },
    {
      "cell_type": "code",
      "execution_count": 32,
      "metadata": {
        "colab": {
          "base_uri": "https://localhost:8080/",
          "height": 542
        },
        "id": "IbM1iokhbU1k",
        "outputId": "9dd6d29e-8c65-4d53-911e-c23dbfad1b24"
      },
      "outputs": [
        {
          "output_type": "display_data",
          "data": {
            "text/html": [
              "<html>\n",
              "<head><meta charset=\"utf-8\" /></head>\n",
              "<body>\n",
              "    <div>            <script src=\"https://cdnjs.cloudflare.com/ajax/libs/mathjax/2.7.5/MathJax.js?config=TeX-AMS-MML_SVG\"></script><script type=\"text/javascript\">if (window.MathJax) {MathJax.Hub.Config({SVG: {font: \"STIX-Web\"}});}</script>                <script type=\"text/javascript\">window.PlotlyConfig = {MathJaxConfig: 'local'};</script>\n",
              "        <script src=\"https://cdn.plot.ly/plotly-2.9.0.min.js\"></script>                <div id=\"b1b5bce7-a55e-4c2c-bfc5-d666aceb3903\" class=\"plotly-graph-div\" style=\"height:525px; width:100%;\"></div>            <script type=\"text/javascript\">                                    window.PLOTLYENV=window.PLOTLYENV || {};                                    if (document.getElementById(\"b1b5bce7-a55e-4c2c-bfc5-d666aceb3903\")) {                    Plotly.newPlot(                        \"b1b5bce7-a55e-4c2c-bfc5-d666aceb3903\",                        [{\"alignmentgroup\":\"True\",\"bingroup\":\"x\",\"hovertemplate\":\"char_10_x=%{x}<br>count=%{y}<extra></extra>\",\"legendgroup\":\"\",\"marker\":{\"color\":\"#636efa\",\"pattern\":{\"shape\":\"\"}},\"name\":\"\",\"offsetgroup\":\"\",\"orientation\":\"v\",\"showlegend\":false,\"x\":[\"type 1\",\"type 417\",\"type 1\",\"type 1856\",\"type 1\",\"type 23\",\"type 4958\",\"type 2\",\"type 1\",\"type 52\",\"type 1\",\"type 23\",\"type 1\",\"type 1785\",\"type 1\",\"type 23\",\"type 1096\",\"type 23\",\"type 23\",\"type 1\",\"type 1\",\"type 1\",\"type 23\",\"type 1\",\"type 481\",\"type 1\",\"type 1\",\"type 2\",\"type 23\",\"type 516\",\"type 1\",\"type 1\",\"type 1\",\"type 400\",\"type 4448\",\"type 1\",\"type 899\",\"type 1\",\"type 1\",\"type 3\",\"type 2\",\"type 1\",\"type 44\",\"type 23\",\"type 143\",\"type 3732\",\"type 37\",\"type 1\",\"type 1\",\"type 1\",\"type 481\",\"type 1\",\"type 5145\",\"type 2\",\"type 8\",\"type 1\",\"type 1\",\"type 1\",\"type 23\",\"type 1\",\"type 586\",\"type 2\",\"type 1\",\"type 4251\",\"type 228\",\"type 1\",\"type 2\",\"type 1\",\"type 600\",\"type 1\",\"type 2\",\"type 1\",\"type 1\",\"type 23\",\"type 4347\",\"type 1\",\"type 87\",\"type 23\",\"type 1\",\"type 899\",\"type 55\",\"type 1\",\"type 3552\",\"type 1\",\"type 23\",\"type 23\",\"type 52\",\"type 2866\",\"type 1\",\"type 1\",\"type 274\",\"type 23\",\"type 23\",\"type 695\",\"type 1\",\"type 23\",\"type 299\",\"type 1550\",\"type 1\",\"type 1\"],\"xaxis\":\"x\",\"yaxis\":\"y\",\"type\":\"histogram\"}],                        {\"template\":{\"data\":{\"bar\":[{\"error_x\":{\"color\":\"#2a3f5f\"},\"error_y\":{\"color\":\"#2a3f5f\"},\"marker\":{\"line\":{\"color\":\"#E5ECF6\",\"width\":0.5},\"pattern\":{\"fillmode\":\"overlay\",\"size\":10,\"solidity\":0.2}},\"type\":\"bar\"}],\"barpolar\":[{\"marker\":{\"line\":{\"color\":\"#E5ECF6\",\"width\":0.5},\"pattern\":{\"fillmode\":\"overlay\",\"size\":10,\"solidity\":0.2}},\"type\":\"barpolar\"}],\"carpet\":[{\"aaxis\":{\"endlinecolor\":\"#2a3f5f\",\"gridcolor\":\"white\",\"linecolor\":\"white\",\"minorgridcolor\":\"white\",\"startlinecolor\":\"#2a3f5f\"},\"baxis\":{\"endlinecolor\":\"#2a3f5f\",\"gridcolor\":\"white\",\"linecolor\":\"white\",\"minorgridcolor\":\"white\",\"startlinecolor\":\"#2a3f5f\"},\"type\":\"carpet\"}],\"choropleth\":[{\"colorbar\":{\"outlinewidth\":0,\"ticks\":\"\"},\"type\":\"choropleth\"}],\"contour\":[{\"colorbar\":{\"outlinewidth\":0,\"ticks\":\"\"},\"colorscale\":[[0.0,\"#0d0887\"],[0.1111111111111111,\"#46039f\"],[0.2222222222222222,\"#7201a8\"],[0.3333333333333333,\"#9c179e\"],[0.4444444444444444,\"#bd3786\"],[0.5555555555555556,\"#d8576b\"],[0.6666666666666666,\"#ed7953\"],[0.7777777777777778,\"#fb9f3a\"],[0.8888888888888888,\"#fdca26\"],[1.0,\"#f0f921\"]],\"type\":\"contour\"}],\"contourcarpet\":[{\"colorbar\":{\"outlinewidth\":0,\"ticks\":\"\"},\"type\":\"contourcarpet\"}],\"heatmap\":[{\"colorbar\":{\"outlinewidth\":0,\"ticks\":\"\"},\"colorscale\":[[0.0,\"#0d0887\"],[0.1111111111111111,\"#46039f\"],[0.2222222222222222,\"#7201a8\"],[0.3333333333333333,\"#9c179e\"],[0.4444444444444444,\"#bd3786\"],[0.5555555555555556,\"#d8576b\"],[0.6666666666666666,\"#ed7953\"],[0.7777777777777778,\"#fb9f3a\"],[0.8888888888888888,\"#fdca26\"],[1.0,\"#f0f921\"]],\"type\":\"heatmap\"}],\"heatmapgl\":[{\"colorbar\":{\"outlinewidth\":0,\"ticks\":\"\"},\"colorscale\":[[0.0,\"#0d0887\"],[0.1111111111111111,\"#46039f\"],[0.2222222222222222,\"#7201a8\"],[0.3333333333333333,\"#9c179e\"],[0.4444444444444444,\"#bd3786\"],[0.5555555555555556,\"#d8576b\"],[0.6666666666666666,\"#ed7953\"],[0.7777777777777778,\"#fb9f3a\"],[0.8888888888888888,\"#fdca26\"],[1.0,\"#f0f921\"]],\"type\":\"heatmapgl\"}],\"histogram\":[{\"marker\":{\"pattern\":{\"fillmode\":\"overlay\",\"size\":10,\"solidity\":0.2}},\"type\":\"histogram\"}],\"histogram2d\":[{\"colorbar\":{\"outlinewidth\":0,\"ticks\":\"\"},\"colorscale\":[[0.0,\"#0d0887\"],[0.1111111111111111,\"#46039f\"],[0.2222222222222222,\"#7201a8\"],[0.3333333333333333,\"#9c179e\"],[0.4444444444444444,\"#bd3786\"],[0.5555555555555556,\"#d8576b\"],[0.6666666666666666,\"#ed7953\"],[0.7777777777777778,\"#fb9f3a\"],[0.8888888888888888,\"#fdca26\"],[1.0,\"#f0f921\"]],\"type\":\"histogram2d\"}],\"histogram2dcontour\":[{\"colorbar\":{\"outlinewidth\":0,\"ticks\":\"\"},\"colorscale\":[[0.0,\"#0d0887\"],[0.1111111111111111,\"#46039f\"],[0.2222222222222222,\"#7201a8\"],[0.3333333333333333,\"#9c179e\"],[0.4444444444444444,\"#bd3786\"],[0.5555555555555556,\"#d8576b\"],[0.6666666666666666,\"#ed7953\"],[0.7777777777777778,\"#fb9f3a\"],[0.8888888888888888,\"#fdca26\"],[1.0,\"#f0f921\"]],\"type\":\"histogram2dcontour\"}],\"mesh3d\":[{\"colorbar\":{\"outlinewidth\":0,\"ticks\":\"\"},\"type\":\"mesh3d\"}],\"parcoords\":[{\"line\":{\"colorbar\":{\"outlinewidth\":0,\"ticks\":\"\"}},\"type\":\"parcoords\"}],\"pie\":[{\"automargin\":true,\"type\":\"pie\"}],\"scatter\":[{\"marker\":{\"colorbar\":{\"outlinewidth\":0,\"ticks\":\"\"}},\"type\":\"scatter\"}],\"scatter3d\":[{\"line\":{\"colorbar\":{\"outlinewidth\":0,\"ticks\":\"\"}},\"marker\":{\"colorbar\":{\"outlinewidth\":0,\"ticks\":\"\"}},\"type\":\"scatter3d\"}],\"scattercarpet\":[{\"marker\":{\"colorbar\":{\"outlinewidth\":0,\"ticks\":\"\"}},\"type\":\"scattercarpet\"}],\"scattergeo\":[{\"marker\":{\"colorbar\":{\"outlinewidth\":0,\"ticks\":\"\"}},\"type\":\"scattergeo\"}],\"scattergl\":[{\"marker\":{\"colorbar\":{\"outlinewidth\":0,\"ticks\":\"\"}},\"type\":\"scattergl\"}],\"scattermapbox\":[{\"marker\":{\"colorbar\":{\"outlinewidth\":0,\"ticks\":\"\"}},\"type\":\"scattermapbox\"}],\"scatterpolar\":[{\"marker\":{\"colorbar\":{\"outlinewidth\":0,\"ticks\":\"\"}},\"type\":\"scatterpolar\"}],\"scatterpolargl\":[{\"marker\":{\"colorbar\":{\"outlinewidth\":0,\"ticks\":\"\"}},\"type\":\"scatterpolargl\"}],\"scatterternary\":[{\"marker\":{\"colorbar\":{\"outlinewidth\":0,\"ticks\":\"\"}},\"type\":\"scatterternary\"}],\"surface\":[{\"colorbar\":{\"outlinewidth\":0,\"ticks\":\"\"},\"colorscale\":[[0.0,\"#0d0887\"],[0.1111111111111111,\"#46039f\"],[0.2222222222222222,\"#7201a8\"],[0.3333333333333333,\"#9c179e\"],[0.4444444444444444,\"#bd3786\"],[0.5555555555555556,\"#d8576b\"],[0.6666666666666666,\"#ed7953\"],[0.7777777777777778,\"#fb9f3a\"],[0.8888888888888888,\"#fdca26\"],[1.0,\"#f0f921\"]],\"type\":\"surface\"}],\"table\":[{\"cells\":{\"fill\":{\"color\":\"#EBF0F8\"},\"line\":{\"color\":\"white\"}},\"header\":{\"fill\":{\"color\":\"#C8D4E3\"},\"line\":{\"color\":\"white\"}},\"type\":\"table\"}]},\"layout\":{\"annotationdefaults\":{\"arrowcolor\":\"#2a3f5f\",\"arrowhead\":0,\"arrowwidth\":1},\"autotypenumbers\":\"strict\",\"coloraxis\":{\"colorbar\":{\"outlinewidth\":0,\"ticks\":\"\"}},\"colorscale\":{\"diverging\":[[0,\"#8e0152\"],[0.1,\"#c51b7d\"],[0.2,\"#de77ae\"],[0.3,\"#f1b6da\"],[0.4,\"#fde0ef\"],[0.5,\"#f7f7f7\"],[0.6,\"#e6f5d0\"],[0.7,\"#b8e186\"],[0.8,\"#7fbc41\"],[0.9,\"#4d9221\"],[1,\"#276419\"]],\"sequential\":[[0.0,\"#0d0887\"],[0.1111111111111111,\"#46039f\"],[0.2222222222222222,\"#7201a8\"],[0.3333333333333333,\"#9c179e\"],[0.4444444444444444,\"#bd3786\"],[0.5555555555555556,\"#d8576b\"],[0.6666666666666666,\"#ed7953\"],[0.7777777777777778,\"#fb9f3a\"],[0.8888888888888888,\"#fdca26\"],[1.0,\"#f0f921\"]],\"sequentialminus\":[[0.0,\"#0d0887\"],[0.1111111111111111,\"#46039f\"],[0.2222222222222222,\"#7201a8\"],[0.3333333333333333,\"#9c179e\"],[0.4444444444444444,\"#bd3786\"],[0.5555555555555556,\"#d8576b\"],[0.6666666666666666,\"#ed7953\"],[0.7777777777777778,\"#fb9f3a\"],[0.8888888888888888,\"#fdca26\"],[1.0,\"#f0f921\"]]},\"colorway\":[\"#636efa\",\"#EF553B\",\"#00cc96\",\"#ab63fa\",\"#FFA15A\",\"#19d3f3\",\"#FF6692\",\"#B6E880\",\"#FF97FF\",\"#FECB52\"],\"font\":{\"color\":\"#2a3f5f\"},\"geo\":{\"bgcolor\":\"white\",\"lakecolor\":\"white\",\"landcolor\":\"#E5ECF6\",\"showlakes\":true,\"showland\":true,\"subunitcolor\":\"white\"},\"hoverlabel\":{\"align\":\"left\"},\"hovermode\":\"closest\",\"mapbox\":{\"style\":\"light\"},\"paper_bgcolor\":\"white\",\"plot_bgcolor\":\"#E5ECF6\",\"polar\":{\"angularaxis\":{\"gridcolor\":\"white\",\"linecolor\":\"white\",\"ticks\":\"\"},\"bgcolor\":\"#E5ECF6\",\"radialaxis\":{\"gridcolor\":\"white\",\"linecolor\":\"white\",\"ticks\":\"\"}},\"scene\":{\"xaxis\":{\"backgroundcolor\":\"#E5ECF6\",\"gridcolor\":\"white\",\"gridwidth\":2,\"linecolor\":\"white\",\"showbackground\":true,\"ticks\":\"\",\"zerolinecolor\":\"white\"},\"yaxis\":{\"backgroundcolor\":\"#E5ECF6\",\"gridcolor\":\"white\",\"gridwidth\":2,\"linecolor\":\"white\",\"showbackground\":true,\"ticks\":\"\",\"zerolinecolor\":\"white\"},\"zaxis\":{\"backgroundcolor\":\"#E5ECF6\",\"gridcolor\":\"white\",\"gridwidth\":2,\"linecolor\":\"white\",\"showbackground\":true,\"ticks\":\"\",\"zerolinecolor\":\"white\"}},\"shapedefaults\":{\"line\":{\"color\":\"#2a3f5f\"}},\"ternary\":{\"aaxis\":{\"gridcolor\":\"white\",\"linecolor\":\"white\",\"ticks\":\"\"},\"baxis\":{\"gridcolor\":\"white\",\"linecolor\":\"white\",\"ticks\":\"\"},\"bgcolor\":\"#E5ECF6\",\"caxis\":{\"gridcolor\":\"white\",\"linecolor\":\"white\",\"ticks\":\"\"}},\"title\":{\"x\":0.05},\"xaxis\":{\"automargin\":true,\"gridcolor\":\"white\",\"linecolor\":\"white\",\"ticks\":\"\",\"title\":{\"standoff\":15},\"zerolinecolor\":\"white\",\"zerolinewidth\":2},\"yaxis\":{\"automargin\":true,\"gridcolor\":\"white\",\"linecolor\":\"white\",\"ticks\":\"\",\"title\":{\"standoff\":15},\"zerolinecolor\":\"white\",\"zerolinewidth\":2}}},\"xaxis\":{\"anchor\":\"y\",\"domain\":[0.0,1.0],\"title\":{\"text\":\"char_10_x\"}},\"yaxis\":{\"anchor\":\"x\",\"domain\":[0.0,1.0],\"title\":{\"text\":\"count\"}},\"legend\":{\"tracegroupgap\":0},\"title\":{\"text\":\"char 10\"},\"barmode\":\"relative\"},                        {\"responsive\": true}                    ).then(function(){\n",
              "                            \n",
              "var gd = document.getElementById('b1b5bce7-a55e-4c2c-bfc5-d666aceb3903');\n",
              "var x = new MutationObserver(function (mutations, observer) {{\n",
              "        var display = window.getComputedStyle(gd).display;\n",
              "        if (!display || display === 'none') {{\n",
              "            console.log([gd, 'removed!']);\n",
              "            Plotly.purge(gd);\n",
              "            observer.disconnect();\n",
              "        }}\n",
              "}});\n",
              "\n",
              "// Listen for the removal of the full notebook cells\n",
              "var notebookContainer = gd.closest('#notebook-container');\n",
              "if (notebookContainer) {{\n",
              "    x.observe(notebookContainer, {childList: true});\n",
              "}}\n",
              "\n",
              "// Listen for the clearing of the current output cell\n",
              "var outputEl = gd.closest('.output');\n",
              "if (outputEl) {{\n",
              "    x.observe(outputEl, {childList: true});\n",
              "}}\n",
              "\n",
              "                        })                };                            </script>        </div>\n",
              "</body>\n",
              "</html>"
            ]
          },
          "metadata": {}
        }
      ],
      "source": [
        "px.histogram(merged_df.sample(100), x= 'char_10_x', title = 'char 10')"
      ]
    },
    {
      "cell_type": "code",
      "execution_count": 33,
      "metadata": {
        "colab": {
          "base_uri": "https://localhost:8080/",
          "height": 542
        },
        "id": "i94A0pJYsw7o",
        "outputId": "6f70acb9-caac-4c90-ca95-852c4035d40c"
      },
      "outputs": [
        {
          "output_type": "display_data",
          "data": {
            "text/html": [
              "<html>\n",
              "<head><meta charset=\"utf-8\" /></head>\n",
              "<body>\n",
              "    <div>            <script src=\"https://cdnjs.cloudflare.com/ajax/libs/mathjax/2.7.5/MathJax.js?config=TeX-AMS-MML_SVG\"></script><script type=\"text/javascript\">if (window.MathJax) {MathJax.Hub.Config({SVG: {font: \"STIX-Web\"}});}</script>                <script type=\"text/javascript\">window.PlotlyConfig = {MathJaxConfig: 'local'};</script>\n",
              "        <script src=\"https://cdn.plot.ly/plotly-2.9.0.min.js\"></script>                <div id=\"ac1a5fe4-c496-4487-8735-848981dda260\" class=\"plotly-graph-div\" style=\"height:525px; width:100%;\"></div>            <script type=\"text/javascript\">                                    window.PLOTLYENV=window.PLOTLYENV || {};                                    if (document.getElementById(\"ac1a5fe4-c496-4487-8735-848981dda260\")) {                    Plotly.newPlot(                        \"ac1a5fe4-c496-4487-8735-848981dda260\",                        [{\"alignmentgroup\":\"True\",\"bingroup\":\"x\",\"histfunc\":\"sum\",\"hovertemplate\":\"char_1_y=%{x}<br>sum of outcome=%{y}<extra></extra>\",\"legendgroup\":\"\",\"marker\":{\"color\":\"#636efa\",\"pattern\":{\"shape\":\"\"}},\"name\":\"\",\"offsetgroup\":\"\",\"orientation\":\"v\",\"showlegend\":false,\"x\":[\"type 2\",\"type 2\",\"type 2\",\"type 2\",\"type 2\",\"type 2\",\"type 1\",\"type 2\",\"type 2\",\"type 2\",\"type 2\",\"type 2\",\"type 2\",\"type 2\",\"type 2\",\"type 2\",\"type 2\",\"type 2\",\"type 2\",\"type 2\",\"type 2\",\"type 2\",\"type 2\",\"type 2\",\"type 2\",\"type 2\",\"type 2\",\"type 2\",\"type 2\",\"type 2\",\"type 2\",\"type 2\",\"type 2\",\"type 2\",\"type 1\",\"type 2\",\"type 2\",\"type 2\",\"type 2\",\"type 2\",\"type 2\",\"type 2\",\"type 2\",\"type 2\",\"type 2\",\"type 2\",\"type 2\",\"type 2\",\"type 2\",\"type 2\",\"type 2\",\"type 2\",\"type 2\",\"type 2\",\"type 2\",\"type 2\",\"type 1\",\"type 2\",\"type 2\",\"type 2\",\"type 1\",\"type 2\",\"type 2\",\"type 2\",\"type 2\",\"type 2\",\"type 2\",\"type 2\",\"type 2\",\"type 2\",\"type 2\",\"type 2\",\"type 2\",\"type 2\",\"type 1\",\"type 2\",\"type 2\",\"type 1\",\"type 2\",\"type 2\",\"type 2\",\"type 2\",\"type 2\",\"type 2\",\"type 1\",\"type 2\",\"type 2\",\"type 2\",\"type 2\",\"type 2\",\"type 2\",\"type 2\",\"type 2\",\"type 2\",\"type 2\",\"type 2\",\"type 2\",\"type 2\",\"type 2\",\"type 2\",\"type 2\",\"type 2\",\"type 2\",\"type 2\",\"type 2\",\"type 2\",\"type 2\",\"type 2\",\"type 2\",\"type 2\",\"type 2\",\"type 2\",\"type 2\",\"type 2\",\"type 2\",\"type 2\",\"type 2\",\"type 2\",\"type 2\",\"type 2\",\"type 2\",\"type 2\",\"type 2\",\"type 2\",\"type 2\",\"type 2\",\"type 2\",\"type 2\",\"type 2\",\"type 2\",\"type 2\",\"type 2\",\"type 2\",\"type 2\",\"type 2\",\"type 2\",\"type 2\",\"type 2\",\"type 2\",\"type 2\",\"type 2\",\"type 2\",\"type 2\",\"type 2\",\"type 2\",\"type 2\",\"type 2\",\"type 2\",\"type 2\",\"type 2\",\"type 2\",\"type 2\",\"type 2\",\"type 2\",\"type 2\",\"type 2\",\"type 2\",\"type 2\",\"type 1\",\"type 2\",\"type 2\",\"type 2\",\"type 2\",\"type 2\",\"type 2\",\"type 2\",\"type 2\",\"type 2\",\"type 2\",\"type 2\",\"type 2\",\"type 2\",\"type 2\",\"type 2\",\"type 2\",\"type 2\",\"type 2\",\"type 2\",\"type 2\",\"type 2\",\"type 2\",\"type 2\",\"type 2\",\"type 1\",\"type 2\",\"type 2\",\"type 2\",\"type 2\",\"type 2\",\"type 2\",\"type 2\",\"type 2\",\"type 2\",\"type 2\",\"type 2\",\"type 2\",\"type 2\",\"type 2\",\"type 2\",\"type 2\",\"type 2\",\"type 2\",\"type 2\",\"type 2\",\"type 2\",\"type 2\",\"type 2\",\"type 2\",\"type 2\",\"type 2\",\"type 2\",\"type 2\",\"type 2\",\"type 2\",\"type 2\",\"type 2\",\"type 2\",\"type 2\",\"type 2\",\"type 2\",\"type 2\",\"type 2\",\"type 2\",\"type 1\",\"type 2\",\"type 2\",\"type 2\",\"type 2\",\"type 2\",\"type 2\",\"type 2\",\"type 1\",\"type 2\",\"type 2\",\"type 2\",\"type 2\",\"type 2\",\"type 2\",\"type 2\",\"type 2\",\"type 2\",\"type 2\",\"type 2\",\"type 2\",\"type 2\",\"type 2\",\"type 2\",\"type 2\",\"type 2\",\"type 2\",\"type 2\",\"type 2\",\"type 2\",\"type 2\",\"type 2\",\"type 2\",\"type 2\",\"type 1\",\"type 2\",\"type 2\",\"type 2\",\"type 2\",\"type 2\",\"type 2\",\"type 1\",\"type 2\",\"type 2\",\"type 2\",\"type 2\",\"type 1\",\"type 2\",\"type 2\",\"type 2\",\"type 2\",\"type 2\",\"type 2\",\"type 1\",\"type 1\",\"type 2\",\"type 2\",\"type 2\",\"type 2\",\"type 2\",\"type 2\",\"type 2\",\"type 2\",\"type 2\",\"type 2\",\"type 2\",\"type 2\",\"type 2\",\"type 2\",\"type 2\",\"type 2\",\"type 2\",\"type 2\",\"type 2\",\"type 2\",\"type 2\",\"type 2\",\"type 2\",\"type 2\",\"type 2\",\"type 2\",\"type 2\",\"type 2\",\"type 2\",\"type 2\",\"type 1\",\"type 2\",\"type 2\",\"type 2\",\"type 2\",\"type 2\",\"type 2\",\"type 2\",\"type 2\",\"type 2\",\"type 2\",\"type 2\",\"type 2\",\"type 2\",\"type 2\",\"type 2\",\"type 1\",\"type 2\",\"type 2\",\"type 2\",\"type 2\",\"type 2\",\"type 2\",\"type 2\",\"type 2\",\"type 2\",\"type 2\",\"type 2\",\"type 2\",\"type 1\",\"type 2\",\"type 2\",\"type 2\",\"type 2\",\"type 2\",\"type 2\",\"type 2\",\"type 2\",\"type 2\",\"type 2\",\"type 2\",\"type 2\",\"type 2\",\"type 2\",\"type 2\",\"type 1\",\"type 2\",\"type 2\",\"type 2\",\"type 2\",\"type 2\",\"type 2\",\"type 2\",\"type 2\",\"type 2\",\"type 2\",\"type 2\",\"type 2\",\"type 2\",\"type 1\",\"type 2\",\"type 2\",\"type 2\",\"type 2\",\"type 2\",\"type 2\",\"type 2\",\"type 2\",\"type 2\",\"type 2\",\"type 2\",\"type 2\",\"type 2\",\"type 2\",\"type 2\",\"type 2\",\"type 2\",\"type 2\",\"type 2\",\"type 2\",\"type 2\",\"type 2\",\"type 2\",\"type 2\",\"type 2\",\"type 2\",\"type 2\",\"type 2\",\"type 2\",\"type 2\",\"type 2\",\"type 2\",\"type 2\",\"type 2\",\"type 2\",\"type 1\",\"type 2\",\"type 2\",\"type 2\",\"type 2\",\"type 2\",\"type 2\",\"type 2\",\"type 2\",\"type 1\",\"type 2\",\"type 2\",\"type 2\",\"type 2\",\"type 2\",\"type 2\",\"type 1\",\"type 2\",\"type 2\",\"type 2\",\"type 2\",\"type 2\",\"type 2\",\"type 2\",\"type 2\",\"type 2\",\"type 2\",\"type 2\",\"type 1\",\"type 2\",\"type 2\",\"type 2\",\"type 2\",\"type 1\",\"type 2\",\"type 2\",\"type 1\",\"type 2\",\"type 2\",\"type 2\",\"type 2\",\"type 2\",\"type 2\",\"type 2\",\"type 2\",\"type 2\",\"type 2\",\"type 2\",\"type 2\",\"type 1\",\"type 2\",\"type 2\",\"type 2\",\"type 2\",\"type 2\",\"type 2\",\"type 2\",\"type 2\",\"type 2\",\"type 2\",\"type 2\",\"type 2\",\"type 1\",\"type 1\",\"type 2\",\"type 2\",\"type 2\",\"type 2\",\"type 2\",\"type 2\",\"type 2\",\"type 2\",\"type 1\",\"type 2\",\"type 2\",\"type 2\",\"type 2\",\"type 2\",\"type 2\",\"type 2\",\"type 1\",\"type 2\",\"type 2\",\"type 2\",\"type 2\",\"type 2\",\"type 2\",\"type 2\",\"type 2\",\"type 2\",\"type 1\",\"type 2\",\"type 2\",\"type 2\",\"type 1\",\"type 2\",\"type 2\",\"type 2\",\"type 2\",\"type 2\",\"type 2\",\"type 2\",\"type 2\",\"type 2\",\"type 2\",\"type 2\",\"type 2\",\"type 2\",\"type 2\",\"type 1\",\"type 2\",\"type 2\",\"type 2\",\"type 2\",\"type 2\",\"type 2\",\"type 2\",\"type 2\",\"type 2\",\"type 2\",\"type 2\",\"type 2\",\"type 2\",\"type 2\",\"type 2\",\"type 2\",\"type 2\",\"type 2\",\"type 2\",\"type 2\",\"type 2\",\"type 2\",\"type 2\",\"type 2\",\"type 2\",\"type 2\",\"type 2\",\"type 2\",\"type 2\",\"type 2\",\"type 2\",\"type 2\",\"type 2\",\"type 2\",\"type 2\",\"type 2\",\"type 2\",\"type 2\",\"type 2\",\"type 2\",\"type 2\",\"type 2\",\"type 2\",\"type 2\",\"type 2\",\"type 2\",\"type 2\",\"type 2\",\"type 2\",\"type 2\",\"type 2\",\"type 2\",\"type 2\",\"type 2\",\"type 2\",\"type 2\",\"type 2\",\"type 2\",\"type 2\",\"type 2\",\"type 2\",\"type 2\",\"type 2\",\"type 2\",\"type 2\",\"type 2\",\"type 2\",\"type 2\",\"type 2\",\"type 2\",\"type 2\",\"type 2\",\"type 2\",\"type 2\",\"type 1\",\"type 2\",\"type 2\",\"type 2\",\"type 2\",\"type 2\",\"type 2\",\"type 2\",\"type 2\",\"type 2\",\"type 2\",\"type 2\",\"type 2\",\"type 2\",\"type 2\",\"type 1\",\"type 2\",\"type 2\",\"type 2\",\"type 2\",\"type 2\",\"type 2\",\"type 1\",\"type 2\",\"type 2\",\"type 2\",\"type 2\",\"type 2\",\"type 2\",\"type 2\",\"type 2\",\"type 2\",\"type 2\",\"type 1\",\"type 2\",\"type 2\",\"type 2\",\"type 2\",\"type 2\",\"type 2\",\"type 1\",\"type 2\",\"type 1\",\"type 2\",\"type 2\",\"type 1\",\"type 2\",\"type 2\",\"type 2\",\"type 2\",\"type 2\",\"type 2\",\"type 2\",\"type 2\",\"type 2\",\"type 2\",\"type 2\",\"type 2\",\"type 2\",\"type 2\",\"type 2\",\"type 2\",\"type 2\",\"type 2\",\"type 2\",\"type 2\",\"type 2\",\"type 2\",\"type 2\",\"type 2\",\"type 1\",\"type 2\",\"type 2\",\"type 2\",\"type 2\",\"type 2\",\"type 1\",\"type 2\",\"type 2\",\"type 2\",\"type 2\",\"type 2\",\"type 2\",\"type 2\",\"type 2\",\"type 2\",\"type 2\",\"type 2\",\"type 2\",\"type 2\",\"type 2\",\"type 2\",\"type 2\",\"type 2\",\"type 2\",\"type 2\",\"type 2\",\"type 2\",\"type 2\",\"type 1\",\"type 2\",\"type 2\",\"type 2\",\"type 2\",\"type 2\",\"type 2\",\"type 2\",\"type 2\",\"type 2\",\"type 2\",\"type 2\",\"type 2\",\"type 2\",\"type 2\",\"type 2\",\"type 2\",\"type 2\",\"type 2\",\"type 1\",\"type 2\",\"type 2\",\"type 2\",\"type 2\",\"type 2\",\"type 2\",\"type 2\",\"type 2\",\"type 2\",\"type 2\",\"type 2\",\"type 2\",\"type 2\",\"type 2\",\"type 2\",\"type 2\",\"type 1\",\"type 2\",\"type 2\",\"type 2\",\"type 2\",\"type 2\",\"type 2\",\"type 2\",\"type 2\",\"type 2\",\"type 2\",\"type 2\",\"type 2\",\"type 2\",\"type 1\",\"type 2\",\"type 2\",\"type 2\",\"type 2\",\"type 1\",\"type 2\",\"type 1\",\"type 2\",\"type 2\",\"type 2\",\"type 2\",\"type 2\",\"type 2\",\"type 2\",\"type 2\",\"type 2\",\"type 2\",\"type 2\",\"type 2\",\"type 2\",\"type 1\",\"type 2\",\"type 2\",\"type 2\",\"type 2\",\"type 2\",\"type 2\",\"type 2\",\"type 2\",\"type 2\",\"type 2\",\"type 2\",\"type 2\",\"type 2\",\"type 2\",\"type 2\",\"type 2\",\"type 2\",\"type 2\",\"type 2\",\"type 2\",\"type 2\",\"type 2\",\"type 2\",\"type 2\",\"type 2\",\"type 2\",\"type 2\",\"type 2\",\"type 2\",\"type 2\",\"type 2\",\"type 2\",\"type 2\",\"type 2\",\"type 2\",\"type 2\",\"type 2\",\"type 2\",\"type 2\",\"type 2\",\"type 2\",\"type 2\",\"type 2\",\"type 2\",\"type 2\",\"type 1\",\"type 2\",\"type 2\",\"type 2\",\"type 2\",\"type 2\",\"type 1\",\"type 2\",\"type 2\",\"type 2\",\"type 2\",\"type 2\",\"type 2\",\"type 2\",\"type 2\",\"type 2\",\"type 2\",\"type 2\",\"type 2\",\"type 1\",\"type 2\",\"type 2\",\"type 2\",\"type 2\",\"type 2\",\"type 2\",\"type 2\",\"type 2\",\"type 2\",\"type 2\",\"type 2\",\"type 2\",\"type 2\",\"type 2\",\"type 2\",\"type 2\",\"type 2\",\"type 2\",\"type 2\",\"type 2\",\"type 2\",\"type 2\",\"type 2\",\"type 2\",\"type 2\",\"type 2\",\"type 2\",\"type 2\",\"type 1\",\"type 2\",\"type 2\",\"type 2\",\"type 2\",\"type 2\",\"type 2\",\"type 2\",\"type 2\",\"type 2\",\"type 2\",\"type 2\",\"type 2\",\"type 1\",\"type 2\",\"type 1\",\"type 2\",\"type 2\",\"type 2\",\"type 2\",\"type 2\",\"type 1\",\"type 2\",\"type 2\",\"type 2\",\"type 1\",\"type 2\",\"type 2\",\"type 2\",\"type 2\",\"type 1\",\"type 2\",\"type 2\",\"type 2\",\"type 2\",\"type 2\",\"type 2\",\"type 2\",\"type 2\",\"type 2\",\"type 2\",\"type 2\",\"type 2\",\"type 2\",\"type 2\",\"type 2\",\"type 2\",\"type 2\",\"type 2\",\"type 2\",\"type 2\",\"type 2\",\"type 2\",\"type 2\",\"type 2\",\"type 1\",\"type 1\",\"type 2\",\"type 2\",\"type 2\",\"type 2\",\"type 1\",\"type 2\",\"type 2\",\"type 2\",\"type 2\",\"type 2\",\"type 2\",\"type 2\",\"type 2\",\"type 2\",\"type 2\",\"type 2\",\"type 2\",\"type 1\",\"type 2\",\"type 2\",\"type 2\",\"type 2\",\"type 2\",\"type 2\",\"type 2\",\"type 2\",\"type 2\",\"type 2\",\"type 2\",\"type 2\",\"type 2\",\"type 2\",\"type 2\",\"type 1\",\"type 2\",\"type 2\",\"type 2\",\"type 1\",\"type 2\",\"type 2\",\"type 2\",\"type 2\",\"type 2\",\"type 2\",\"type 2\",\"type 2\",\"type 2\",\"type 1\",\"type 2\",\"type 2\",\"type 2\",\"type 2\",\"type 2\",\"type 2\",\"type 2\",\"type 2\",\"type 2\",\"type 1\",\"type 1\",\"type 2\",\"type 2\",\"type 2\",\"type 2\",\"type 1\",\"type 2\",\"type 2\",\"type 2\",\"type 2\",\"type 2\",\"type 2\",\"type 2\",\"type 2\",\"type 2\",\"type 2\",\"type 2\",\"type 2\",\"type 2\",\"type 2\",\"type 2\",\"type 2\",\"type 2\",\"type 2\",\"type 2\",\"type 2\",\"type 2\",\"type 2\",\"type 2\",\"type 2\",\"type 2\",\"type 2\",\"type 2\",\"type 2\"],\"xaxis\":\"x\",\"y\":[1,1,1,0,0,0,1,1,0,0,0,1,0,0,1,0,0,0,1,1,1,0,1,0,0,0,0,0,0,1,0,1,0,1,1,1,1,1,1,0,0,0,0,1,0,0,1,1,0,0,0,1,1,1,0,0,0,0,1,0,1,0,0,0,0,0,1,0,1,0,1,1,0,0,1,0,0,1,1,1,0,1,0,0,1,1,0,0,1,1,0,1,0,1,0,1,0,0,1,1,1,1,0,0,0,1,1,1,0,1,0,0,1,0,0,1,0,0,0,0,1,0,0,0,0,1,1,0,0,0,0,0,0,0,1,0,0,0,1,1,0,0,0,1,1,0,0,1,0,0,1,0,0,1,0,0,1,1,0,0,0,1,0,0,0,1,0,1,0,0,1,0,0,0,1,0,0,1,1,0,1,1,0,1,1,0,1,0,1,1,0,0,0,0,0,0,0,0,0,1,0,1,1,0,0,1,0,1,1,1,0,0,1,0,0,0,1,1,1,1,1,1,0,1,0,0,0,1,0,0,1,1,0,0,1,0,0,0,0,0,0,1,1,0,1,0,0,0,0,1,1,1,0,0,0,1,1,1,1,1,0,1,0,1,0,0,1,0,0,0,0,1,1,1,1,0,1,1,1,1,0,0,1,0,1,1,1,1,0,0,0,0,0,0,1,0,0,1,0,1,0,1,0,0,0,1,1,1,0,0,0,1,0,0,0,0,0,0,0,1,1,1,1,0,0,0,0,0,1,1,0,1,0,0,0,1,1,1,0,0,0,1,0,0,0,1,0,0,0,1,0,0,0,1,0,0,0,1,1,1,0,1,0,0,1,1,0,1,0,0,0,1,1,1,0,0,0,1,1,0,0,1,1,1,1,0,0,0,1,0,0,0,0,1,1,0,1,0,0,1,0,0,1,1,1,0,1,0,0,0,1,1,0,1,0,0,1,0,1,0,1,0,1,1,1,1,1,1,0,1,0,0,1,0,1,0,0,1,1,1,1,1,0,0,0,0,0,0,0,0,1,1,0,1,0,1,0,1,0,0,1,0,1,0,1,0,1,0,1,0,0,0,0,0,1,1,1,0,1,0,0,1,0,1,0,1,1,0,0,1,1,1,0,0,0,0,0,1,1,0,1,0,1,0,0,0,0,1,0,1,1,0,1,0,1,0,1,0,1,1,1,1,1,1,0,0,0,1,0,0,0,1,1,0,1,0,0,0,0,0,0,1,1,0,0,1,1,0,1,0,0,1,0,1,0,0,1,1,0,1,0,0,0,1,0,0,0,1,0,0,0,1,1,0,0,1,0,1,0,1,1,0,1,1,1,1,1,1,0,0,0,0,0,0,1,1,1,0,0,0,0,0,0,1,0,1,0,0,0,1,0,1,0,0,0,1,0,1,0,0,1,1,1,1,1,0,1,0,0,0,0,1,0,0,0,1,0,0,0,1,1,0,0,1,0,0,1,1,0,0,0,1,1,1,0,0,1,1,0,0,1,0,0,1,0,0,1,0,1,1,0,0,1,1,1,0,1,1,0,0,0,1,0,1,1,0,0,0,0,0,0,0,0,0,1,0,1,1,0,1,1,0,1,0,1,1,1,0,0,0,1,1,0,0,1,0,0,1,0,0,0,0,0,0,1,0,0,0,1,0,1,0,0,0,1,1,1,1,1,0,1,1,0,0,0,0,0,0,0,0,1,1,1,0,1,0,1,1,0,0,0,1,0,0,0,1,0,1,0,1,1,0,0,0,0,1,1,1,1,0,1,0,0,1,0,0,0,1,1,0,0,1,0,0,0,1,1,0,0,1,0,0,1,0,0,0,1,1,0,1,1,1,1,1,0,0,1,1,0,1,0,0,0,1,0,0,0,0,0,0,1,1,0,1,1,0,1,1,0,1,0,0,0,0,1,0,0,1,1,0,1,1,0,1,0,1,1,1,0,1,1,0,1,1,1,1,1,0,1,1,0,0,1,1,0,0,0,0,0,1,1,0,0,1,1,0,1,0,1,1,0,0,1,1,0,0,0,1,0,1,0,0,0,1,0,1,1,1,1,1,1,1,0,1,0,1,0,1,0,0,0,1,1,0,0,1,1,0,1,1,0,0,0,1,0,1,0,0,1,0,0,1,0,0,0,1,0,1,0,0,1,1,0,1,0,1,1,0,0,1,0,0,0,1,0,1,1,1,0,1,0,1,0,0,0,0,1,1,1,0,0,1,1,0,0,0,1,1,0,0,0,1,0,0,0,1,1,0,0,1],\"yaxis\":\"y\",\"type\":\"histogram\"}],                        {\"template\":{\"data\":{\"bar\":[{\"error_x\":{\"color\":\"#2a3f5f\"},\"error_y\":{\"color\":\"#2a3f5f\"},\"marker\":{\"line\":{\"color\":\"#E5ECF6\",\"width\":0.5},\"pattern\":{\"fillmode\":\"overlay\",\"size\":10,\"solidity\":0.2}},\"type\":\"bar\"}],\"barpolar\":[{\"marker\":{\"line\":{\"color\":\"#E5ECF6\",\"width\":0.5},\"pattern\":{\"fillmode\":\"overlay\",\"size\":10,\"solidity\":0.2}},\"type\":\"barpolar\"}],\"carpet\":[{\"aaxis\":{\"endlinecolor\":\"#2a3f5f\",\"gridcolor\":\"white\",\"linecolor\":\"white\",\"minorgridcolor\":\"white\",\"startlinecolor\":\"#2a3f5f\"},\"baxis\":{\"endlinecolor\":\"#2a3f5f\",\"gridcolor\":\"white\",\"linecolor\":\"white\",\"minorgridcolor\":\"white\",\"startlinecolor\":\"#2a3f5f\"},\"type\":\"carpet\"}],\"choropleth\":[{\"colorbar\":{\"outlinewidth\":0,\"ticks\":\"\"},\"type\":\"choropleth\"}],\"contour\":[{\"colorbar\":{\"outlinewidth\":0,\"ticks\":\"\"},\"colorscale\":[[0.0,\"#0d0887\"],[0.1111111111111111,\"#46039f\"],[0.2222222222222222,\"#7201a8\"],[0.3333333333333333,\"#9c179e\"],[0.4444444444444444,\"#bd3786\"],[0.5555555555555556,\"#d8576b\"],[0.6666666666666666,\"#ed7953\"],[0.7777777777777778,\"#fb9f3a\"],[0.8888888888888888,\"#fdca26\"],[1.0,\"#f0f921\"]],\"type\":\"contour\"}],\"contourcarpet\":[{\"colorbar\":{\"outlinewidth\":0,\"ticks\":\"\"},\"type\":\"contourcarpet\"}],\"heatmap\":[{\"colorbar\":{\"outlinewidth\":0,\"ticks\":\"\"},\"colorscale\":[[0.0,\"#0d0887\"],[0.1111111111111111,\"#46039f\"],[0.2222222222222222,\"#7201a8\"],[0.3333333333333333,\"#9c179e\"],[0.4444444444444444,\"#bd3786\"],[0.5555555555555556,\"#d8576b\"],[0.6666666666666666,\"#ed7953\"],[0.7777777777777778,\"#fb9f3a\"],[0.8888888888888888,\"#fdca26\"],[1.0,\"#f0f921\"]],\"type\":\"heatmap\"}],\"heatmapgl\":[{\"colorbar\":{\"outlinewidth\":0,\"ticks\":\"\"},\"colorscale\":[[0.0,\"#0d0887\"],[0.1111111111111111,\"#46039f\"],[0.2222222222222222,\"#7201a8\"],[0.3333333333333333,\"#9c179e\"],[0.4444444444444444,\"#bd3786\"],[0.5555555555555556,\"#d8576b\"],[0.6666666666666666,\"#ed7953\"],[0.7777777777777778,\"#fb9f3a\"],[0.8888888888888888,\"#fdca26\"],[1.0,\"#f0f921\"]],\"type\":\"heatmapgl\"}],\"histogram\":[{\"marker\":{\"pattern\":{\"fillmode\":\"overlay\",\"size\":10,\"solidity\":0.2}},\"type\":\"histogram\"}],\"histogram2d\":[{\"colorbar\":{\"outlinewidth\":0,\"ticks\":\"\"},\"colorscale\":[[0.0,\"#0d0887\"],[0.1111111111111111,\"#46039f\"],[0.2222222222222222,\"#7201a8\"],[0.3333333333333333,\"#9c179e\"],[0.4444444444444444,\"#bd3786\"],[0.5555555555555556,\"#d8576b\"],[0.6666666666666666,\"#ed7953\"],[0.7777777777777778,\"#fb9f3a\"],[0.8888888888888888,\"#fdca26\"],[1.0,\"#f0f921\"]],\"type\":\"histogram2d\"}],\"histogram2dcontour\":[{\"colorbar\":{\"outlinewidth\":0,\"ticks\":\"\"},\"colorscale\":[[0.0,\"#0d0887\"],[0.1111111111111111,\"#46039f\"],[0.2222222222222222,\"#7201a8\"],[0.3333333333333333,\"#9c179e\"],[0.4444444444444444,\"#bd3786\"],[0.5555555555555556,\"#d8576b\"],[0.6666666666666666,\"#ed7953\"],[0.7777777777777778,\"#fb9f3a\"],[0.8888888888888888,\"#fdca26\"],[1.0,\"#f0f921\"]],\"type\":\"histogram2dcontour\"}],\"mesh3d\":[{\"colorbar\":{\"outlinewidth\":0,\"ticks\":\"\"},\"type\":\"mesh3d\"}],\"parcoords\":[{\"line\":{\"colorbar\":{\"outlinewidth\":0,\"ticks\":\"\"}},\"type\":\"parcoords\"}],\"pie\":[{\"automargin\":true,\"type\":\"pie\"}],\"scatter\":[{\"marker\":{\"colorbar\":{\"outlinewidth\":0,\"ticks\":\"\"}},\"type\":\"scatter\"}],\"scatter3d\":[{\"line\":{\"colorbar\":{\"outlinewidth\":0,\"ticks\":\"\"}},\"marker\":{\"colorbar\":{\"outlinewidth\":0,\"ticks\":\"\"}},\"type\":\"scatter3d\"}],\"scattercarpet\":[{\"marker\":{\"colorbar\":{\"outlinewidth\":0,\"ticks\":\"\"}},\"type\":\"scattercarpet\"}],\"scattergeo\":[{\"marker\":{\"colorbar\":{\"outlinewidth\":0,\"ticks\":\"\"}},\"type\":\"scattergeo\"}],\"scattergl\":[{\"marker\":{\"colorbar\":{\"outlinewidth\":0,\"ticks\":\"\"}},\"type\":\"scattergl\"}],\"scattermapbox\":[{\"marker\":{\"colorbar\":{\"outlinewidth\":0,\"ticks\":\"\"}},\"type\":\"scattermapbox\"}],\"scatterpolar\":[{\"marker\":{\"colorbar\":{\"outlinewidth\":0,\"ticks\":\"\"}},\"type\":\"scatterpolar\"}],\"scatterpolargl\":[{\"marker\":{\"colorbar\":{\"outlinewidth\":0,\"ticks\":\"\"}},\"type\":\"scatterpolargl\"}],\"scatterternary\":[{\"marker\":{\"colorbar\":{\"outlinewidth\":0,\"ticks\":\"\"}},\"type\":\"scatterternary\"}],\"surface\":[{\"colorbar\":{\"outlinewidth\":0,\"ticks\":\"\"},\"colorscale\":[[0.0,\"#0d0887\"],[0.1111111111111111,\"#46039f\"],[0.2222222222222222,\"#7201a8\"],[0.3333333333333333,\"#9c179e\"],[0.4444444444444444,\"#bd3786\"],[0.5555555555555556,\"#d8576b\"],[0.6666666666666666,\"#ed7953\"],[0.7777777777777778,\"#fb9f3a\"],[0.8888888888888888,\"#fdca26\"],[1.0,\"#f0f921\"]],\"type\":\"surface\"}],\"table\":[{\"cells\":{\"fill\":{\"color\":\"#EBF0F8\"},\"line\":{\"color\":\"white\"}},\"header\":{\"fill\":{\"color\":\"#C8D4E3\"},\"line\":{\"color\":\"white\"}},\"type\":\"table\"}]},\"layout\":{\"annotationdefaults\":{\"arrowcolor\":\"#2a3f5f\",\"arrowhead\":0,\"arrowwidth\":1},\"autotypenumbers\":\"strict\",\"coloraxis\":{\"colorbar\":{\"outlinewidth\":0,\"ticks\":\"\"}},\"colorscale\":{\"diverging\":[[0,\"#8e0152\"],[0.1,\"#c51b7d\"],[0.2,\"#de77ae\"],[0.3,\"#f1b6da\"],[0.4,\"#fde0ef\"],[0.5,\"#f7f7f7\"],[0.6,\"#e6f5d0\"],[0.7,\"#b8e186\"],[0.8,\"#7fbc41\"],[0.9,\"#4d9221\"],[1,\"#276419\"]],\"sequential\":[[0.0,\"#0d0887\"],[0.1111111111111111,\"#46039f\"],[0.2222222222222222,\"#7201a8\"],[0.3333333333333333,\"#9c179e\"],[0.4444444444444444,\"#bd3786\"],[0.5555555555555556,\"#d8576b\"],[0.6666666666666666,\"#ed7953\"],[0.7777777777777778,\"#fb9f3a\"],[0.8888888888888888,\"#fdca26\"],[1.0,\"#f0f921\"]],\"sequentialminus\":[[0.0,\"#0d0887\"],[0.1111111111111111,\"#46039f\"],[0.2222222222222222,\"#7201a8\"],[0.3333333333333333,\"#9c179e\"],[0.4444444444444444,\"#bd3786\"],[0.5555555555555556,\"#d8576b\"],[0.6666666666666666,\"#ed7953\"],[0.7777777777777778,\"#fb9f3a\"],[0.8888888888888888,\"#fdca26\"],[1.0,\"#f0f921\"]]},\"colorway\":[\"#636efa\",\"#EF553B\",\"#00cc96\",\"#ab63fa\",\"#FFA15A\",\"#19d3f3\",\"#FF6692\",\"#B6E880\",\"#FF97FF\",\"#FECB52\"],\"font\":{\"color\":\"#2a3f5f\"},\"geo\":{\"bgcolor\":\"white\",\"lakecolor\":\"white\",\"landcolor\":\"#E5ECF6\",\"showlakes\":true,\"showland\":true,\"subunitcolor\":\"white\"},\"hoverlabel\":{\"align\":\"left\"},\"hovermode\":\"closest\",\"mapbox\":{\"style\":\"light\"},\"paper_bgcolor\":\"white\",\"plot_bgcolor\":\"#E5ECF6\",\"polar\":{\"angularaxis\":{\"gridcolor\":\"white\",\"linecolor\":\"white\",\"ticks\":\"\"},\"bgcolor\":\"#E5ECF6\",\"radialaxis\":{\"gridcolor\":\"white\",\"linecolor\":\"white\",\"ticks\":\"\"}},\"scene\":{\"xaxis\":{\"backgroundcolor\":\"#E5ECF6\",\"gridcolor\":\"white\",\"gridwidth\":2,\"linecolor\":\"white\",\"showbackground\":true,\"ticks\":\"\",\"zerolinecolor\":\"white\"},\"yaxis\":{\"backgroundcolor\":\"#E5ECF6\",\"gridcolor\":\"white\",\"gridwidth\":2,\"linecolor\":\"white\",\"showbackground\":true,\"ticks\":\"\",\"zerolinecolor\":\"white\"},\"zaxis\":{\"backgroundcolor\":\"#E5ECF6\",\"gridcolor\":\"white\",\"gridwidth\":2,\"linecolor\":\"white\",\"showbackground\":true,\"ticks\":\"\",\"zerolinecolor\":\"white\"}},\"shapedefaults\":{\"line\":{\"color\":\"#2a3f5f\"}},\"ternary\":{\"aaxis\":{\"gridcolor\":\"white\",\"linecolor\":\"white\",\"ticks\":\"\"},\"baxis\":{\"gridcolor\":\"white\",\"linecolor\":\"white\",\"ticks\":\"\"},\"bgcolor\":\"#E5ECF6\",\"caxis\":{\"gridcolor\":\"white\",\"linecolor\":\"white\",\"ticks\":\"\"}},\"title\":{\"x\":0.05},\"xaxis\":{\"automargin\":true,\"gridcolor\":\"white\",\"linecolor\":\"white\",\"ticks\":\"\",\"title\":{\"standoff\":15},\"zerolinecolor\":\"white\",\"zerolinewidth\":2},\"yaxis\":{\"automargin\":true,\"gridcolor\":\"white\",\"linecolor\":\"white\",\"ticks\":\"\",\"title\":{\"standoff\":15},\"zerolinecolor\":\"white\",\"zerolinewidth\":2}}},\"xaxis\":{\"anchor\":\"y\",\"domain\":[0.0,1.0],\"title\":{\"text\":\"char_1_y\"}},\"yaxis\":{\"anchor\":\"x\",\"domain\":[0.0,1.0],\"title\":{\"text\":\"sum of outcome\"}},\"legend\":{\"tracegroupgap\":0},\"title\":{\"text\":\"char_1_y vS Outcome\"},\"barmode\":\"relative\"},                        {\"responsive\": true}                    ).then(function(){\n",
              "                            \n",
              "var gd = document.getElementById('ac1a5fe4-c496-4487-8735-848981dda260');\n",
              "var x = new MutationObserver(function (mutations, observer) {{\n",
              "        var display = window.getComputedStyle(gd).display;\n",
              "        if (!display || display === 'none') {{\n",
              "            console.log([gd, 'removed!']);\n",
              "            Plotly.purge(gd);\n",
              "            observer.disconnect();\n",
              "        }}\n",
              "}});\n",
              "\n",
              "// Listen for the removal of the full notebook cells\n",
              "var notebookContainer = gd.closest('#notebook-container');\n",
              "if (notebookContainer) {{\n",
              "    x.observe(notebookContainer, {childList: true});\n",
              "}}\n",
              "\n",
              "// Listen for the clearing of the current output cell\n",
              "var outputEl = gd.closest('.output');\n",
              "if (outputEl) {{\n",
              "    x.observe(outputEl, {childList: true});\n",
              "}}\n",
              "\n",
              "                        })                };                            </script>        </div>\n",
              "</body>\n",
              "</html>"
            ]
          },
          "metadata": {}
        }
      ],
      "source": [
        "px.histogram(merged_df.sample(1000), x= 'char_1_y', y= 'outcome', title = 'char_1_y vS Outcome')\n"
      ]
    },
    {
      "cell_type": "code",
      "execution_count": 34,
      "metadata": {
        "colab": {
          "base_uri": "https://localhost:8080/",
          "height": 542
        },
        "id": "FpoT4zq-tTmY",
        "outputId": "62eb2fd8-faa0-4eb1-f4de-437a59807102"
      },
      "outputs": [
        {
          "output_type": "display_data",
          "data": {
            "text/html": [
              "<html>\n",
              "<head><meta charset=\"utf-8\" /></head>\n",
              "<body>\n",
              "    <div>            <script src=\"https://cdnjs.cloudflare.com/ajax/libs/mathjax/2.7.5/MathJax.js?config=TeX-AMS-MML_SVG\"></script><script type=\"text/javascript\">if (window.MathJax) {MathJax.Hub.Config({SVG: {font: \"STIX-Web\"}});}</script>                <script type=\"text/javascript\">window.PlotlyConfig = {MathJaxConfig: 'local'};</script>\n",
              "        <script src=\"https://cdn.plot.ly/plotly-2.9.0.min.js\"></script>                <div id=\"1bc1a34f-d06c-4c63-b458-c5850992d538\" class=\"plotly-graph-div\" style=\"height:525px; width:100%;\"></div>            <script type=\"text/javascript\">                                    window.PLOTLYENV=window.PLOTLYENV || {};                                    if (document.getElementById(\"1bc1a34f-d06c-4c63-b458-c5850992d538\")) {                    Plotly.newPlot(                        \"1bc1a34f-d06c-4c63-b458-c5850992d538\",                        [{\"alignmentgroup\":\"True\",\"bingroup\":\"x\",\"histfunc\":\"sum\",\"hovertemplate\":\"char_5_y=%{x}<br>sum of outcome=%{y}<extra></extra>\",\"legendgroup\":\"\",\"marker\":{\"color\":\"#636efa\",\"pattern\":{\"shape\":\"\"}},\"name\":\"\",\"offsetgroup\":\"\",\"orientation\":\"v\",\"showlegend\":false,\"x\":[\"type 7\",\"type 9\",\"type 9\",\"type 9\",\"type 6\",\"type 5\",\"type 9\",\"type 2\",\"type 9\",\"type 7\",\"type 9\",\"type 5\",\"type 6\",\"type 5\",\"type 2\",\"type 5\",\"type 6\",\"type 9\",\"type 4\",\"type 4\",\"type 7\",\"type 2\",\"type 2\",\"type 5\",\"type 7\",\"type 2\",\"type 7\",\"type 7\",\"type 1\",\"type 9\",\"type 4\",\"type 2\",\"type 2\",\"type 9\",\"type 2\",\"type 5\",\"type 3\",\"type 2\",\"type 5\",\"type 7\",\"type 4\",\"type 9\",\"type 9\",\"type 2\",\"type 2\",\"type 2\",\"type 5\",\"type 9\",\"type 4\",\"type 3\",\"type 2\",\"type 4\",\"type 9\",\"type 4\",\"type 1\",\"type 2\",\"type 5\",\"type 7\",\"type 2\",\"type 4\",\"type 9\",\"type 9\",\"type 2\",\"type 3\",\"type 2\",\"type 2\",\"type 6\",\"type 2\",\"type 8\",\"type 5\",\"type 5\",\"type 6\",\"type 5\",\"type 2\",\"type 9\",\"type 9\",\"type 2\",\"type 5\",\"type 8\",\"type 9\",\"type 4\",\"type 9\",\"type 3\",\"type 6\",\"type 2\",\"type 8\",\"type 9\",\"type 9\",\"type 2\",\"type 6\",\"type 6\",\"type 4\",\"type 8\",\"type 2\",\"type 5\",\"type 1\",\"type 5\",\"type 9\",\"type 2\",\"type 2\",\"type 2\",\"type 4\",\"type 9\",\"type 7\",\"type 2\",\"type 4\",\"type 9\",\"type 9\",\"type 9\",\"type 4\",\"type 9\",\"type 9\",\"type 9\",\"type 7\",\"type 9\",\"type 2\",\"type 9\",\"type 9\",\"type 5\",\"type 2\",\"type 5\",\"type 9\",\"type 9\",\"type 6\",\"type 9\",\"type 7\",\"type 2\",\"type 9\",\"type 4\",\"type 9\",\"type 2\",\"type 2\",\"type 9\",\"type 7\",\"type 8\",\"type 7\",\"type 9\",\"type 9\",\"type 9\",\"type 8\",\"type 7\",\"type 9\",\"type 7\",\"type 9\",\"type 9\",\"type 3\",\"type 5\",\"type 4\",\"type 9\",\"type 9\",\"type 9\",\"type 9\",\"type 2\",\"type 9\",\"type 4\",\"type 2\",\"type 9\",\"type 9\",\"type 9\",\"type 9\",\"type 5\",\"type 6\",\"type 7\",\"type 9\",\"type 9\",\"type 9\",\"type 7\",\"type 9\",\"type 5\",\"type 9\",\"type 5\",\"type 2\",\"type 2\",\"type 9\",\"type 8\",\"type 9\",\"type 4\",\"type 7\",\"type 7\",\"type 6\",\"type 2\",\"type 9\",\"type 3\",\"type 9\",\"type 2\",\"type 4\",\"type 2\",\"type 9\",\"type 5\",\"type 8\",\"type 9\",\"type 7\",\"type 4\",\"type 3\",\"type 4\",\"type 5\",\"type 4\",\"type 9\",\"type 2\",\"type 2\",\"type 9\",\"type 6\",\"type 9\",\"type 9\",\"type 2\",\"type 1\",\"type 8\",\"type 9\",\"type 5\",\"type 9\",\"type 3\",\"type 9\",\"type 5\",\"type 2\",\"type 5\",\"type 5\",\"type 9\",\"type 7\",\"type 9\",\"type 7\",\"type 9\",\"type 8\",\"type 2\",\"type 5\",\"type 8\",\"type 9\",\"type 2\",\"type 6\",\"type 9\",\"type 2\",\"type 3\",\"type 9\",\"type 2\",\"type 5\",\"type 9\",\"type 7\",\"type 2\",\"type 9\",\"type 5\",\"type 2\",\"type 9\",\"type 9\",\"type 3\",\"type 7\",\"type 9\",\"type 7\",\"type 4\",\"type 4\",\"type 9\",\"type 4\",\"type 4\",\"type 5\",\"type 4\",\"type 5\",\"type 9\",\"type 9\",\"type 5\",\"type 9\",\"type 2\",\"type 5\",\"type 9\",\"type 9\",\"type 3\",\"type 9\",\"type 2\",\"type 1\",\"type 5\",\"type 4\",\"type 7\",\"type 8\",\"type 5\",\"type 9\",\"type 9\",\"type 9\",\"type 2\",\"type 2\",\"type 9\",\"type 4\",\"type 9\",\"type 9\",\"type 1\",\"type 9\",\"type 4\",\"type 9\",\"type 2\",\"type 4\",\"type 5\",\"type 4\",\"type 9\",\"type 5\",\"type 2\",\"type 9\",\"type 9\",\"type 5\",\"type 7\",\"type 2\",\"type 7\",\"type 4\",\"type 9\",\"type 3\",\"type 2\",\"type 7\",\"type 7\",\"type 9\",\"type 3\",\"type 7\",\"type 9\",\"type 3\",\"type 6\",\"type 2\",\"type 3\",\"type 8\",\"type 4\",\"type 9\",\"type 3\",\"type 9\",\"type 9\",\"type 9\",\"type 8\",\"type 4\",\"type 1\",\"type 9\",\"type 7\",\"type 9\",\"type 5\",\"type 2\",\"type 2\",\"type 3\",\"type 2\",\"type 9\",\"type 2\",\"type 9\",\"type 2\",\"type 4\",\"type 5\",\"type 2\",\"type 4\",\"type 2\",\"type 7\",\"type 5\",\"type 6\",\"type 8\",\"type 9\",\"type 6\",\"type 6\",\"type 3\",\"type 9\",\"type 9\",\"type 9\",\"type 2\",\"type 9\",\"type 2\",\"type 9\",\"type 3\",\"type 4\",\"type 9\",\"type 5\",\"type 2\",\"type 4\",\"type 4\",\"type 4\",\"type 4\",\"type 2\",\"type 9\",\"type 7\",\"type 7\",\"type 9\",\"type 2\",\"type 4\",\"type 9\",\"type 9\",\"type 9\",\"type 2\",\"type 9\",\"type 9\",\"type 4\",\"type 8\",\"type 7\",\"type 9\",\"type 2\",\"type 4\",\"type 9\",\"type 2\",\"type 3\",\"type 6\",\"type 7\",\"type 5\",\"type 3\",\"type 2\",\"type 9\",\"type 9\",\"type 2\",\"type 9\",\"type 5\",\"type 2\",\"type 9\",\"type 9\",\"type 5\",\"type 1\",\"type 5\",\"type 3\",\"type 9\",\"type 4\",\"type 3\",\"type 8\",\"type 4\",\"type 9\",\"type 9\",\"type 5\",\"type 9\",\"type 3\",\"type 5\",\"type 5\",\"type 3\",\"type 9\",\"type 5\",\"type 4\",\"type 2\",\"type 2\",\"type 2\",\"type 4\",\"type 2\",\"type 5\",\"type 7\",\"type 2\",\"type 3\",\"type 2\",\"type 6\",\"type 4\",\"type 9\",\"type 2\",\"type 2\",\"type 4\",\"type 9\",\"type 2\",\"type 2\",\"type 3\",\"type 9\",\"type 9\",\"type 5\",\"type 6\",\"type 9\",\"type 4\",\"type 9\",\"type 2\",\"type 9\",\"type 8\",\"type 2\",\"type 2\",\"type 5\",\"type 4\",\"type 9\",\"type 5\",\"type 9\",\"type 3\",\"type 9\",\"type 2\",\"type 9\",\"type 9\",\"type 1\",\"type 5\",\"type 4\",\"type 5\",\"type 8\",\"type 7\",\"type 3\",\"type 4\",\"type 9\",\"type 5\",\"type 9\",\"type 9\",\"type 9\",\"type 9\",\"type 9\",\"type 5\",\"type 1\",\"type 5\",\"type 9\",\"type 7\",\"type 7\",\"type 2\",\"type 2\",\"type 3\",\"type 6\",\"type 2\",\"type 4\",\"type 5\",\"type 5\",\"type 7\",\"type 2\",\"type 5\",\"type 9\",\"type 9\",\"type 9\",\"type 8\",\"type 5\",\"type 5\",\"type 2\",\"type 3\",\"type 4\",\"type 9\",\"type 9\",\"type 5\",\"type 9\",\"type 4\",\"type 4\",\"type 5\",\"type 2\",\"type 5\",\"type 2\",\"type 5\",\"type 9\",\"type 5\",\"type 1\",\"type 5\",\"type 8\",\"type 5\",\"type 7\",\"type 3\",\"type 5\",\"type 2\",\"type 9\",\"type 3\",\"type 5\",\"type 9\",\"type 8\",\"type 5\",\"type 6\",\"type 9\",\"type 9\",\"type 5\",\"type 9\",\"type 9\",\"type 9\",\"type 3\",\"type 2\",\"type 2\",\"type 9\",\"type 5\",\"type 2\",\"type 3\",\"type 9\",\"type 2\",\"type 1\",\"type 6\",\"type 9\",\"type 9\",\"type 6\",\"type 6\",\"type 5\",\"type 8\",\"type 5\",\"type 6\",\"type 6\",\"type 2\",\"type 5\",\"type 7\",\"type 9\",\"type 8\",\"type 4\",\"type 9\",\"type 9\",\"type 9\",\"type 5\",\"type 9\",\"type 1\",\"type 4\",\"type 4\",\"type 5\",\"type 7\",\"type 9\",\"type 2\",\"type 3\",\"type 9\",\"type 4\",\"type 9\",\"type 1\",\"type 3\",\"type 5\",\"type 3\",\"type 7\",\"type 2\",\"type 4\",\"type 5\",\"type 2\",\"type 3\",\"type 9\",\"type 8\",\"type 4\",\"type 5\",\"type 9\",\"type 9\",\"type 8\",\"type 5\",\"type 9\",\"type 2\",\"type 5\",\"type 9\",\"type 2\",\"type 3\",\"type 8\",\"type 4\",\"type 9\",\"type 8\",\"type 6\",\"type 6\",\"type 9\",\"type 5\",\"type 7\",\"type 4\",\"type 9\",\"type 5\",\"type 5\",\"type 9\",\"type 9\",\"type 2\",\"type 9\",\"type 2\",\"type 5\",\"type 2\",\"type 5\",\"type 4\",\"type 4\",\"type 9\",\"type 9\",\"type 2\",\"type 9\",\"type 3\",\"type 2\",\"type 2\",\"type 7\",\"type 5\",\"type 3\",\"type 4\",\"type 2\",\"type 9\",\"type 9\",\"type 7\",\"type 9\",\"type 2\",\"type 2\",\"type 9\",\"type 3\",\"type 4\",\"type 2\",\"type 7\",\"type 2\",\"type 9\",\"type 9\",\"type 9\",\"type 6\",\"type 9\",\"type 4\",\"type 9\",\"type 5\",\"type 2\",\"type 2\",\"type 9\",\"type 2\",\"type 9\",\"type 2\",\"type 2\",\"type 3\",\"type 6\",\"type 2\",\"type 5\",\"type 9\",\"type 3\",\"type 9\",\"type 9\",\"type 9\",\"type 5\",\"type 3\",\"type 6\",\"type 5\",\"type 5\",\"type 7\",\"type 9\",\"type 2\",\"type 8\",\"type 4\",\"type 8\",\"type 3\",\"type 4\",\"type 9\",\"type 1\",\"type 5\",\"type 5\",\"type 7\",\"type 9\",\"type 6\",\"type 2\",\"type 5\",\"type 6\",\"type 3\",\"type 4\",\"type 9\",\"type 3\",\"type 7\",\"type 2\",\"type 4\",\"type 5\",\"type 9\",\"type 9\",\"type 2\",\"type 5\",\"type 5\",\"type 8\",\"type 6\",\"type 7\",\"type 9\",\"type 9\",\"type 2\",\"type 2\",\"type 2\",\"type 1\",\"type 8\",\"type 5\",\"type 5\",\"type 2\",\"type 5\",\"type 7\",\"type 9\",\"type 2\",\"type 9\",\"type 5\",\"type 9\",\"type 5\",\"type 9\",\"type 9\",\"type 9\",\"type 9\",\"type 9\",\"type 5\",\"type 9\",\"type 9\",\"type 5\",\"type 5\",\"type 5\",\"type 9\",\"type 9\",\"type 5\",\"type 8\",\"type 4\",\"type 9\",\"type 9\",\"type 9\",\"type 4\",\"type 9\",\"type 5\",\"type 2\",\"type 7\",\"type 5\",\"type 2\",\"type 9\",\"type 5\",\"type 5\",\"type 7\",\"type 9\",\"type 2\",\"type 3\",\"type 2\",\"type 2\",\"type 9\",\"type 9\",\"type 4\",\"type 4\",\"type 2\",\"type 9\",\"type 9\",\"type 9\",\"type 9\",\"type 9\",\"type 2\",\"type 9\",\"type 9\",\"type 9\",\"type 9\",\"type 5\",\"type 6\",\"type 5\",\"type 2\",\"type 6\",\"type 4\",\"type 5\",\"type 9\",\"type 5\",\"type 9\",\"type 9\",\"type 2\",\"type 2\",\"type 5\",\"type 9\",\"type 6\",\"type 8\",\"type 9\",\"type 7\",\"type 8\",\"type 2\",\"type 1\",\"type 9\",\"type 4\",\"type 9\",\"type 5\",\"type 9\",\"type 5\",\"type 3\",\"type 2\",\"type 5\",\"type 9\",\"type 4\",\"type 3\",\"type 2\",\"type 2\",\"type 2\",\"type 7\",\"type 7\",\"type 9\",\"type 9\",\"type 7\",\"type 5\",\"type 7\",\"type 9\",\"type 2\",\"type 4\",\"type 2\",\"type 8\",\"type 9\",\"type 5\",\"type 9\",\"type 5\",\"type 9\",\"type 9\",\"type 4\",\"type 9\",\"type 2\",\"type 9\",\"type 7\",\"type 3\",\"type 7\",\"type 3\",\"type 9\",\"type 8\",\"type 9\",\"type 5\",\"type 9\",\"type 3\",\"type 9\",\"type 9\",\"type 2\",\"type 4\",\"type 9\",\"type 9\",\"type 9\",\"type 2\",\"type 2\",\"type 5\",\"type 1\",\"type 6\",\"type 5\",\"type 7\",\"type 3\",\"type 2\",\"type 9\",\"type 2\",\"type 4\",\"type 9\",\"type 9\",\"type 5\",\"type 9\",\"type 2\",\"type 2\",\"type 2\",\"type 9\",\"type 5\",\"type 9\",\"type 9\",\"type 4\",\"type 9\",\"type 9\",\"type 4\",\"type 1\",\"type 5\",\"type 8\",\"type 8\",\"type 4\",\"type 9\",\"type 9\",\"type 8\",\"type 5\",\"type 9\",\"type 2\",\"type 5\",\"type 7\",\"type 5\",\"type 5\",\"type 4\",\"type 2\",\"type 9\",\"type 8\",\"type 6\",\"type 7\",\"type 3\",\"type 8\",\"type 9\",\"type 5\",\"type 2\",\"type 9\",\"type 6\",\"type 9\",\"type 4\",\"type 9\",\"type 2\",\"type 9\",\"type 2\",\"type 9\",\"type 2\",\"type 4\",\"type 8\",\"type 3\",\"type 4\",\"type 4\",\"type 5\",\"type 6\",\"type 9\",\"type 9\",\"type 9\",\"type 4\",\"type 6\",\"type 1\",\"type 4\",\"type 7\",\"type 7\",\"type 9\",\"type 9\",\"type 3\",\"type 5\",\"type 5\",\"type 5\",\"type 6\",\"type 9\",\"type 9\",\"type 5\",\"type 2\",\"type 2\",\"type 9\",\"type 7\",\"type 2\",\"type 6\",\"type 7\",\"type 9\",\"type 3\",\"type 9\",\"type 3\",\"type 6\",\"type 7\",\"type 2\",\"type 5\",\"type 4\",\"type 4\",\"type 9\",\"type 9\",\"type 5\",\"type 6\",\"type 9\",\"type 4\",\"type 2\",\"type 1\",\"type 9\",\"type 4\",\"type 4\",\"type 7\",\"type 9\",\"type 5\",\"type 9\",\"type 4\",\"type 9\",\"type 9\",\"type 7\",\"type 7\",\"type 7\",\"type 4\",\"type 4\",\"type 2\",\"type 3\",\"type 4\",\"type 5\",\"type 9\",\"type 4\",\"type 3\",\"type 2\",\"type 9\",\"type 4\",\"type 2\",\"type 8\",\"type 2\",\"type 5\",\"type 4\",\"type 2\",\"type 6\"],\"xaxis\":\"x\",\"y\":[1,0,1,0,0,1,0,1,0,0,0,1,1,0,1,0,0,0,1,1,1,0,0,0,0,0,0,1,1,1,1,1,0,1,0,0,1,0,1,1,0,0,1,1,0,0,0,0,1,1,0,0,0,0,0,0,1,1,0,1,0,1,1,0,1,0,1,0,0,0,0,0,1,1,0,0,0,0,1,0,1,1,0,1,0,0,1,1,1,1,1,0,1,0,1,1,1,0,0,0,0,1,0,0,0,0,1,1,0,0,0,1,0,0,0,0,0,0,1,1,0,0,0,1,0,0,0,1,1,0,1,0,0,1,1,1,1,0,0,0,1,0,0,0,0,1,1,1,0,1,0,0,0,0,0,0,0,0,0,0,0,1,0,0,1,1,1,1,1,1,1,0,1,0,0,0,0,0,0,0,1,1,1,0,0,0,1,0,1,1,0,0,1,1,0,1,1,0,1,0,0,0,1,0,0,0,1,1,0,0,0,0,1,0,1,1,0,1,0,1,0,0,0,0,1,0,1,1,1,0,1,1,0,1,1,0,0,0,1,0,1,0,1,0,1,1,1,0,1,0,0,0,0,0,0,0,0,1,0,0,0,0,0,0,1,0,0,1,1,0,0,0,0,1,0,0,1,0,1,0,1,0,0,0,0,0,1,1,0,0,0,0,0,0,1,0,0,0,0,1,0,0,1,1,1,1,0,1,1,1,0,0,1,0,0,0,0,0,0,1,0,0,0,0,0,0,1,1,0,0,0,0,0,0,1,0,1,0,0,0,0,0,0,1,1,1,1,1,0,0,0,0,1,1,1,0,0,0,0,0,0,1,1,1,0,1,1,0,0,0,0,0,0,0,1,0,1,0,0,0,0,0,1,0,0,0,1,0,0,0,0,1,0,1,0,0,1,0,1,0,1,1,1,1,0,0,1,0,1,0,0,0,1,1,0,0,0,0,0,0,0,0,1,1,0,0,0,1,0,1,0,1,0,0,1,1,0,1,0,1,1,0,1,0,1,0,0,0,1,1,1,1,1,0,1,0,1,1,0,0,1,1,1,0,0,1,0,0,1,0,0,1,0,0,1,1,1,0,1,1,0,0,1,0,0,0,1,0,1,1,1,0,0,0,0,1,0,1,1,0,0,0,0,1,0,1,1,0,0,1,0,1,1,1,0,1,1,1,1,0,1,0,1,1,1,0,1,1,1,0,0,0,0,0,0,1,1,1,1,0,0,0,0,1,0,0,0,0,0,0,1,0,1,0,0,1,0,0,0,1,1,1,0,0,0,1,1,0,1,1,1,1,1,0,0,1,1,1,0,1,0,1,1,0,0,0,0,1,1,1,0,0,1,0,1,1,1,1,0,0,0,0,1,1,1,0,0,1,1,1,0,1,0,0,0,0,0,1,1,0,1,0,1,0,0,0,0,0,1,0,0,0,0,0,0,1,0,1,0,1,0,0,0,1,1,1,0,0,0,0,1,0,1,0,0,0,1,0,0,0,0,0,1,1,0,0,0,1,0,0,1,0,1,0,0,0,0,0,1,0,1,0,0,1,0,1,0,0,0,0,0,1,1,1,0,1,1,1,1,0,0,0,0,0,0,1,1,1,1,0,0,0,1,0,0,1,1,0,0,0,0,1,1,0,1,0,0,1,1,1,0,0,1,0,0,1,1,1,1,0,1,1,0,0,0,0,0,0,0,1,0,1,1,0,0,0,1,0,1,1,1,0,1,0,1,0,0,0,1,0,0,0,0,1,0,0,1,1,0,0,0,1,0,1,1,0,1,1,0,1,0,1,1,0,1,0,1,1,1,1,0,0,0,0,0,0,0,1,0,0,0,1,0,0,1,0,1,1,0,1,0,1,1,1,1,1,0,0,1,0,1,0,1,0,1,1,0,0,1,0,0,1,1,1,0,1,1,1,0,1,1,0,0,0,0,0,0,1,0,1,0,0,0,0,1,0,1,0,1,0,0,0,0,1,0,0,0,1,0,0,1,1,0,1,0,1,0,0,1,1,0,0,1,1,1,0,0,0,0,0,1,1,0,0,0,1,1,0,1,1,0,0,0,0,0,1,0,1,0,0,1,1,1,0,0,1,0,1,0,1,1,1,0,1,0,1,0,0,0,0,1,0,0,1,1,1,1,0,0,0,1,1,0,1,0,0,0,1,0,0,1,1,0,0,1,1,0,1,1,1,0,0,0,1,1,0,0,1,1,0,1,0,0,1,0,1,0,0,0,1,1,1,0,1,0,0,0,0,1,1],\"yaxis\":\"y\",\"type\":\"histogram\"}],                        {\"template\":{\"data\":{\"bar\":[{\"error_x\":{\"color\":\"#2a3f5f\"},\"error_y\":{\"color\":\"#2a3f5f\"},\"marker\":{\"line\":{\"color\":\"#E5ECF6\",\"width\":0.5},\"pattern\":{\"fillmode\":\"overlay\",\"size\":10,\"solidity\":0.2}},\"type\":\"bar\"}],\"barpolar\":[{\"marker\":{\"line\":{\"color\":\"#E5ECF6\",\"width\":0.5},\"pattern\":{\"fillmode\":\"overlay\",\"size\":10,\"solidity\":0.2}},\"type\":\"barpolar\"}],\"carpet\":[{\"aaxis\":{\"endlinecolor\":\"#2a3f5f\",\"gridcolor\":\"white\",\"linecolor\":\"white\",\"minorgridcolor\":\"white\",\"startlinecolor\":\"#2a3f5f\"},\"baxis\":{\"endlinecolor\":\"#2a3f5f\",\"gridcolor\":\"white\",\"linecolor\":\"white\",\"minorgridcolor\":\"white\",\"startlinecolor\":\"#2a3f5f\"},\"type\":\"carpet\"}],\"choropleth\":[{\"colorbar\":{\"outlinewidth\":0,\"ticks\":\"\"},\"type\":\"choropleth\"}],\"contour\":[{\"colorbar\":{\"outlinewidth\":0,\"ticks\":\"\"},\"colorscale\":[[0.0,\"#0d0887\"],[0.1111111111111111,\"#46039f\"],[0.2222222222222222,\"#7201a8\"],[0.3333333333333333,\"#9c179e\"],[0.4444444444444444,\"#bd3786\"],[0.5555555555555556,\"#d8576b\"],[0.6666666666666666,\"#ed7953\"],[0.7777777777777778,\"#fb9f3a\"],[0.8888888888888888,\"#fdca26\"],[1.0,\"#f0f921\"]],\"type\":\"contour\"}],\"contourcarpet\":[{\"colorbar\":{\"outlinewidth\":0,\"ticks\":\"\"},\"type\":\"contourcarpet\"}],\"heatmap\":[{\"colorbar\":{\"outlinewidth\":0,\"ticks\":\"\"},\"colorscale\":[[0.0,\"#0d0887\"],[0.1111111111111111,\"#46039f\"],[0.2222222222222222,\"#7201a8\"],[0.3333333333333333,\"#9c179e\"],[0.4444444444444444,\"#bd3786\"],[0.5555555555555556,\"#d8576b\"],[0.6666666666666666,\"#ed7953\"],[0.7777777777777778,\"#fb9f3a\"],[0.8888888888888888,\"#fdca26\"],[1.0,\"#f0f921\"]],\"type\":\"heatmap\"}],\"heatmapgl\":[{\"colorbar\":{\"outlinewidth\":0,\"ticks\":\"\"},\"colorscale\":[[0.0,\"#0d0887\"],[0.1111111111111111,\"#46039f\"],[0.2222222222222222,\"#7201a8\"],[0.3333333333333333,\"#9c179e\"],[0.4444444444444444,\"#bd3786\"],[0.5555555555555556,\"#d8576b\"],[0.6666666666666666,\"#ed7953\"],[0.7777777777777778,\"#fb9f3a\"],[0.8888888888888888,\"#fdca26\"],[1.0,\"#f0f921\"]],\"type\":\"heatmapgl\"}],\"histogram\":[{\"marker\":{\"pattern\":{\"fillmode\":\"overlay\",\"size\":10,\"solidity\":0.2}},\"type\":\"histogram\"}],\"histogram2d\":[{\"colorbar\":{\"outlinewidth\":0,\"ticks\":\"\"},\"colorscale\":[[0.0,\"#0d0887\"],[0.1111111111111111,\"#46039f\"],[0.2222222222222222,\"#7201a8\"],[0.3333333333333333,\"#9c179e\"],[0.4444444444444444,\"#bd3786\"],[0.5555555555555556,\"#d8576b\"],[0.6666666666666666,\"#ed7953\"],[0.7777777777777778,\"#fb9f3a\"],[0.8888888888888888,\"#fdca26\"],[1.0,\"#f0f921\"]],\"type\":\"histogram2d\"}],\"histogram2dcontour\":[{\"colorbar\":{\"outlinewidth\":0,\"ticks\":\"\"},\"colorscale\":[[0.0,\"#0d0887\"],[0.1111111111111111,\"#46039f\"],[0.2222222222222222,\"#7201a8\"],[0.3333333333333333,\"#9c179e\"],[0.4444444444444444,\"#bd3786\"],[0.5555555555555556,\"#d8576b\"],[0.6666666666666666,\"#ed7953\"],[0.7777777777777778,\"#fb9f3a\"],[0.8888888888888888,\"#fdca26\"],[1.0,\"#f0f921\"]],\"type\":\"histogram2dcontour\"}],\"mesh3d\":[{\"colorbar\":{\"outlinewidth\":0,\"ticks\":\"\"},\"type\":\"mesh3d\"}],\"parcoords\":[{\"line\":{\"colorbar\":{\"outlinewidth\":0,\"ticks\":\"\"}},\"type\":\"parcoords\"}],\"pie\":[{\"automargin\":true,\"type\":\"pie\"}],\"scatter\":[{\"marker\":{\"colorbar\":{\"outlinewidth\":0,\"ticks\":\"\"}},\"type\":\"scatter\"}],\"scatter3d\":[{\"line\":{\"colorbar\":{\"outlinewidth\":0,\"ticks\":\"\"}},\"marker\":{\"colorbar\":{\"outlinewidth\":0,\"ticks\":\"\"}},\"type\":\"scatter3d\"}],\"scattercarpet\":[{\"marker\":{\"colorbar\":{\"outlinewidth\":0,\"ticks\":\"\"}},\"type\":\"scattercarpet\"}],\"scattergeo\":[{\"marker\":{\"colorbar\":{\"outlinewidth\":0,\"ticks\":\"\"}},\"type\":\"scattergeo\"}],\"scattergl\":[{\"marker\":{\"colorbar\":{\"outlinewidth\":0,\"ticks\":\"\"}},\"type\":\"scattergl\"}],\"scattermapbox\":[{\"marker\":{\"colorbar\":{\"outlinewidth\":0,\"ticks\":\"\"}},\"type\":\"scattermapbox\"}],\"scatterpolar\":[{\"marker\":{\"colorbar\":{\"outlinewidth\":0,\"ticks\":\"\"}},\"type\":\"scatterpolar\"}],\"scatterpolargl\":[{\"marker\":{\"colorbar\":{\"outlinewidth\":0,\"ticks\":\"\"}},\"type\":\"scatterpolargl\"}],\"scatterternary\":[{\"marker\":{\"colorbar\":{\"outlinewidth\":0,\"ticks\":\"\"}},\"type\":\"scatterternary\"}],\"surface\":[{\"colorbar\":{\"outlinewidth\":0,\"ticks\":\"\"},\"colorscale\":[[0.0,\"#0d0887\"],[0.1111111111111111,\"#46039f\"],[0.2222222222222222,\"#7201a8\"],[0.3333333333333333,\"#9c179e\"],[0.4444444444444444,\"#bd3786\"],[0.5555555555555556,\"#d8576b\"],[0.6666666666666666,\"#ed7953\"],[0.7777777777777778,\"#fb9f3a\"],[0.8888888888888888,\"#fdca26\"],[1.0,\"#f0f921\"]],\"type\":\"surface\"}],\"table\":[{\"cells\":{\"fill\":{\"color\":\"#EBF0F8\"},\"line\":{\"color\":\"white\"}},\"header\":{\"fill\":{\"color\":\"#C8D4E3\"},\"line\":{\"color\":\"white\"}},\"type\":\"table\"}]},\"layout\":{\"annotationdefaults\":{\"arrowcolor\":\"#2a3f5f\",\"arrowhead\":0,\"arrowwidth\":1},\"autotypenumbers\":\"strict\",\"coloraxis\":{\"colorbar\":{\"outlinewidth\":0,\"ticks\":\"\"}},\"colorscale\":{\"diverging\":[[0,\"#8e0152\"],[0.1,\"#c51b7d\"],[0.2,\"#de77ae\"],[0.3,\"#f1b6da\"],[0.4,\"#fde0ef\"],[0.5,\"#f7f7f7\"],[0.6,\"#e6f5d0\"],[0.7,\"#b8e186\"],[0.8,\"#7fbc41\"],[0.9,\"#4d9221\"],[1,\"#276419\"]],\"sequential\":[[0.0,\"#0d0887\"],[0.1111111111111111,\"#46039f\"],[0.2222222222222222,\"#7201a8\"],[0.3333333333333333,\"#9c179e\"],[0.4444444444444444,\"#bd3786\"],[0.5555555555555556,\"#d8576b\"],[0.6666666666666666,\"#ed7953\"],[0.7777777777777778,\"#fb9f3a\"],[0.8888888888888888,\"#fdca26\"],[1.0,\"#f0f921\"]],\"sequentialminus\":[[0.0,\"#0d0887\"],[0.1111111111111111,\"#46039f\"],[0.2222222222222222,\"#7201a8\"],[0.3333333333333333,\"#9c179e\"],[0.4444444444444444,\"#bd3786\"],[0.5555555555555556,\"#d8576b\"],[0.6666666666666666,\"#ed7953\"],[0.7777777777777778,\"#fb9f3a\"],[0.8888888888888888,\"#fdca26\"],[1.0,\"#f0f921\"]]},\"colorway\":[\"#636efa\",\"#EF553B\",\"#00cc96\",\"#ab63fa\",\"#FFA15A\",\"#19d3f3\",\"#FF6692\",\"#B6E880\",\"#FF97FF\",\"#FECB52\"],\"font\":{\"color\":\"#2a3f5f\"},\"geo\":{\"bgcolor\":\"white\",\"lakecolor\":\"white\",\"landcolor\":\"#E5ECF6\",\"showlakes\":true,\"showland\":true,\"subunitcolor\":\"white\"},\"hoverlabel\":{\"align\":\"left\"},\"hovermode\":\"closest\",\"mapbox\":{\"style\":\"light\"},\"paper_bgcolor\":\"white\",\"plot_bgcolor\":\"#E5ECF6\",\"polar\":{\"angularaxis\":{\"gridcolor\":\"white\",\"linecolor\":\"white\",\"ticks\":\"\"},\"bgcolor\":\"#E5ECF6\",\"radialaxis\":{\"gridcolor\":\"white\",\"linecolor\":\"white\",\"ticks\":\"\"}},\"scene\":{\"xaxis\":{\"backgroundcolor\":\"#E5ECF6\",\"gridcolor\":\"white\",\"gridwidth\":2,\"linecolor\":\"white\",\"showbackground\":true,\"ticks\":\"\",\"zerolinecolor\":\"white\"},\"yaxis\":{\"backgroundcolor\":\"#E5ECF6\",\"gridcolor\":\"white\",\"gridwidth\":2,\"linecolor\":\"white\",\"showbackground\":true,\"ticks\":\"\",\"zerolinecolor\":\"white\"},\"zaxis\":{\"backgroundcolor\":\"#E5ECF6\",\"gridcolor\":\"white\",\"gridwidth\":2,\"linecolor\":\"white\",\"showbackground\":true,\"ticks\":\"\",\"zerolinecolor\":\"white\"}},\"shapedefaults\":{\"line\":{\"color\":\"#2a3f5f\"}},\"ternary\":{\"aaxis\":{\"gridcolor\":\"white\",\"linecolor\":\"white\",\"ticks\":\"\"},\"baxis\":{\"gridcolor\":\"white\",\"linecolor\":\"white\",\"ticks\":\"\"},\"bgcolor\":\"#E5ECF6\",\"caxis\":{\"gridcolor\":\"white\",\"linecolor\":\"white\",\"ticks\":\"\"}},\"title\":{\"x\":0.05},\"xaxis\":{\"automargin\":true,\"gridcolor\":\"white\",\"linecolor\":\"white\",\"ticks\":\"\",\"title\":{\"standoff\":15},\"zerolinecolor\":\"white\",\"zerolinewidth\":2},\"yaxis\":{\"automargin\":true,\"gridcolor\":\"white\",\"linecolor\":\"white\",\"ticks\":\"\",\"title\":{\"standoff\":15},\"zerolinecolor\":\"white\",\"zerolinewidth\":2}}},\"xaxis\":{\"anchor\":\"y\",\"domain\":[0.0,1.0],\"title\":{\"text\":\"char_5_y\"}},\"yaxis\":{\"anchor\":\"x\",\"domain\":[0.0,1.0],\"title\":{\"text\":\"sum of outcome\"}},\"legend\":{\"tracegroupgap\":0},\"title\":{\"text\":\"char_5_y vS Outcome\"},\"barmode\":\"relative\"},                        {\"responsive\": true}                    ).then(function(){\n",
              "                            \n",
              "var gd = document.getElementById('1bc1a34f-d06c-4c63-b458-c5850992d538');\n",
              "var x = new MutationObserver(function (mutations, observer) {{\n",
              "        var display = window.getComputedStyle(gd).display;\n",
              "        if (!display || display === 'none') {{\n",
              "            console.log([gd, 'removed!']);\n",
              "            Plotly.purge(gd);\n",
              "            observer.disconnect();\n",
              "        }}\n",
              "}});\n",
              "\n",
              "// Listen for the removal of the full notebook cells\n",
              "var notebookContainer = gd.closest('#notebook-container');\n",
              "if (notebookContainer) {{\n",
              "    x.observe(notebookContainer, {childList: true});\n",
              "}}\n",
              "\n",
              "// Listen for the clearing of the current output cell\n",
              "var outputEl = gd.closest('.output');\n",
              "if (outputEl) {{\n",
              "    x.observe(outputEl, {childList: true});\n",
              "}}\n",
              "\n",
              "                        })                };                            </script>        </div>\n",
              "</body>\n",
              "</html>"
            ]
          },
          "metadata": {}
        }
      ],
      "source": [
        "px.histogram(merged_df.sample(1000), x= 'char_5_y', y= 'outcome', title = 'char_5_y vS Outcome')"
      ]
    },
    {
      "cell_type": "code",
      "execution_count": 35,
      "metadata": {
        "colab": {
          "base_uri": "https://localhost:8080/",
          "height": 542
        },
        "id": "XkDqO4Bbua0I",
        "outputId": "2c38de00-d372-4346-8e20-c7b478f3a571"
      },
      "outputs": [
        {
          "output_type": "display_data",
          "data": {
            "text/html": [
              "<html>\n",
              "<head><meta charset=\"utf-8\" /></head>\n",
              "<body>\n",
              "    <div>            <script src=\"https://cdnjs.cloudflare.com/ajax/libs/mathjax/2.7.5/MathJax.js?config=TeX-AMS-MML_SVG\"></script><script type=\"text/javascript\">if (window.MathJax) {MathJax.Hub.Config({SVG: {font: \"STIX-Web\"}});}</script>                <script type=\"text/javascript\">window.PlotlyConfig = {MathJaxConfig: 'local'};</script>\n",
              "        <script src=\"https://cdn.plot.ly/plotly-2.9.0.min.js\"></script>                <div id=\"124e4f3e-e161-40e5-8ad6-597dba380602\" class=\"plotly-graph-div\" style=\"height:525px; width:100%;\"></div>            <script type=\"text/javascript\">                                    window.PLOTLYENV=window.PLOTLYENV || {};                                    if (document.getElementById(\"124e4f3e-e161-40e5-8ad6-597dba380602\")) {                    Plotly.newPlot(                        \"124e4f3e-e161-40e5-8ad6-597dba380602\",                        [{\"alignmentgroup\":\"True\",\"bingroup\":\"x\",\"histfunc\":\"sum\",\"hovertemplate\":\"char_19=%{x}<br>sum of outcome=%{y}<extra></extra>\",\"legendgroup\":\"\",\"marker\":{\"color\":\"#636efa\",\"pattern\":{\"shape\":\"\"}},\"name\":\"\",\"offsetgroup\":\"\",\"orientation\":\"v\",\"showlegend\":false,\"x\":[false,false,true,false,false,false,false,true,false,false,true,false,false,true,false,true,true,false,false,false,false,false,true,false,false,false,false,true,false,false,false,true,false,true,false,false,true,true,false,false,false,false,true,true,false,true,false,false,false,false,false,false,false,false,true,false,false,true,false,false,false,false,true,false,false,false,true,false,false,false,false,false,false,false,false,true,true,false,false,true,false,false,false,false,false,false,false,false,false,false,true,true,false,false,false,false,false,false,true,false,true,false,false,true,false,true,false,false,true,false,false,false,false,false,false,false,false,false,false,true,false,false,false,false,false,false,true,true,false,false,true,false,false,false,false,false,true,true,false,false,false,true,true,false,true,false,false,false,false,true,false,false,false,false,false,false,false,true,false,true,true,false,false,true,true,false,false,true,false,true,false,false,false,false,false,false,false,true,false,true,false,false,false,false,false,false,true,false,false,false,false,false,true,false,false,false,false,true,false,true,false,false,false,false,false,true,true,true,false,false,true,false,false,true,false,false,false,true,false,false,false,false,false,false,true,false,false,false,true,false,false,false,false,true,true,false,false,false,false,false,true,true,false,false,true,true,false,true,true,false,true,false,false,true,false,false,true,true,false,false,false,false,true,false,false,false,false,false,false,false,true,false,false,false,false,false,false,true,false,true,false,true,true,false,true,false,false,false,false,true,false,false,true,false,false,false,true,false,true,false,false,false,false,false,false,false,false,false,true,false,false,false,true,false,false,false,false,false,false,false,true,false,false,true,true,false,false,true,false,false,true,true,false,true,false,true,false,false,false,true,false,false,true,false,false,false,false,false,false,true,false,false,false,false,false,false,false,true,false,false,false,true,false,false,true,false,true,false,false,false,true,false,false,true,false,false,false,false,false,false,true,false,false,false,true,false,false,false,false,false,false,false,false,true,false,false,false,false,false,false,false,false,true,false,true,false,false,false,false,true,false,false,false,false,true,false,false,true,true,true,true,false,false,false,false,false,false,false,true,false,false,false,false,false,true,false,false,false,true,true,false,false,true,false,false,false,true,true,false,false,false,false,false,false,false,true,false,false,false,true,true,true,true,true,false,true,false,true,true,false,false,false,false,false,false,false,false,false,false,false,true,true,false,false,false,false,false,false,false,false,false,true,true,false,false,false,true,false,false,false,false,false,false,false,false,false,false,false,true,false,false,false,true,false,true,true,false,false,false,true,false,true,false,false,false,false,true,true,false,false,false,false,false,false,false,false,false,false,false,false,true,false,false,false,false,true,false,true,false,false,true,false,false,false,false,false,false,false,false,false,true,true,true,false,true,false,true,false,true,false,false,false,false,false,false,false,false,false,false,false,false,true,false,false,false,true,true,false,true,true,false,false,false,false,false,false,false,false,true,false,false,false,false,false,false,true,true,false,false,true,false,true,false,false,false,false,true,false,false,false,false,false,false,false,false,false,false,false,false,false,false,false,false,false,false,false,false,true,false,false,false,false,true,true,true,false,false,false,false,false,true,true,false,false,false,false,false,false,false,true,false,false,true,true,false,false,true,true,false,true,false,false,true,true,false,false,false,true,false,false,false,false,false,true,false,false,false,false,true,false,false,false,false,true,false,true,false,true,false,false,false,true,false,false,false,false,true,true,true,false,true,false,true,true,false,false,false,true,true,true,true,true,false,true,true,false,false,true,false,false,false,true,true,true,false,true,true,false,false,false,false,true,false,false,false,false,true,false,false,false,false,true,false,false,true,false,false,false,false,false,false,true,false,false,false,false,true,false,true,false,false,false,true,false,false,false,true,false,false,true,false,false,false,false,false,true,false,false,false,true,true,false,false,true,false,false,false,true,false,false,false,false,false,true,true,false,false,false,false,true,false,false,false,true,false,false,false,false,true,false,false,false,false,false,false,false,true,false,false,false,false,true,false,false,true,false,false,true,false,false,false,true,false,false,false,false,false,true,false,false,false,false,true,false,false,false,false,false,false,false,true,false,false,false,false,false,false,true,false,false,false,false,false,false,false,false,false,false,false,false,true,true,false,false,true,false,false,false,true,true,false,false,true,true,false,false,false,false,false,false,true,false,false,true,false,false,false,false,true,true,false,false,false,false,false,true,true,false,false,false,true,false,true,false,false,false,false,false,false,true,false,false,false,false,true,true,false,false,false,false,false,false,false,false,false,false,false,false,false,false,false,true,true,false,false,false,false,true,true,true,false,true,false,true,false,false,false,false,false,false,false,true,false,false,false,true,true,false,false,false,false,true,true,false,true,true,false,false,false,false,false,false,true,false,true,false,false,false,false,false],\"xaxis\":\"x\",\"y\":[0,1,1,1,1,0,0,1,0,1,0,0,0,1,0,1,1,1,0,0,1,1,1,0,1,0,1,1,1,0,0,1,0,1,1,0,0,1,0,0,0,0,1,0,0,0,0,0,0,0,1,0,1,0,0,0,1,1,0,0,0,0,1,1,0,1,1,1,1,0,0,0,1,0,1,1,1,1,0,1,0,0,1,0,1,0,1,0,0,0,0,1,1,0,1,1,0,1,1,1,1,1,1,1,1,1,0,0,1,0,1,0,0,0,0,0,0,1,1,1,0,0,1,0,0,0,1,1,1,1,0,0,0,1,0,1,0,1,1,0,1,1,1,1,1,1,0,1,0,0,0,1,0,0,1,0,1,0,1,1,0,0,1,1,1,0,1,1,0,1,1,1,1,1,1,1,0,0,1,1,0,0,1,0,0,1,1,0,0,0,0,1,1,0,1,0,0,0,0,1,1,0,1,0,0,0,0,1,0,0,1,0,1,0,0,0,0,0,0,1,0,0,0,1,0,0,0,0,0,0,0,0,0,0,1,0,1,0,1,0,0,1,0,0,1,1,1,0,1,0,0,0,0,0,0,0,1,1,0,0,1,0,1,1,0,0,0,1,0,0,1,0,0,0,0,0,1,1,0,0,0,1,1,0,1,0,0,0,0,1,1,0,1,0,0,1,1,0,0,0,1,0,0,0,1,0,1,0,1,0,0,0,1,0,0,0,1,0,0,1,1,0,0,1,1,0,1,1,0,0,1,1,0,1,1,1,0,0,0,1,1,0,1,1,0,1,1,0,0,1,1,0,0,0,0,1,1,1,1,0,1,1,1,0,1,0,0,0,1,0,0,1,0,1,0,1,0,0,1,1,1,1,1,0,0,1,1,0,1,1,0,0,0,1,0,0,1,0,0,0,0,0,1,0,1,1,0,0,0,1,0,0,1,0,0,1,0,1,1,1,0,1,0,1,1,1,1,1,1,0,1,0,0,0,1,1,0,1,1,0,0,1,1,1,0,0,1,1,0,0,0,0,0,1,0,1,0,0,0,1,1,1,0,0,1,1,0,1,1,0,0,0,0,1,1,0,0,0,1,0,1,1,1,1,0,0,1,1,0,0,0,1,1,1,0,1,0,0,0,0,1,0,0,1,0,0,1,0,1,0,1,0,0,0,1,0,0,0,1,0,0,1,1,0,0,1,0,0,0,0,0,1,0,1,0,0,0,1,0,0,1,1,0,1,0,1,0,0,0,0,0,0,0,1,0,0,1,0,0,0,0,0,1,0,1,1,1,1,1,1,0,1,1,1,0,0,1,0,0,0,0,1,1,1,1,0,1,0,0,0,1,0,0,1,0,1,0,0,1,0,0,0,1,0,0,1,1,0,1,1,1,0,0,0,0,1,1,0,1,0,0,0,0,1,0,1,0,0,0,0,0,1,0,0,0,1,1,1,1,0,0,1,0,1,0,1,0,1,0,0,1,0,0,0,0,0,1,1,0,1,0,0,1,1,0,0,0,1,0,0,0,1,0,1,0,0,0,1,0,0,0,1,1,1,0,0,0,0,0,1,0,1,1,1,0,1,0,1,0,0,0,1,0,0,0,1,1,0,0,0,1,1,1,1,0,0,0,1,1,0,0,0,0,1,0,1,0,0,0,0,0,0,0,1,1,0,1,1,1,1,1,1,1,1,0,0,0,1,0,0,1,1,1,1,1,1,0,1,1,1,0,1,0,0,1,0,1,0,0,1,0,0,1,1,0,1,1,0,1,1,1,1,1,0,0,0,0,0,0,1,1,1,0,1,1,0,1,1,1,1,0,0,1,0,1,0,0,0,1,1,1,0,1,1,0,0,1,0,0,1,1,0,0,0,1,1,1,0,0,1,1,1,0,0,0,1,0,1,0,0,1,1,0,1,0,0,0,0,1,0,0,0,1,1,0,0,0,0,1,0,1,1,0,0,0,0,1,1,1,0,1,1,0,1,0,0,0,0,0,1,0,1,0,0,0,1,0,0,1,1,1,1,0,1,0,0,0,0,0,1,0,0,1,0,0,1,1,0,1,1,0,0,1,0,0,1,1,1,0,0,1,0,0,0,1,0,0,0,1,1,1,0,1,0,1,0,0,0,0,0,1,1,1,0,1,0,0,1,0,0,0,1,1,0,0,0,0,0,1,1,0,1,0,0,1,0,0,1,0,0,0,0,0,0,0,1,1,1,0,0,0,0,1,0,0,1,0,0,1,0,1,1,0,1,1,0,0,1,1,1],\"yaxis\":\"y\",\"type\":\"histogram\"}],                        {\"template\":{\"data\":{\"bar\":[{\"error_x\":{\"color\":\"#2a3f5f\"},\"error_y\":{\"color\":\"#2a3f5f\"},\"marker\":{\"line\":{\"color\":\"#E5ECF6\",\"width\":0.5},\"pattern\":{\"fillmode\":\"overlay\",\"size\":10,\"solidity\":0.2}},\"type\":\"bar\"}],\"barpolar\":[{\"marker\":{\"line\":{\"color\":\"#E5ECF6\",\"width\":0.5},\"pattern\":{\"fillmode\":\"overlay\",\"size\":10,\"solidity\":0.2}},\"type\":\"barpolar\"}],\"carpet\":[{\"aaxis\":{\"endlinecolor\":\"#2a3f5f\",\"gridcolor\":\"white\",\"linecolor\":\"white\",\"minorgridcolor\":\"white\",\"startlinecolor\":\"#2a3f5f\"},\"baxis\":{\"endlinecolor\":\"#2a3f5f\",\"gridcolor\":\"white\",\"linecolor\":\"white\",\"minorgridcolor\":\"white\",\"startlinecolor\":\"#2a3f5f\"},\"type\":\"carpet\"}],\"choropleth\":[{\"colorbar\":{\"outlinewidth\":0,\"ticks\":\"\"},\"type\":\"choropleth\"}],\"contour\":[{\"colorbar\":{\"outlinewidth\":0,\"ticks\":\"\"},\"colorscale\":[[0.0,\"#0d0887\"],[0.1111111111111111,\"#46039f\"],[0.2222222222222222,\"#7201a8\"],[0.3333333333333333,\"#9c179e\"],[0.4444444444444444,\"#bd3786\"],[0.5555555555555556,\"#d8576b\"],[0.6666666666666666,\"#ed7953\"],[0.7777777777777778,\"#fb9f3a\"],[0.8888888888888888,\"#fdca26\"],[1.0,\"#f0f921\"]],\"type\":\"contour\"}],\"contourcarpet\":[{\"colorbar\":{\"outlinewidth\":0,\"ticks\":\"\"},\"type\":\"contourcarpet\"}],\"heatmap\":[{\"colorbar\":{\"outlinewidth\":0,\"ticks\":\"\"},\"colorscale\":[[0.0,\"#0d0887\"],[0.1111111111111111,\"#46039f\"],[0.2222222222222222,\"#7201a8\"],[0.3333333333333333,\"#9c179e\"],[0.4444444444444444,\"#bd3786\"],[0.5555555555555556,\"#d8576b\"],[0.6666666666666666,\"#ed7953\"],[0.7777777777777778,\"#fb9f3a\"],[0.8888888888888888,\"#fdca26\"],[1.0,\"#f0f921\"]],\"type\":\"heatmap\"}],\"heatmapgl\":[{\"colorbar\":{\"outlinewidth\":0,\"ticks\":\"\"},\"colorscale\":[[0.0,\"#0d0887\"],[0.1111111111111111,\"#46039f\"],[0.2222222222222222,\"#7201a8\"],[0.3333333333333333,\"#9c179e\"],[0.4444444444444444,\"#bd3786\"],[0.5555555555555556,\"#d8576b\"],[0.6666666666666666,\"#ed7953\"],[0.7777777777777778,\"#fb9f3a\"],[0.8888888888888888,\"#fdca26\"],[1.0,\"#f0f921\"]],\"type\":\"heatmapgl\"}],\"histogram\":[{\"marker\":{\"pattern\":{\"fillmode\":\"overlay\",\"size\":10,\"solidity\":0.2}},\"type\":\"histogram\"}],\"histogram2d\":[{\"colorbar\":{\"outlinewidth\":0,\"ticks\":\"\"},\"colorscale\":[[0.0,\"#0d0887\"],[0.1111111111111111,\"#46039f\"],[0.2222222222222222,\"#7201a8\"],[0.3333333333333333,\"#9c179e\"],[0.4444444444444444,\"#bd3786\"],[0.5555555555555556,\"#d8576b\"],[0.6666666666666666,\"#ed7953\"],[0.7777777777777778,\"#fb9f3a\"],[0.8888888888888888,\"#fdca26\"],[1.0,\"#f0f921\"]],\"type\":\"histogram2d\"}],\"histogram2dcontour\":[{\"colorbar\":{\"outlinewidth\":0,\"ticks\":\"\"},\"colorscale\":[[0.0,\"#0d0887\"],[0.1111111111111111,\"#46039f\"],[0.2222222222222222,\"#7201a8\"],[0.3333333333333333,\"#9c179e\"],[0.4444444444444444,\"#bd3786\"],[0.5555555555555556,\"#d8576b\"],[0.6666666666666666,\"#ed7953\"],[0.7777777777777778,\"#fb9f3a\"],[0.8888888888888888,\"#fdca26\"],[1.0,\"#f0f921\"]],\"type\":\"histogram2dcontour\"}],\"mesh3d\":[{\"colorbar\":{\"outlinewidth\":0,\"ticks\":\"\"},\"type\":\"mesh3d\"}],\"parcoords\":[{\"line\":{\"colorbar\":{\"outlinewidth\":0,\"ticks\":\"\"}},\"type\":\"parcoords\"}],\"pie\":[{\"automargin\":true,\"type\":\"pie\"}],\"scatter\":[{\"marker\":{\"colorbar\":{\"outlinewidth\":0,\"ticks\":\"\"}},\"type\":\"scatter\"}],\"scatter3d\":[{\"line\":{\"colorbar\":{\"outlinewidth\":0,\"ticks\":\"\"}},\"marker\":{\"colorbar\":{\"outlinewidth\":0,\"ticks\":\"\"}},\"type\":\"scatter3d\"}],\"scattercarpet\":[{\"marker\":{\"colorbar\":{\"outlinewidth\":0,\"ticks\":\"\"}},\"type\":\"scattercarpet\"}],\"scattergeo\":[{\"marker\":{\"colorbar\":{\"outlinewidth\":0,\"ticks\":\"\"}},\"type\":\"scattergeo\"}],\"scattergl\":[{\"marker\":{\"colorbar\":{\"outlinewidth\":0,\"ticks\":\"\"}},\"type\":\"scattergl\"}],\"scattermapbox\":[{\"marker\":{\"colorbar\":{\"outlinewidth\":0,\"ticks\":\"\"}},\"type\":\"scattermapbox\"}],\"scatterpolar\":[{\"marker\":{\"colorbar\":{\"outlinewidth\":0,\"ticks\":\"\"}},\"type\":\"scatterpolar\"}],\"scatterpolargl\":[{\"marker\":{\"colorbar\":{\"outlinewidth\":0,\"ticks\":\"\"}},\"type\":\"scatterpolargl\"}],\"scatterternary\":[{\"marker\":{\"colorbar\":{\"outlinewidth\":0,\"ticks\":\"\"}},\"type\":\"scatterternary\"}],\"surface\":[{\"colorbar\":{\"outlinewidth\":0,\"ticks\":\"\"},\"colorscale\":[[0.0,\"#0d0887\"],[0.1111111111111111,\"#46039f\"],[0.2222222222222222,\"#7201a8\"],[0.3333333333333333,\"#9c179e\"],[0.4444444444444444,\"#bd3786\"],[0.5555555555555556,\"#d8576b\"],[0.6666666666666666,\"#ed7953\"],[0.7777777777777778,\"#fb9f3a\"],[0.8888888888888888,\"#fdca26\"],[1.0,\"#f0f921\"]],\"type\":\"surface\"}],\"table\":[{\"cells\":{\"fill\":{\"color\":\"#EBF0F8\"},\"line\":{\"color\":\"white\"}},\"header\":{\"fill\":{\"color\":\"#C8D4E3\"},\"line\":{\"color\":\"white\"}},\"type\":\"table\"}]},\"layout\":{\"annotationdefaults\":{\"arrowcolor\":\"#2a3f5f\",\"arrowhead\":0,\"arrowwidth\":1},\"autotypenumbers\":\"strict\",\"coloraxis\":{\"colorbar\":{\"outlinewidth\":0,\"ticks\":\"\"}},\"colorscale\":{\"diverging\":[[0,\"#8e0152\"],[0.1,\"#c51b7d\"],[0.2,\"#de77ae\"],[0.3,\"#f1b6da\"],[0.4,\"#fde0ef\"],[0.5,\"#f7f7f7\"],[0.6,\"#e6f5d0\"],[0.7,\"#b8e186\"],[0.8,\"#7fbc41\"],[0.9,\"#4d9221\"],[1,\"#276419\"]],\"sequential\":[[0.0,\"#0d0887\"],[0.1111111111111111,\"#46039f\"],[0.2222222222222222,\"#7201a8\"],[0.3333333333333333,\"#9c179e\"],[0.4444444444444444,\"#bd3786\"],[0.5555555555555556,\"#d8576b\"],[0.6666666666666666,\"#ed7953\"],[0.7777777777777778,\"#fb9f3a\"],[0.8888888888888888,\"#fdca26\"],[1.0,\"#f0f921\"]],\"sequentialminus\":[[0.0,\"#0d0887\"],[0.1111111111111111,\"#46039f\"],[0.2222222222222222,\"#7201a8\"],[0.3333333333333333,\"#9c179e\"],[0.4444444444444444,\"#bd3786\"],[0.5555555555555556,\"#d8576b\"],[0.6666666666666666,\"#ed7953\"],[0.7777777777777778,\"#fb9f3a\"],[0.8888888888888888,\"#fdca26\"],[1.0,\"#f0f921\"]]},\"colorway\":[\"#636efa\",\"#EF553B\",\"#00cc96\",\"#ab63fa\",\"#FFA15A\",\"#19d3f3\",\"#FF6692\",\"#B6E880\",\"#FF97FF\",\"#FECB52\"],\"font\":{\"color\":\"#2a3f5f\"},\"geo\":{\"bgcolor\":\"white\",\"lakecolor\":\"white\",\"landcolor\":\"#E5ECF6\",\"showlakes\":true,\"showland\":true,\"subunitcolor\":\"white\"},\"hoverlabel\":{\"align\":\"left\"},\"hovermode\":\"closest\",\"mapbox\":{\"style\":\"light\"},\"paper_bgcolor\":\"white\",\"plot_bgcolor\":\"#E5ECF6\",\"polar\":{\"angularaxis\":{\"gridcolor\":\"white\",\"linecolor\":\"white\",\"ticks\":\"\"},\"bgcolor\":\"#E5ECF6\",\"radialaxis\":{\"gridcolor\":\"white\",\"linecolor\":\"white\",\"ticks\":\"\"}},\"scene\":{\"xaxis\":{\"backgroundcolor\":\"#E5ECF6\",\"gridcolor\":\"white\",\"gridwidth\":2,\"linecolor\":\"white\",\"showbackground\":true,\"ticks\":\"\",\"zerolinecolor\":\"white\"},\"yaxis\":{\"backgroundcolor\":\"#E5ECF6\",\"gridcolor\":\"white\",\"gridwidth\":2,\"linecolor\":\"white\",\"showbackground\":true,\"ticks\":\"\",\"zerolinecolor\":\"white\"},\"zaxis\":{\"backgroundcolor\":\"#E5ECF6\",\"gridcolor\":\"white\",\"gridwidth\":2,\"linecolor\":\"white\",\"showbackground\":true,\"ticks\":\"\",\"zerolinecolor\":\"white\"}},\"shapedefaults\":{\"line\":{\"color\":\"#2a3f5f\"}},\"ternary\":{\"aaxis\":{\"gridcolor\":\"white\",\"linecolor\":\"white\",\"ticks\":\"\"},\"baxis\":{\"gridcolor\":\"white\",\"linecolor\":\"white\",\"ticks\":\"\"},\"bgcolor\":\"#E5ECF6\",\"caxis\":{\"gridcolor\":\"white\",\"linecolor\":\"white\",\"ticks\":\"\"}},\"title\":{\"x\":0.05},\"xaxis\":{\"automargin\":true,\"gridcolor\":\"white\",\"linecolor\":\"white\",\"ticks\":\"\",\"title\":{\"standoff\":15},\"zerolinecolor\":\"white\",\"zerolinewidth\":2},\"yaxis\":{\"automargin\":true,\"gridcolor\":\"white\",\"linecolor\":\"white\",\"ticks\":\"\",\"title\":{\"standoff\":15},\"zerolinecolor\":\"white\",\"zerolinewidth\":2}}},\"xaxis\":{\"anchor\":\"y\",\"domain\":[0.0,1.0],\"title\":{\"text\":\"char_19\"}},\"yaxis\":{\"anchor\":\"x\",\"domain\":[0.0,1.0],\"title\":{\"text\":\"sum of outcome\"}},\"legend\":{\"tracegroupgap\":0},\"title\":{\"text\":\"char_19 vs Outcome\"},\"barmode\":\"relative\"},                        {\"responsive\": true}                    ).then(function(){\n",
              "                            \n",
              "var gd = document.getElementById('124e4f3e-e161-40e5-8ad6-597dba380602');\n",
              "var x = new MutationObserver(function (mutations, observer) {{\n",
              "        var display = window.getComputedStyle(gd).display;\n",
              "        if (!display || display === 'none') {{\n",
              "            console.log([gd, 'removed!']);\n",
              "            Plotly.purge(gd);\n",
              "            observer.disconnect();\n",
              "        }}\n",
              "}});\n",
              "\n",
              "// Listen for the removal of the full notebook cells\n",
              "var notebookContainer = gd.closest('#notebook-container');\n",
              "if (notebookContainer) {{\n",
              "    x.observe(notebookContainer, {childList: true});\n",
              "}}\n",
              "\n",
              "// Listen for the clearing of the current output cell\n",
              "var outputEl = gd.closest('.output');\n",
              "if (outputEl) {{\n",
              "    x.observe(outputEl, {childList: true});\n",
              "}}\n",
              "\n",
              "                        })                };                            </script>        </div>\n",
              "</body>\n",
              "</html>"
            ]
          },
          "metadata": {}
        }
      ],
      "source": [
        "px.histogram(merged_df.sample(1000), x= 'char_19', y= 'outcome', title = 'char_19 vs Outcome')"
      ]
    },
    {
      "cell_type": "code",
      "execution_count": 36,
      "metadata": {
        "colab": {
          "base_uri": "https://localhost:8080/",
          "height": 406
        },
        "id": "TN6X4lbxzsZD",
        "outputId": "f63b7c74-c12a-4a97-810c-3c9724c0f40a"
      },
      "outputs": [
        {
          "output_type": "execute_result",
          "data": {
            "text/plain": [
              "<matplotlib.axes._subplots.AxesSubplot at 0x7f9f4ffb0f10>"
            ]
          },
          "metadata": {},
          "execution_count": 36
        },
        {
          "output_type": "display_data",
          "data": {
            "image/png": "[encoded data removed]",
            "text/plain": [
              "<Figure size 720x432 with 1 Axes>"
            ]
          },
          "metadata": {}
        }
      ],
      "source": [
        "sns.barplot(data= merged_df.sample(1000), x='char_19', y= 'outcome')"
      ]
    },
    {
      "cell_type": "code",
      "execution_count": 37,
      "metadata": {
        "colab": {
          "base_uri": "https://localhost:8080/"
        },
        "id": "S6DxR7kE0Z25",
        "outputId": "07d319b5-4e83-4ccc-cdb6-d776b078650c"
      },
      "outputs": [
        {
          "output_type": "execute_result",
          "data": {
            "text/plain": [
              "False    1485387\n",
              "True      554289\n",
              "Name: char_19, dtype: int64"
            ]
          },
          "metadata": {},
          "execution_count": 37
        }
      ],
      "source": [
        "merged_df.char_19.value_counts()"
      ]
    },
    {
      "cell_type": "markdown",
      "metadata": {
        "id": "-cbN7BT8a21K"
      },
      "source": [
        "## Feature Engineering"
      ]
    },
    {
      "cell_type": "code",
      "execution_count": 38,
      "metadata": {
        "id": "SbZTcYOH5-MW"
      },
      "outputs": [],
      "source": [
        "categorical_features = []\n",
        "numeric_features = []\n",
        "features = merged_df.columns.values.tolist()\n",
        "for col in features:\n",
        "    if merged_df[col].dtype != 'object': \n",
        "        numeric_features.append(col)\n",
        "    else:\n",
        "        categorical_features.append(col)"
      ]
    },
    {
      "cell_type": "code",
      "execution_count": 39,
      "metadata": {
        "colab": {
          "base_uri": "https://localhost:8080/"
        },
        "id": "g0Gh6v9x6yqF",
        "outputId": "3fa53105-3a99-41b6-956c-dcf8224007c4"
      },
      "outputs": [
        {
          "output_type": "stream",
          "name": "stdout",
          "text": [
            "<class 'pandas.core.frame.DataFrame'>\n",
            "Int64Index: 2039676 entries, 0 to 2197290\n",
            "Data columns (total 30 columns):\n",
            " #   Column     Dtype\n",
            "---  ------     -----\n",
            " 0   outcome    int64\n",
            " 1   char_10_y  bool \n",
            " 2   char_11    bool \n",
            " 3   char_12    bool \n",
            " 4   char_13    bool \n",
            " 5   char_14    bool \n",
            " 6   char_15    bool \n",
            " 7   char_16    bool \n",
            " 8   char_17    bool \n",
            " 9   char_18    bool \n",
            " 10  char_19    bool \n",
            " 11  char_20    bool \n",
            " 12  char_21    bool \n",
            " 13  char_22    bool \n",
            " 14  char_23    bool \n",
            " 15  char_24    bool \n",
            " 16  char_25    bool \n",
            " 17  char_26    bool \n",
            " 18  char_27    bool \n",
            " 19  char_28    bool \n",
            " 20  char_29    bool \n",
            " 21  char_30    bool \n",
            " 22  char_31    bool \n",
            " 23  char_32    bool \n",
            " 24  char_33    bool \n",
            " 25  char_34    bool \n",
            " 26  char_35    bool \n",
            " 27  char_36    bool \n",
            " 28  char_37    bool \n",
            " 29  char_38    int64\n",
            "dtypes: bool(28), int64(2)\n",
            "memory usage: 101.1 MB\n"
          ]
        }
      ],
      "source": [
        "merged_df[numeric_features].info()"
      ]
    },
    {
      "cell_type": "code",
      "execution_count": 40,
      "metadata": {
        "colab": {
          "base_uri": "https://localhost:8080/"
        },
        "id": "aik9h2JH8aTT",
        "outputId": "52a6bb4c-c22b-4ea5-f854-94b14f15fb0e"
      },
      "outputs": [
        {
          "output_type": "stream",
          "name": "stdout",
          "text": [
            "<class 'pandas.core.frame.DataFrame'>\n",
            "Int64Index: 2039676 entries, 0 to 2197290\n",
            "Data columns (total 16 columns):\n",
            " #   Column             Dtype \n",
            "---  ------             ----- \n",
            " 0   people_id          object\n",
            " 1   activity_id        object\n",
            " 2   date_x             object\n",
            " 3   activity_category  object\n",
            " 4   char_10_x          object\n",
            " 5   char_1_y           object\n",
            " 6   group_1            object\n",
            " 7   char_2_y           object\n",
            " 8   date_y             object\n",
            " 9   char_3_y           object\n",
            " 10  char_4_y           object\n",
            " 11  char_5_y           object\n",
            " 12  char_6_y           object\n",
            " 13  char_7_y           object\n",
            " 14  char_8_y           object\n",
            " 15  char_9_y           object\n",
            "dtypes: object(16)\n",
            "memory usage: 264.5+ MB\n"
          ]
        }
      ],
      "source": [
        "merged_df[categorical_features].info()"
      ]
    },
    {
      "cell_type": "code",
      "execution_count": 41,
      "metadata": {
        "id": "Rb0y6DypgwdU"
      },
      "outputs": [],
      "source": [
        "merged_df['Date']= pd.to_datetime(merged_df['date_x'])\n",
        "merged_df['year'] = merged_df['Date'].dt.year\n",
        "merged_df['month'] = merged_df['Date'].dt.month\n",
        "merged_df['day'] = merged_df['Date'].dt.day\n",
        "merged_df['isweekend'] = (merged_df['Date'].dt.weekday >= 5).astype(int)\n",
        "merged_df = merged_df.drop('date_x', axis = 1)\n"
      ]
    },
    {
      "cell_type": "code",
      "execution_count": 42,
      "metadata": {
        "colab": {
          "base_uri": "https://localhost:8080/",
          "height": 357
        },
        "id": "d6u43np6m6En",
        "outputId": "98d1981a-c0a0-4c0a-8ad3-6c0691032341"
      },
      "outputs": [
        {
          "output_type": "execute_result",
          "data": {
            "text/html": [
              "\n",
              "  <div id=\"df-8b72b0a5-2dd7-4b59-8841-d3369211438f\">\n",
              "    <div class=\"colab-df-container\">\n",
              "      <div>\n",
              "<style scoped>\n",
              "    .dataframe tbody tr th:only-of-type {\n",
              "        vertical-align: middle;\n",
              "    }\n",
              "\n",
              "    .dataframe tbody tr th {\n",
              "        vertical-align: top;\n",
              "    }\n",
              "\n",
              "    .dataframe thead th {\n",
              "        text-align: right;\n",
              "    }\n",
              "</style>\n",
              "<table border=\"1\" class=\"dataframe\">\n",
              "  <thead>\n",
              "    <tr style=\"text-align: right;\">\n",
              "      <th></th>\n",
              "      <th>people_id</th>\n",
              "      <th>activity_id</th>\n",
              "      <th>activity_category</th>\n",
              "      <th>char_10_x</th>\n",
              "      <th>outcome</th>\n",
              "      <th>char_1_y</th>\n",
              "      <th>group_1</th>\n",
              "      <th>char_2_y</th>\n",
              "      <th>date_y</th>\n",
              "      <th>char_3_y</th>\n",
              "      <th>char_4_y</th>\n",
              "      <th>char_5_y</th>\n",
              "      <th>char_6_y</th>\n",
              "      <th>char_7_y</th>\n",
              "      <th>char_8_y</th>\n",
              "      <th>char_9_y</th>\n",
              "      <th>char_10_y</th>\n",
              "      <th>char_11</th>\n",
              "      <th>char_12</th>\n",
              "      <th>char_13</th>\n",
              "      <th>char_14</th>\n",
              "      <th>char_15</th>\n",
              "      <th>char_16</th>\n",
              "      <th>char_17</th>\n",
              "      <th>char_18</th>\n",
              "      <th>char_19</th>\n",
              "      <th>char_20</th>\n",
              "      <th>char_21</th>\n",
              "      <th>char_22</th>\n",
              "      <th>char_23</th>\n",
              "      <th>char_24</th>\n",
              "      <th>char_25</th>\n",
              "      <th>char_26</th>\n",
              "      <th>char_27</th>\n",
              "      <th>char_28</th>\n",
              "      <th>char_29</th>\n",
              "      <th>char_30</th>\n",
              "      <th>char_31</th>\n",
              "      <th>char_32</th>\n",
              "      <th>char_33</th>\n",
              "      <th>char_34</th>\n",
              "      <th>char_35</th>\n",
              "      <th>char_36</th>\n",
              "      <th>char_37</th>\n",
              "      <th>char_38</th>\n",
              "      <th>Date</th>\n",
              "      <th>year</th>\n",
              "      <th>month</th>\n",
              "      <th>day</th>\n",
              "      <th>isweekend</th>\n",
              "    </tr>\n",
              "  </thead>\n",
              "  <tbody>\n",
              "    <tr>\n",
              "      <th>0</th>\n",
              "      <td>ppl_100</td>\n",
              "      <td>act2_1734928</td>\n",
              "      <td>type 4</td>\n",
              "      <td>type 76</td>\n",
              "      <td>0</td>\n",
              "      <td>type 2</td>\n",
              "      <td>group 17304</td>\n",
              "      <td>type 2</td>\n",
              "      <td>2021-06-29</td>\n",
              "      <td>type 5</td>\n",
              "      <td>type 5</td>\n",
              "      <td>type 5</td>\n",
              "      <td>type 3</td>\n",
              "      <td>type 11</td>\n",
              "      <td>type 2</td>\n",
              "      <td>type 2</td>\n",
              "      <td>True</td>\n",
              "      <td>False</td>\n",
              "      <td>False</td>\n",
              "      <td>True</td>\n",
              "      <td>True</td>\n",
              "      <td>False</td>\n",
              "      <td>True</td>\n",
              "      <td>False</td>\n",
              "      <td>False</td>\n",
              "      <td>False</td>\n",
              "      <td>False</td>\n",
              "      <td>True</td>\n",
              "      <td>False</td>\n",
              "      <td>False</td>\n",
              "      <td>False</td>\n",
              "      <td>False</td>\n",
              "      <td>False</td>\n",
              "      <td>True</td>\n",
              "      <td>True</td>\n",
              "      <td>False</td>\n",
              "      <td>True</td>\n",
              "      <td>True</td>\n",
              "      <td>False</td>\n",
              "      <td>False</td>\n",
              "      <td>True</td>\n",
              "      <td>True</td>\n",
              "      <td>True</td>\n",
              "      <td>False</td>\n",
              "      <td>36</td>\n",
              "      <td>2023-08-26</td>\n",
              "      <td>2023</td>\n",
              "      <td>8</td>\n",
              "      <td>26</td>\n",
              "      <td>1</td>\n",
              "    </tr>\n",
              "    <tr>\n",
              "      <th>1</th>\n",
              "      <td>ppl_100</td>\n",
              "      <td>act2_2434093</td>\n",
              "      <td>type 2</td>\n",
              "      <td>type 1</td>\n",
              "      <td>0</td>\n",
              "      <td>type 2</td>\n",
              "      <td>group 17304</td>\n",
              "      <td>type 2</td>\n",
              "      <td>2021-06-29</td>\n",
              "      <td>type 5</td>\n",
              "      <td>type 5</td>\n",
              "      <td>type 5</td>\n",
              "      <td>type 3</td>\n",
              "      <td>type 11</td>\n",
              "      <td>type 2</td>\n",
              "      <td>type 2</td>\n",
              "      <td>True</td>\n",
              "      <td>False</td>\n",
              "      <td>False</td>\n",
              "      <td>True</td>\n",
              "      <td>True</td>\n",
              "      <td>False</td>\n",
              "      <td>True</td>\n",
              "      <td>False</td>\n",
              "      <td>False</td>\n",
              "      <td>False</td>\n",
              "      <td>False</td>\n",
              "      <td>True</td>\n",
              "      <td>False</td>\n",
              "      <td>False</td>\n",
              "      <td>False</td>\n",
              "      <td>False</td>\n",
              "      <td>False</td>\n",
              "      <td>True</td>\n",
              "      <td>True</td>\n",
              "      <td>False</td>\n",
              "      <td>True</td>\n",
              "      <td>True</td>\n",
              "      <td>False</td>\n",
              "      <td>False</td>\n",
              "      <td>True</td>\n",
              "      <td>True</td>\n",
              "      <td>True</td>\n",
              "      <td>False</td>\n",
              "      <td>36</td>\n",
              "      <td>2022-09-27</td>\n",
              "      <td>2022</td>\n",
              "      <td>9</td>\n",
              "      <td>27</td>\n",
              "      <td>0</td>\n",
              "    </tr>\n",
              "    <tr>\n",
              "      <th>2</th>\n",
              "      <td>ppl_100</td>\n",
              "      <td>act2_3404049</td>\n",
              "      <td>type 2</td>\n",
              "      <td>type 1</td>\n",
              "      <td>0</td>\n",
              "      <td>type 2</td>\n",
              "      <td>group 17304</td>\n",
              "      <td>type 2</td>\n",
              "      <td>2021-06-29</td>\n",
              "      <td>type 5</td>\n",
              "      <td>type 5</td>\n",
              "      <td>type 5</td>\n",
              "      <td>type 3</td>\n",
              "      <td>type 11</td>\n",
              "      <td>type 2</td>\n",
              "      <td>type 2</td>\n",
              "      <td>True</td>\n",
              "      <td>False</td>\n",
              "      <td>False</td>\n",
              "      <td>True</td>\n",
              "      <td>True</td>\n",
              "      <td>False</td>\n",
              "      <td>True</td>\n",
              "      <td>False</td>\n",
              "      <td>False</td>\n",
              "      <td>False</td>\n",
              "      <td>False</td>\n",
              "      <td>True</td>\n",
              "      <td>False</td>\n",
              "      <td>False</td>\n",
              "      <td>False</td>\n",
              "      <td>False</td>\n",
              "      <td>False</td>\n",
              "      <td>True</td>\n",
              "      <td>True</td>\n",
              "      <td>False</td>\n",
              "      <td>True</td>\n",
              "      <td>True</td>\n",
              "      <td>False</td>\n",
              "      <td>False</td>\n",
              "      <td>True</td>\n",
              "      <td>True</td>\n",
              "      <td>True</td>\n",
              "      <td>False</td>\n",
              "      <td>36</td>\n",
              "      <td>2022-09-27</td>\n",
              "      <td>2022</td>\n",
              "      <td>9</td>\n",
              "      <td>27</td>\n",
              "      <td>0</td>\n",
              "    </tr>\n",
              "    <tr>\n",
              "      <th>3</th>\n",
              "      <td>ppl_100</td>\n",
              "      <td>act2_3651215</td>\n",
              "      <td>type 2</td>\n",
              "      <td>type 1</td>\n",
              "      <td>0</td>\n",
              "      <td>type 2</td>\n",
              "      <td>group 17304</td>\n",
              "      <td>type 2</td>\n",
              "      <td>2021-06-29</td>\n",
              "      <td>type 5</td>\n",
              "      <td>type 5</td>\n",
              "      <td>type 5</td>\n",
              "      <td>type 3</td>\n",
              "      <td>type 11</td>\n",
              "      <td>type 2</td>\n",
              "      <td>type 2</td>\n",
              "      <td>True</td>\n",
              "      <td>False</td>\n",
              "      <td>False</td>\n",
              "      <td>True</td>\n",
              "      <td>True</td>\n",
              "      <td>False</td>\n",
              "      <td>True</td>\n",
              "      <td>False</td>\n",
              "      <td>False</td>\n",
              "      <td>False</td>\n",
              "      <td>False</td>\n",
              "      <td>True</td>\n",
              "      <td>False</td>\n",
              "      <td>False</td>\n",
              "      <td>False</td>\n",
              "      <td>False</td>\n",
              "      <td>False</td>\n",
              "      <td>True</td>\n",
              "      <td>True</td>\n",
              "      <td>False</td>\n",
              "      <td>True</td>\n",
              "      <td>True</td>\n",
              "      <td>False</td>\n",
              "      <td>False</td>\n",
              "      <td>True</td>\n",
              "      <td>True</td>\n",
              "      <td>True</td>\n",
              "      <td>False</td>\n",
              "      <td>36</td>\n",
              "      <td>2023-08-04</td>\n",
              "      <td>2023</td>\n",
              "      <td>8</td>\n",
              "      <td>4</td>\n",
              "      <td>0</td>\n",
              "    </tr>\n",
              "    <tr>\n",
              "      <th>4</th>\n",
              "      <td>ppl_100</td>\n",
              "      <td>act2_4109017</td>\n",
              "      <td>type 2</td>\n",
              "      <td>type 1</td>\n",
              "      <td>0</td>\n",
              "      <td>type 2</td>\n",
              "      <td>group 17304</td>\n",
              "      <td>type 2</td>\n",
              "      <td>2021-06-29</td>\n",
              "      <td>type 5</td>\n",
              "      <td>type 5</td>\n",
              "      <td>type 5</td>\n",
              "      <td>type 3</td>\n",
              "      <td>type 11</td>\n",
              "      <td>type 2</td>\n",
              "      <td>type 2</td>\n",
              "      <td>True</td>\n",
              "      <td>False</td>\n",
              "      <td>False</td>\n",
              "      <td>True</td>\n",
              "      <td>True</td>\n",
              "      <td>False</td>\n",
              "      <td>True</td>\n",
              "      <td>False</td>\n",
              "      <td>False</td>\n",
              "      <td>False</td>\n",
              "      <td>False</td>\n",
              "      <td>True</td>\n",
              "      <td>False</td>\n",
              "      <td>False</td>\n",
              "      <td>False</td>\n",
              "      <td>False</td>\n",
              "      <td>False</td>\n",
              "      <td>True</td>\n",
              "      <td>True</td>\n",
              "      <td>False</td>\n",
              "      <td>True</td>\n",
              "      <td>True</td>\n",
              "      <td>False</td>\n",
              "      <td>False</td>\n",
              "      <td>True</td>\n",
              "      <td>True</td>\n",
              "      <td>True</td>\n",
              "      <td>False</td>\n",
              "      <td>36</td>\n",
              "      <td>2023-08-26</td>\n",
              "      <td>2023</td>\n",
              "      <td>8</td>\n",
              "      <td>26</td>\n",
              "      <td>1</td>\n",
              "    </tr>\n",
              "  </tbody>\n",
              "</table>\n",
              "</div>\n",
              "      <button class=\"colab-df-convert\" onclick=\"convertToInteractive('df-8b72b0a5-2dd7-4b59-8841-d3369211438f')\"\n",
              "              title=\"Convert this dataframe to an interactive table.\"\n",
              "              style=\"display:none;\">\n",
              "        \n",
              "  <svg xmlns=\"http://www.w3.org/2000/svg\" height=\"24px\"viewBox=\"0 0 24 24\"\n",
              "       width=\"24px\">\n",
              "    <path d=\"M0 0h24v24H0V0z\" fill=\"none\"/>\n",
              "    <path d=\"M18.56 5.44l.94 2.06.94-2.06 2.06-.94-2.06-.94-.94-2.06-.94 2.06-2.06.94zm-11 1L8.5 8.5l.94-2.06 2.06-.94-2.06-.94L8.5 2.5l-.94 2.06-2.06.94zm10 10l.94 2.06.94-2.06 2.06-.94-2.06-.94-.94-2.06-.94 2.06-2.06.94z\"/><path d=\"M17.41 7.96l-1.37-1.37c-.4-.4-.92-.59-1.43-.59-.52 0-1.04.2-1.43.59L10.3 9.45l-7.72 7.72c-.78.78-.78 2.05 0 2.83L4 21.41c.39.39.9.59 1.41.59.51 0 1.02-.2 1.41-.59l7.78-7.78 2.81-2.81c.8-.78.8-2.07 0-2.86zM5.41 20L4 18.59l7.72-7.72 1.47 1.35L5.41 20z\"/>\n",
              "  </svg>\n",
              "      </button>\n",
              "      \n",
              "  <style>\n",
              "    .colab-df-container {\n",
              "      display:flex;\n",
              "      flex-wrap:wrap;\n",
              "      gap: 12px;\n",
              "    }\n",
              "\n",
              "    .colab-df-convert {\n",
              "      background-color: #E8F0FE;\n",
              "      border: none;\n",
              "      border-radius: 50%;\n",
              "      cursor: pointer;\n",
              "      display: none;\n",
              "      fill: #1967D2;\n",
              "      height: 32px;\n",
              "      padding: 0 0 0 0;\n",
              "      width: 32px;\n",
              "    }\n",
              "\n",
              "    .colab-df-convert:hover {\n",
              "      background-color: #E2EBFA;\n",
              "      box-shadow: 0px 1px 2px rgba(60, 64, 67, 0.3), 0px 1px 3px 1px rgba(60, 64, 67, 0.15);\n",
              "      fill: #174EA6;\n",
              "    }\n",
              "\n",
              "    [theme=dark] .colab-df-convert {\n",
              "      background-color: #3B4455;\n",
              "      fill: #D2E3FC;\n",
              "    }\n",
              "\n",
              "    [theme=dark] .colab-df-convert:hover {\n",
              "      background-color: #434B5C;\n",
              "      box-shadow: 0px 1px 3px 1px rgba(0, 0, 0, 0.15);\n",
              "      filter: drop-shadow(0px 1px 2px rgba(0, 0, 0, 0.3));\n",
              "      fill: #FFFFFF;\n",
              "    }\n",
              "  </style>\n",
              "\n",
              "      <script>\n",
              "        const buttonEl =\n",
              "          document.querySelector('#df-8b72b0a5-2dd7-4b59-8841-d3369211438f button.colab-df-convert');\n",
              "        buttonEl.style.display =\n",
              "          google.colab.kernel.accessAllowed ? 'block' : 'none';\n",
              "\n",
              "        async function convertToInteractive(key) {\n",
              "          const element = document.querySelector('#df-8b72b0a5-2dd7-4b59-8841-d3369211438f');\n",
              "          const dataTable =\n",
              "            await google.colab.kernel.invokeFunction('convertToInteractive',\n",
              "                                                     [key], {});\n",
              "          if (!dataTable) return;\n",
              "\n",
              "          const docLinkHtml = 'Like what you see? Visit the ' +\n",
              "            '<a target=\"_blank\" href=https://colab.research.google.com/notebooks/data_table.ipynb>data table notebook</a>'\n",
              "            + ' to learn more about interactive tables.';\n",
              "          element.innerHTML = '';\n",
              "          dataTable['output_type'] = 'display_data';\n",
              "          await google.colab.output.renderOutput(dataTable, element);\n",
              "          const docLink = document.createElement('div');\n",
              "          docLink.innerHTML = docLinkHtml;\n",
              "          element.appendChild(docLink);\n",
              "        }\n",
              "      </script>\n",
              "    </div>\n",
              "  </div>\n",
              "  "
            ],
            "text/plain": [
              "  people_id   activity_id activity_category  ... month  day isweekend\n",
              "0   ppl_100  act2_1734928            type 4  ...     8   26         1\n",
              "1   ppl_100  act2_2434093            type 2  ...     9   27         0\n",
              "2   ppl_100  act2_3404049            type 2  ...     9   27         0\n",
              "3   ppl_100  act2_3651215            type 2  ...     8    4         0\n",
              "4   ppl_100  act2_4109017            type 2  ...     8   26         1\n",
              "\n",
              "[5 rows x 50 columns]"
            ]
          },
          "metadata": {},
          "execution_count": 42
        }
      ],
      "source": [
        "merged_df.head()"
      ]
    },
    {
      "cell_type": "code",
      "execution_count": 43,
      "metadata": {
        "id": "b7O_Jng7m-oM"
      },
      "outputs": [],
      "source": [
        "merged_df[['group', 'groupNo']]=merged_df['group_1'].str.split(' ',expand=True)"
      ]
    },
    {
      "cell_type": "code",
      "execution_count": 44,
      "metadata": {
        "id": "YFf9XebWmY2C"
      },
      "outputs": [],
      "source": [
        "merged_df.drop(['group','group_1'],axis=1, inplace=True)"
      ]
    },
    {
      "cell_type": "code",
      "execution_count": 45,
      "metadata": {
        "id": "DICeOVkPhLmk"
      },
      "outputs": [],
      "source": [
        "merged_df.drop('char_10_x', axis=1, inplace=True)"
      ]
    },
    {
      "cell_type": "code",
      "execution_count": 46,
      "metadata": {
        "colab": {
          "base_uri": "https://localhost:8080/"
        },
        "id": "Ex8LGlgCjlH3",
        "outputId": "8bc72f90-d1af-4953-d1a6-62848d9e78f1"
      },
      "outputs": [
        {
          "output_type": "execute_result",
          "data": {
            "text/plain": [
              "['people_id',\n",
              " 'activity_id',\n",
              " 'date_x',\n",
              " 'activity_category',\n",
              " 'char_10_x',\n",
              " 'char_1_y',\n",
              " 'group_1',\n",
              " 'char_2_y',\n",
              " 'date_y',\n",
              " 'char_3_y',\n",
              " 'char_4_y',\n",
              " 'char_5_y',\n",
              " 'char_6_y',\n",
              " 'char_7_y',\n",
              " 'char_8_y',\n",
              " 'char_9_y']"
            ]
          },
          "metadata": {},
          "execution_count": 46
        }
      ],
      "source": [
        "categorical_features"
      ]
    },
    {
      "cell_type": "code",
      "execution_count": 47,
      "metadata": {
        "id": "o8G3fQKnlZkk"
      },
      "outputs": [],
      "source": [
        "categorical_features.remove('people_id')\n",
        "categorical_features.remove('date_y')\n",
        "\n",
        "categorical_features.remove('activity_id')"
      ]
    },
    {
      "cell_type": "code",
      "execution_count": 48,
      "metadata": {
        "id": "fD1K_FWhli4Z"
      },
      "outputs": [],
      "source": [
        "categorical_features.remove('char_10_x')"
      ]
    },
    {
      "cell_type": "code",
      "execution_count": 49,
      "metadata": {
        "id": "L-7xjKI3okZb"
      },
      "outputs": [],
      "source": [
        "categorical_features.remove('date_x')\n",
        "categorical_features.remove('group_1')"
      ]
    },
    {
      "cell_type": "code",
      "execution_count": 50,
      "metadata": {
        "colab": {
          "base_uri": "https://localhost:8080/",
          "height": 357
        },
        "id": "IonUYV0bi4HA",
        "outputId": "a8b7a14d-7147-471e-a879-7aba8d8c6261"
      },
      "outputs": [
        {
          "output_type": "execute_result",
          "data": {
            "text/html": [
              "\n",
              "  <div id=\"df-ed9297af-c49f-4a72-a640-ac8b5a3f904d\">\n",
              "    <div class=\"colab-df-container\">\n",
              "      <div>\n",
              "<style scoped>\n",
              "    .dataframe tbody tr th:only-of-type {\n",
              "        vertical-align: middle;\n",
              "    }\n",
              "\n",
              "    .dataframe tbody tr th {\n",
              "        vertical-align: top;\n",
              "    }\n",
              "\n",
              "    .dataframe thead th {\n",
              "        text-align: right;\n",
              "    }\n",
              "</style>\n",
              "<table border=\"1\" class=\"dataframe\">\n",
              "  <thead>\n",
              "    <tr style=\"text-align: right;\">\n",
              "      <th></th>\n",
              "      <th>activity_category</th>\n",
              "      <th>outcome</th>\n",
              "      <th>char_1_y</th>\n",
              "      <th>char_2_y</th>\n",
              "      <th>char_3_y</th>\n",
              "      <th>char_4_y</th>\n",
              "      <th>char_5_y</th>\n",
              "      <th>char_6_y</th>\n",
              "      <th>char_7_y</th>\n",
              "      <th>char_8_y</th>\n",
              "      <th>char_9_y</th>\n",
              "      <th>char_10_y</th>\n",
              "      <th>char_11</th>\n",
              "      <th>char_12</th>\n",
              "      <th>char_13</th>\n",
              "      <th>char_14</th>\n",
              "      <th>char_15</th>\n",
              "      <th>char_16</th>\n",
              "      <th>char_17</th>\n",
              "      <th>char_18</th>\n",
              "      <th>char_19</th>\n",
              "      <th>char_20</th>\n",
              "      <th>char_21</th>\n",
              "      <th>char_22</th>\n",
              "      <th>char_23</th>\n",
              "      <th>char_24</th>\n",
              "      <th>char_25</th>\n",
              "      <th>char_26</th>\n",
              "      <th>char_27</th>\n",
              "      <th>char_28</th>\n",
              "      <th>char_29</th>\n",
              "      <th>char_30</th>\n",
              "      <th>char_31</th>\n",
              "      <th>char_32</th>\n",
              "      <th>char_33</th>\n",
              "      <th>char_34</th>\n",
              "      <th>char_35</th>\n",
              "      <th>char_36</th>\n",
              "      <th>char_37</th>\n",
              "      <th>char_38</th>\n",
              "      <th>Date</th>\n",
              "      <th>year</th>\n",
              "      <th>month</th>\n",
              "      <th>day</th>\n",
              "      <th>isweekend</th>\n",
              "      <th>groupNo</th>\n",
              "    </tr>\n",
              "  </thead>\n",
              "  <tbody>\n",
              "    <tr>\n",
              "      <th>0</th>\n",
              "      <td>type 4</td>\n",
              "      <td>0</td>\n",
              "      <td>type 2</td>\n",
              "      <td>type 2</td>\n",
              "      <td>type 5</td>\n",
              "      <td>type 5</td>\n",
              "      <td>type 5</td>\n",
              "      <td>type 3</td>\n",
              "      <td>type 11</td>\n",
              "      <td>type 2</td>\n",
              "      <td>type 2</td>\n",
              "      <td>True</td>\n",
              "      <td>False</td>\n",
              "      <td>False</td>\n",
              "      <td>True</td>\n",
              "      <td>True</td>\n",
              "      <td>False</td>\n",
              "      <td>True</td>\n",
              "      <td>False</td>\n",
              "      <td>False</td>\n",
              "      <td>False</td>\n",
              "      <td>False</td>\n",
              "      <td>True</td>\n",
              "      <td>False</td>\n",
              "      <td>False</td>\n",
              "      <td>False</td>\n",
              "      <td>False</td>\n",
              "      <td>False</td>\n",
              "      <td>True</td>\n",
              "      <td>True</td>\n",
              "      <td>False</td>\n",
              "      <td>True</td>\n",
              "      <td>True</td>\n",
              "      <td>False</td>\n",
              "      <td>False</td>\n",
              "      <td>True</td>\n",
              "      <td>True</td>\n",
              "      <td>True</td>\n",
              "      <td>False</td>\n",
              "      <td>36</td>\n",
              "      <td>2023-08-26</td>\n",
              "      <td>2023</td>\n",
              "      <td>8</td>\n",
              "      <td>26</td>\n",
              "      <td>1</td>\n",
              "      <td>17304</td>\n",
              "    </tr>\n",
              "    <tr>\n",
              "      <th>1</th>\n",
              "      <td>type 2</td>\n",
              "      <td>0</td>\n",
              "      <td>type 2</td>\n",
              "      <td>type 2</td>\n",
              "      <td>type 5</td>\n",
              "      <td>type 5</td>\n",
              "      <td>type 5</td>\n",
              "      <td>type 3</td>\n",
              "      <td>type 11</td>\n",
              "      <td>type 2</td>\n",
              "      <td>type 2</td>\n",
              "      <td>True</td>\n",
              "      <td>False</td>\n",
              "      <td>False</td>\n",
              "      <td>True</td>\n",
              "      <td>True</td>\n",
              "      <td>False</td>\n",
              "      <td>True</td>\n",
              "      <td>False</td>\n",
              "      <td>False</td>\n",
              "      <td>False</td>\n",
              "      <td>False</td>\n",
              "      <td>True</td>\n",
              "      <td>False</td>\n",
              "      <td>False</td>\n",
              "      <td>False</td>\n",
              "      <td>False</td>\n",
              "      <td>False</td>\n",
              "      <td>True</td>\n",
              "      <td>True</td>\n",
              "      <td>False</td>\n",
              "      <td>True</td>\n",
              "      <td>True</td>\n",
              "      <td>False</td>\n",
              "      <td>False</td>\n",
              "      <td>True</td>\n",
              "      <td>True</td>\n",
              "      <td>True</td>\n",
              "      <td>False</td>\n",
              "      <td>36</td>\n",
              "      <td>2022-09-27</td>\n",
              "      <td>2022</td>\n",
              "      <td>9</td>\n",
              "      <td>27</td>\n",
              "      <td>0</td>\n",
              "      <td>17304</td>\n",
              "    </tr>\n",
              "    <tr>\n",
              "      <th>2</th>\n",
              "      <td>type 2</td>\n",
              "      <td>0</td>\n",
              "      <td>type 2</td>\n",
              "      <td>type 2</td>\n",
              "      <td>type 5</td>\n",
              "      <td>type 5</td>\n",
              "      <td>type 5</td>\n",
              "      <td>type 3</td>\n",
              "      <td>type 11</td>\n",
              "      <td>type 2</td>\n",
              "      <td>type 2</td>\n",
              "      <td>True</td>\n",
              "      <td>False</td>\n",
              "      <td>False</td>\n",
              "      <td>True</td>\n",
              "      <td>True</td>\n",
              "      <td>False</td>\n",
              "      <td>True</td>\n",
              "      <td>False</td>\n",
              "      <td>False</td>\n",
              "      <td>False</td>\n",
              "      <td>False</td>\n",
              "      <td>True</td>\n",
              "      <td>False</td>\n",
              "      <td>False</td>\n",
              "      <td>False</td>\n",
              "      <td>False</td>\n",
              "      <td>False</td>\n",
              "      <td>True</td>\n",
              "      <td>True</td>\n",
              "      <td>False</td>\n",
              "      <td>True</td>\n",
              "      <td>True</td>\n",
              "      <td>False</td>\n",
              "      <td>False</td>\n",
              "      <td>True</td>\n",
              "      <td>True</td>\n",
              "      <td>True</td>\n",
              "      <td>False</td>\n",
              "      <td>36</td>\n",
              "      <td>2022-09-27</td>\n",
              "      <td>2022</td>\n",
              "      <td>9</td>\n",
              "      <td>27</td>\n",
              "      <td>0</td>\n",
              "      <td>17304</td>\n",
              "    </tr>\n",
              "    <tr>\n",
              "      <th>3</th>\n",
              "      <td>type 2</td>\n",
              "      <td>0</td>\n",
              "      <td>type 2</td>\n",
              "      <td>type 2</td>\n",
              "      <td>type 5</td>\n",
              "      <td>type 5</td>\n",
              "      <td>type 5</td>\n",
              "      <td>type 3</td>\n",
              "      <td>type 11</td>\n",
              "      <td>type 2</td>\n",
              "      <td>type 2</td>\n",
              "      <td>True</td>\n",
              "      <td>False</td>\n",
              "      <td>False</td>\n",
              "      <td>True</td>\n",
              "      <td>True</td>\n",
              "      <td>False</td>\n",
              "      <td>True</td>\n",
              "      <td>False</td>\n",
              "      <td>False</td>\n",
              "      <td>False</td>\n",
              "      <td>False</td>\n",
              "      <td>True</td>\n",
              "      <td>False</td>\n",
              "      <td>False</td>\n",
              "      <td>False</td>\n",
              "      <td>False</td>\n",
              "      <td>False</td>\n",
              "      <td>True</td>\n",
              "      <td>True</td>\n",
              "      <td>False</td>\n",
              "      <td>True</td>\n",
              "      <td>True</td>\n",
              "      <td>False</td>\n",
              "      <td>False</td>\n",
              "      <td>True</td>\n",
              "      <td>True</td>\n",
              "      <td>True</td>\n",
              "      <td>False</td>\n",
              "      <td>36</td>\n",
              "      <td>2023-08-04</td>\n",
              "      <td>2023</td>\n",
              "      <td>8</td>\n",
              "      <td>4</td>\n",
              "      <td>0</td>\n",
              "      <td>17304</td>\n",
              "    </tr>\n",
              "    <tr>\n",
              "      <th>4</th>\n",
              "      <td>type 2</td>\n",
              "      <td>0</td>\n",
              "      <td>type 2</td>\n",
              "      <td>type 2</td>\n",
              "      <td>type 5</td>\n",
              "      <td>type 5</td>\n",
              "      <td>type 5</td>\n",
              "      <td>type 3</td>\n",
              "      <td>type 11</td>\n",
              "      <td>type 2</td>\n",
              "      <td>type 2</td>\n",
              "      <td>True</td>\n",
              "      <td>False</td>\n",
              "      <td>False</td>\n",
              "      <td>True</td>\n",
              "      <td>True</td>\n",
              "      <td>False</td>\n",
              "      <td>True</td>\n",
              "      <td>False</td>\n",
              "      <td>False</td>\n",
              "      <td>False</td>\n",
              "      <td>False</td>\n",
              "      <td>True</td>\n",
              "      <td>False</td>\n",
              "      <td>False</td>\n",
              "      <td>False</td>\n",
              "      <td>False</td>\n",
              "      <td>False</td>\n",
              "      <td>True</td>\n",
              "      <td>True</td>\n",
              "      <td>False</td>\n",
              "      <td>True</td>\n",
              "      <td>True</td>\n",
              "      <td>False</td>\n",
              "      <td>False</td>\n",
              "      <td>True</td>\n",
              "      <td>True</td>\n",
              "      <td>True</td>\n",
              "      <td>False</td>\n",
              "      <td>36</td>\n",
              "      <td>2023-08-26</td>\n",
              "      <td>2023</td>\n",
              "      <td>8</td>\n",
              "      <td>26</td>\n",
              "      <td>1</td>\n",
              "      <td>17304</td>\n",
              "    </tr>\n",
              "  </tbody>\n",
              "</table>\n",
              "</div>\n",
              "      <button class=\"colab-df-convert\" onclick=\"convertToInteractive('df-ed9297af-c49f-4a72-a640-ac8b5a3f904d')\"\n",
              "              title=\"Convert this dataframe to an interactive table.\"\n",
              "              style=\"display:none;\">\n",
              "        \n",
              "  <svg xmlns=\"http://www.w3.org/2000/svg\" height=\"24px\"viewBox=\"0 0 24 24\"\n",
              "       width=\"24px\">\n",
              "    <path d=\"M0 0h24v24H0V0z\" fill=\"none\"/>\n",
              "    <path d=\"M18.56 5.44l.94 2.06.94-2.06 2.06-.94-2.06-.94-.94-2.06-.94 2.06-2.06.94zm-11 1L8.5 8.5l.94-2.06 2.06-.94-2.06-.94L8.5 2.5l-.94 2.06-2.06.94zm10 10l.94 2.06.94-2.06 2.06-.94-2.06-.94-.94-2.06-.94 2.06-2.06.94z\"/><path d=\"M17.41 7.96l-1.37-1.37c-.4-.4-.92-.59-1.43-.59-.52 0-1.04.2-1.43.59L10.3 9.45l-7.72 7.72c-.78.78-.78 2.05 0 2.83L4 21.41c.39.39.9.59 1.41.59.51 0 1.02-.2 1.41-.59l7.78-7.78 2.81-2.81c.8-.78.8-2.07 0-2.86zM5.41 20L4 18.59l7.72-7.72 1.47 1.35L5.41 20z\"/>\n",
              "  </svg>\n",
              "      </button>\n",
              "      \n",
              "  <style>\n",
              "    .colab-df-container {\n",
              "      display:flex;\n",
              "      flex-wrap:wrap;\n",
              "      gap: 12px;\n",
              "    }\n",
              "\n",
              "    .colab-df-convert {\n",
              "      background-color: #E8F0FE;\n",
              "      border: none;\n",
              "      border-radius: 50%;\n",
              "      cursor: pointer;\n",
              "      display: none;\n",
              "      fill: #1967D2;\n",
              "      height: 32px;\n",
              "      padding: 0 0 0 0;\n",
              "      width: 32px;\n",
              "    }\n",
              "\n",
              "    .colab-df-convert:hover {\n",
              "      background-color: #E2EBFA;\n",
              "      box-shadow: 0px 1px 2px rgba(60, 64, 67, 0.3), 0px 1px 3px 1px rgba(60, 64, 67, 0.15);\n",
              "      fill: #174EA6;\n",
              "    }\n",
              "\n",
              "    [theme=dark] .colab-df-convert {\n",
              "      background-color: #3B4455;\n",
              "      fill: #D2E3FC;\n",
              "    }\n",
              "\n",
              "    [theme=dark] .colab-df-convert:hover {\n",
              "      background-color: #434B5C;\n",
              "      box-shadow: 0px 1px 3px 1px rgba(0, 0, 0, 0.15);\n",
              "      filter: drop-shadow(0px 1px 2px rgba(0, 0, 0, 0.3));\n",
              "      fill: #FFFFFF;\n",
              "    }\n",
              "  </style>\n",
              "\n",
              "      <script>\n",
              "        const buttonEl =\n",
              "          document.querySelector('#df-ed9297af-c49f-4a72-a640-ac8b5a3f904d button.colab-df-convert');\n",
              "        buttonEl.style.display =\n",
              "          google.colab.kernel.accessAllowed ? 'block' : 'none';\n",
              "\n",
              "        async function convertToInteractive(key) {\n",
              "          const element = document.querySelector('#df-ed9297af-c49f-4a72-a640-ac8b5a3f904d');\n",
              "          const dataTable =\n",
              "            await google.colab.kernel.invokeFunction('convertToInteractive',\n",
              "                                                     [key], {});\n",
              "          if (!dataTable) return;\n",
              "\n",
              "          const docLinkHtml = 'Like what you see? Visit the ' +\n",
              "            '<a target=\"_blank\" href=https://colab.research.google.com/notebooks/data_table.ipynb>data table notebook</a>'\n",
              "            + ' to learn more about interactive tables.';\n",
              "          element.innerHTML = '';\n",
              "          dataTable['output_type'] = 'display_data';\n",
              "          await google.colab.output.renderOutput(dataTable, element);\n",
              "          const docLink = document.createElement('div');\n",
              "          docLink.innerHTML = docLinkHtml;\n",
              "          element.appendChild(docLink);\n",
              "        }\n",
              "      </script>\n",
              "    </div>\n",
              "  </div>\n",
              "  "
            ],
            "text/plain": [
              "  activity_category  outcome char_1_y char_2_y  ... month day isweekend groupNo\n",
              "0            type 4        0   type 2   type 2  ...     8  26         1   17304\n",
              "1            type 2        0   type 2   type 2  ...     9  27         0   17304\n",
              "2            type 2        0   type 2   type 2  ...     9  27         0   17304\n",
              "3            type 2        0   type 2   type 2  ...     8   4         0   17304\n",
              "4            type 2        0   type 2   type 2  ...     8  26         1   17304\n",
              "\n",
              "[5 rows x 46 columns]"
            ]
          },
          "metadata": {},
          "execution_count": 50
        }
      ],
      "source": [
        "merged_df.drop(['activity_id','people_id','date_y'], axis=1, inplace=True)\n",
        "merged_df.head(5)"
      ]
    },
    {
      "cell_type": "code",
      "execution_count": 51,
      "metadata": {
        "colab": {
          "base_uri": "https://localhost:8080/"
        },
        "id": "CZSKhm7e8UJs",
        "outputId": "7f25c587-f152-4721-b2eb-9e58bdf01002"
      },
      "outputs": [
        {
          "output_type": "execute_result",
          "data": {
            "text/plain": [
              "(0          type 4\n",
              " 1          type 2\n",
              " 2          type 2\n",
              " 3          type 2\n",
              " 4          type 2\n",
              "             ...  \n",
              " 2197286    type 4\n",
              " 2197287    type 4\n",
              " 2197288    type 2\n",
              " 2197289    type 4\n",
              " 2197290    type 2\n",
              " Name: activity_category, Length: 2039676, dtype: object,\n",
              "         activity_category char_1_y char_2_y  ... char_7_y char_8_y char_9_y\n",
              " 0                  type 4   type 2   type 2  ...  type 11   type 2   type 2\n",
              " 1                  type 2   type 2   type 2  ...  type 11   type 2   type 2\n",
              " 2                  type 2   type 2   type 2  ...  type 11   type 2   type 2\n",
              " 3                  type 2   type 2   type 2  ...  type 11   type 2   type 2\n",
              " 4                  type 2   type 2   type 2  ...  type 11   type 2   type 2\n",
              " ...                   ...      ...      ...  ...      ...      ...      ...\n",
              " 2197286            type 4   type 2   type 3  ...   type 2   type 2   type 2\n",
              " 2197287            type 4   type 2   type 3  ...   type 2   type 2   type 2\n",
              " 2197288            type 2   type 2   type 3  ...   type 2   type 2   type 2\n",
              " 2197289            type 4   type 2   type 3  ...   type 2   type 2   type 2\n",
              " 2197290            type 2   type 2   type 3  ...   type 2   type 2   type 2\n",
              " \n",
              " [2039676 rows x 10 columns])"
            ]
          },
          "metadata": {},
          "execution_count": 51
        }
      ],
      "source": [
        "merged_df[\"activity_category\"], merged_df[categorical_features]"
      ]
    },
    {
      "cell_type": "code",
      "execution_count": 52,
      "metadata": {
        "colab": {
          "base_uri": "https://localhost:8080/",
          "height": 357
        },
        "id": "gzqmpr3Pa21R",
        "outputId": "247ee747-0572-426e-e15c-928ae8e1b9d7"
      },
      "outputs": [
        {
          "output_type": "execute_result",
          "data": {
            "text/html": [
              "\n",
              "  <div id=\"df-50f5f280-cbeb-4122-a704-aba0bc513181\">\n",
              "    <div class=\"colab-df-container\">\n",
              "      <div>\n",
              "<style scoped>\n",
              "    .dataframe tbody tr th:only-of-type {\n",
              "        vertical-align: middle;\n",
              "    }\n",
              "\n",
              "    .dataframe tbody tr th {\n",
              "        vertical-align: top;\n",
              "    }\n",
              "\n",
              "    .dataframe thead th {\n",
              "        text-align: right;\n",
              "    }\n",
              "</style>\n",
              "<table border=\"1\" class=\"dataframe\">\n",
              "  <thead>\n",
              "    <tr style=\"text-align: right;\">\n",
              "      <th></th>\n",
              "      <th>activity_category</th>\n",
              "      <th>outcome</th>\n",
              "      <th>char_1_y</th>\n",
              "      <th>char_2_y</th>\n",
              "      <th>char_3_y</th>\n",
              "      <th>char_4_y</th>\n",
              "      <th>char_5_y</th>\n",
              "      <th>char_6_y</th>\n",
              "      <th>char_7_y</th>\n",
              "      <th>char_8_y</th>\n",
              "      <th>char_9_y</th>\n",
              "      <th>char_10_y</th>\n",
              "      <th>char_11</th>\n",
              "      <th>char_12</th>\n",
              "      <th>char_13</th>\n",
              "      <th>char_14</th>\n",
              "      <th>char_15</th>\n",
              "      <th>char_16</th>\n",
              "      <th>char_17</th>\n",
              "      <th>char_18</th>\n",
              "      <th>char_19</th>\n",
              "      <th>char_20</th>\n",
              "      <th>char_21</th>\n",
              "      <th>char_22</th>\n",
              "      <th>char_23</th>\n",
              "      <th>char_24</th>\n",
              "      <th>char_25</th>\n",
              "      <th>char_26</th>\n",
              "      <th>char_27</th>\n",
              "      <th>char_28</th>\n",
              "      <th>char_29</th>\n",
              "      <th>char_30</th>\n",
              "      <th>char_31</th>\n",
              "      <th>char_32</th>\n",
              "      <th>char_33</th>\n",
              "      <th>char_34</th>\n",
              "      <th>char_35</th>\n",
              "      <th>char_36</th>\n",
              "      <th>char_37</th>\n",
              "      <th>char_38</th>\n",
              "      <th>Date</th>\n",
              "      <th>year</th>\n",
              "      <th>month</th>\n",
              "      <th>day</th>\n",
              "      <th>isweekend</th>\n",
              "      <th>groupNo</th>\n",
              "    </tr>\n",
              "  </thead>\n",
              "  <tbody>\n",
              "    <tr>\n",
              "      <th>0</th>\n",
              "      <td>type 4</td>\n",
              "      <td>0</td>\n",
              "      <td>type 2</td>\n",
              "      <td>type 2</td>\n",
              "      <td>type 5</td>\n",
              "      <td>type 5</td>\n",
              "      <td>type 5</td>\n",
              "      <td>type 3</td>\n",
              "      <td>type 11</td>\n",
              "      <td>type 2</td>\n",
              "      <td>type 2</td>\n",
              "      <td>True</td>\n",
              "      <td>False</td>\n",
              "      <td>False</td>\n",
              "      <td>True</td>\n",
              "      <td>True</td>\n",
              "      <td>False</td>\n",
              "      <td>True</td>\n",
              "      <td>False</td>\n",
              "      <td>False</td>\n",
              "      <td>False</td>\n",
              "      <td>False</td>\n",
              "      <td>True</td>\n",
              "      <td>False</td>\n",
              "      <td>False</td>\n",
              "      <td>False</td>\n",
              "      <td>False</td>\n",
              "      <td>False</td>\n",
              "      <td>True</td>\n",
              "      <td>True</td>\n",
              "      <td>False</td>\n",
              "      <td>True</td>\n",
              "      <td>True</td>\n",
              "      <td>False</td>\n",
              "      <td>False</td>\n",
              "      <td>True</td>\n",
              "      <td>True</td>\n",
              "      <td>True</td>\n",
              "      <td>False</td>\n",
              "      <td>36</td>\n",
              "      <td>2023-08-26</td>\n",
              "      <td>2023</td>\n",
              "      <td>8</td>\n",
              "      <td>26</td>\n",
              "      <td>1</td>\n",
              "      <td>17304</td>\n",
              "    </tr>\n",
              "    <tr>\n",
              "      <th>1</th>\n",
              "      <td>type 2</td>\n",
              "      <td>0</td>\n",
              "      <td>type 2</td>\n",
              "      <td>type 2</td>\n",
              "      <td>type 5</td>\n",
              "      <td>type 5</td>\n",
              "      <td>type 5</td>\n",
              "      <td>type 3</td>\n",
              "      <td>type 11</td>\n",
              "      <td>type 2</td>\n",
              "      <td>type 2</td>\n",
              "      <td>True</td>\n",
              "      <td>False</td>\n",
              "      <td>False</td>\n",
              "      <td>True</td>\n",
              "      <td>True</td>\n",
              "      <td>False</td>\n",
              "      <td>True</td>\n",
              "      <td>False</td>\n",
              "      <td>False</td>\n",
              "      <td>False</td>\n",
              "      <td>False</td>\n",
              "      <td>True</td>\n",
              "      <td>False</td>\n",
              "      <td>False</td>\n",
              "      <td>False</td>\n",
              "      <td>False</td>\n",
              "      <td>False</td>\n",
              "      <td>True</td>\n",
              "      <td>True</td>\n",
              "      <td>False</td>\n",
              "      <td>True</td>\n",
              "      <td>True</td>\n",
              "      <td>False</td>\n",
              "      <td>False</td>\n",
              "      <td>True</td>\n",
              "      <td>True</td>\n",
              "      <td>True</td>\n",
              "      <td>False</td>\n",
              "      <td>36</td>\n",
              "      <td>2022-09-27</td>\n",
              "      <td>2022</td>\n",
              "      <td>9</td>\n",
              "      <td>27</td>\n",
              "      <td>0</td>\n",
              "      <td>17304</td>\n",
              "    </tr>\n",
              "    <tr>\n",
              "      <th>2</th>\n",
              "      <td>type 2</td>\n",
              "      <td>0</td>\n",
              "      <td>type 2</td>\n",
              "      <td>type 2</td>\n",
              "      <td>type 5</td>\n",
              "      <td>type 5</td>\n",
              "      <td>type 5</td>\n",
              "      <td>type 3</td>\n",
              "      <td>type 11</td>\n",
              "      <td>type 2</td>\n",
              "      <td>type 2</td>\n",
              "      <td>True</td>\n",
              "      <td>False</td>\n",
              "      <td>False</td>\n",
              "      <td>True</td>\n",
              "      <td>True</td>\n",
              "      <td>False</td>\n",
              "      <td>True</td>\n",
              "      <td>False</td>\n",
              "      <td>False</td>\n",
              "      <td>False</td>\n",
              "      <td>False</td>\n",
              "      <td>True</td>\n",
              "      <td>False</td>\n",
              "      <td>False</td>\n",
              "      <td>False</td>\n",
              "      <td>False</td>\n",
              "      <td>False</td>\n",
              "      <td>True</td>\n",
              "      <td>True</td>\n",
              "      <td>False</td>\n",
              "      <td>True</td>\n",
              "      <td>True</td>\n",
              "      <td>False</td>\n",
              "      <td>False</td>\n",
              "      <td>True</td>\n",
              "      <td>True</td>\n",
              "      <td>True</td>\n",
              "      <td>False</td>\n",
              "      <td>36</td>\n",
              "      <td>2022-09-27</td>\n",
              "      <td>2022</td>\n",
              "      <td>9</td>\n",
              "      <td>27</td>\n",
              "      <td>0</td>\n",
              "      <td>17304</td>\n",
              "    </tr>\n",
              "    <tr>\n",
              "      <th>3</th>\n",
              "      <td>type 2</td>\n",
              "      <td>0</td>\n",
              "      <td>type 2</td>\n",
              "      <td>type 2</td>\n",
              "      <td>type 5</td>\n",
              "      <td>type 5</td>\n",
              "      <td>type 5</td>\n",
              "      <td>type 3</td>\n",
              "      <td>type 11</td>\n",
              "      <td>type 2</td>\n",
              "      <td>type 2</td>\n",
              "      <td>True</td>\n",
              "      <td>False</td>\n",
              "      <td>False</td>\n",
              "      <td>True</td>\n",
              "      <td>True</td>\n",
              "      <td>False</td>\n",
              "      <td>True</td>\n",
              "      <td>False</td>\n",
              "      <td>False</td>\n",
              "      <td>False</td>\n",
              "      <td>False</td>\n",
              "      <td>True</td>\n",
              "      <td>False</td>\n",
              "      <td>False</td>\n",
              "      <td>False</td>\n",
              "      <td>False</td>\n",
              "      <td>False</td>\n",
              "      <td>True</td>\n",
              "      <td>True</td>\n",
              "      <td>False</td>\n",
              "      <td>True</td>\n",
              "      <td>True</td>\n",
              "      <td>False</td>\n",
              "      <td>False</td>\n",
              "      <td>True</td>\n",
              "      <td>True</td>\n",
              "      <td>True</td>\n",
              "      <td>False</td>\n",
              "      <td>36</td>\n",
              "      <td>2023-08-04</td>\n",
              "      <td>2023</td>\n",
              "      <td>8</td>\n",
              "      <td>4</td>\n",
              "      <td>0</td>\n",
              "      <td>17304</td>\n",
              "    </tr>\n",
              "    <tr>\n",
              "      <th>4</th>\n",
              "      <td>type 2</td>\n",
              "      <td>0</td>\n",
              "      <td>type 2</td>\n",
              "      <td>type 2</td>\n",
              "      <td>type 5</td>\n",
              "      <td>type 5</td>\n",
              "      <td>type 5</td>\n",
              "      <td>type 3</td>\n",
              "      <td>type 11</td>\n",
              "      <td>type 2</td>\n",
              "      <td>type 2</td>\n",
              "      <td>True</td>\n",
              "      <td>False</td>\n",
              "      <td>False</td>\n",
              "      <td>True</td>\n",
              "      <td>True</td>\n",
              "      <td>False</td>\n",
              "      <td>True</td>\n",
              "      <td>False</td>\n",
              "      <td>False</td>\n",
              "      <td>False</td>\n",
              "      <td>False</td>\n",
              "      <td>True</td>\n",
              "      <td>False</td>\n",
              "      <td>False</td>\n",
              "      <td>False</td>\n",
              "      <td>False</td>\n",
              "      <td>False</td>\n",
              "      <td>True</td>\n",
              "      <td>True</td>\n",
              "      <td>False</td>\n",
              "      <td>True</td>\n",
              "      <td>True</td>\n",
              "      <td>False</td>\n",
              "      <td>False</td>\n",
              "      <td>True</td>\n",
              "      <td>True</td>\n",
              "      <td>True</td>\n",
              "      <td>False</td>\n",
              "      <td>36</td>\n",
              "      <td>2023-08-26</td>\n",
              "      <td>2023</td>\n",
              "      <td>8</td>\n",
              "      <td>26</td>\n",
              "      <td>1</td>\n",
              "      <td>17304</td>\n",
              "    </tr>\n",
              "  </tbody>\n",
              "</table>\n",
              "</div>\n",
              "      <button class=\"colab-df-convert\" onclick=\"convertToInteractive('df-50f5f280-cbeb-4122-a704-aba0bc513181')\"\n",
              "              title=\"Convert this dataframe to an interactive table.\"\n",
              "              style=\"display:none;\">\n",
              "        \n",
              "  <svg xmlns=\"http://www.w3.org/2000/svg\" height=\"24px\"viewBox=\"0 0 24 24\"\n",
              "       width=\"24px\">\n",
              "    <path d=\"M0 0h24v24H0V0z\" fill=\"none\"/>\n",
              "    <path d=\"M18.56 5.44l.94 2.06.94-2.06 2.06-.94-2.06-.94-.94-2.06-.94 2.06-2.06.94zm-11 1L8.5 8.5l.94-2.06 2.06-.94-2.06-.94L8.5 2.5l-.94 2.06-2.06.94zm10 10l.94 2.06.94-2.06 2.06-.94-2.06-.94-.94-2.06-.94 2.06-2.06.94z\"/><path d=\"M17.41 7.96l-1.37-1.37c-.4-.4-.92-.59-1.43-.59-.52 0-1.04.2-1.43.59L10.3 9.45l-7.72 7.72c-.78.78-.78 2.05 0 2.83L4 21.41c.39.39.9.59 1.41.59.51 0 1.02-.2 1.41-.59l7.78-7.78 2.81-2.81c.8-.78.8-2.07 0-2.86zM5.41 20L4 18.59l7.72-7.72 1.47 1.35L5.41 20z\"/>\n",
              "  </svg>\n",
              "      </button>\n",
              "      \n",
              "  <style>\n",
              "    .colab-df-container {\n",
              "      display:flex;\n",
              "      flex-wrap:wrap;\n",
              "      gap: 12px;\n",
              "    }\n",
              "\n",
              "    .colab-df-convert {\n",
              "      background-color: #E8F0FE;\n",
              "      border: none;\n",
              "      border-radius: 50%;\n",
              "      cursor: pointer;\n",
              "      display: none;\n",
              "      fill: #1967D2;\n",
              "      height: 32px;\n",
              "      padding: 0 0 0 0;\n",
              "      width: 32px;\n",
              "    }\n",
              "\n",
              "    .colab-df-convert:hover {\n",
              "      background-color: #E2EBFA;\n",
              "      box-shadow: 0px 1px 2px rgba(60, 64, 67, 0.3), 0px 1px 3px 1px rgba(60, 64, 67, 0.15);\n",
              "      fill: #174EA6;\n",
              "    }\n",
              "\n",
              "    [theme=dark] .colab-df-convert {\n",
              "      background-color: #3B4455;\n",
              "      fill: #D2E3FC;\n",
              "    }\n",
              "\n",
              "    [theme=dark] .colab-df-convert:hover {\n",
              "      background-color: #434B5C;\n",
              "      box-shadow: 0px 1px 3px 1px rgba(0, 0, 0, 0.15);\n",
              "      filter: drop-shadow(0px 1px 2px rgba(0, 0, 0, 0.3));\n",
              "      fill: #FFFFFF;\n",
              "    }\n",
              "  </style>\n",
              "\n",
              "      <script>\n",
              "        const buttonEl =\n",
              "          document.querySelector('#df-50f5f280-cbeb-4122-a704-aba0bc513181 button.colab-df-convert');\n",
              "        buttonEl.style.display =\n",
              "          google.colab.kernel.accessAllowed ? 'block' : 'none';\n",
              "\n",
              "        async function convertToInteractive(key) {\n",
              "          const element = document.querySelector('#df-50f5f280-cbeb-4122-a704-aba0bc513181');\n",
              "          const dataTable =\n",
              "            await google.colab.kernel.invokeFunction('convertToInteractive',\n",
              "                                                     [key], {});\n",
              "          if (!dataTable) return;\n",
              "\n",
              "          const docLinkHtml = 'Like what you see? Visit the ' +\n",
              "            '<a target=\"_blank\" href=https://colab.research.google.com/notebooks/data_table.ipynb>data table notebook</a>'\n",
              "            + ' to learn more about interactive tables.';\n",
              "          element.innerHTML = '';\n",
              "          dataTable['output_type'] = 'display_data';\n",
              "          await google.colab.output.renderOutput(dataTable, element);\n",
              "          const docLink = document.createElement('div');\n",
              "          docLink.innerHTML = docLinkHtml;\n",
              "          element.appendChild(docLink);\n",
              "        }\n",
              "      </script>\n",
              "    </div>\n",
              "  </div>\n",
              "  "
            ],
            "text/plain": [
              "  activity_category  outcome char_1_y char_2_y  ... month day isweekend groupNo\n",
              "0            type 4        0   type 2   type 2  ...     8  26         1   17304\n",
              "1            type 2        0   type 2   type 2  ...     9  27         0   17304\n",
              "2            type 2        0   type 2   type 2  ...     9  27         0   17304\n",
              "3            type 2        0   type 2   type 2  ...     8   4         0   17304\n",
              "4            type 2        0   type 2   type 2  ...     8  26         1   17304\n",
              "\n",
              "[5 rows x 46 columns]"
            ]
          },
          "metadata": {},
          "execution_count": 52
        }
      ],
      "source": [
        "merged_df.head()"
      ]
    },
    {
      "cell_type": "code",
      "execution_count": 53,
      "metadata": {
        "colab": {
          "base_uri": "https://localhost:8080/",
          "height": 49
        },
        "id": "_ky4ttBoa21S",
        "outputId": "5d0256d6-fddc-4b72-eaaa-f8a093bc43d0"
      },
      "outputs": [
        {
          "output_type": "execute_result",
          "data": {
            "text/html": [
              "\n",
              "  <div id=\"df-bfc96a49-32a5-4853-854c-e6a3b87011b5\">\n",
              "    <div class=\"colab-df-container\">\n",
              "      <div>\n",
              "<style scoped>\n",
              "    .dataframe tbody tr th:only-of-type {\n",
              "        vertical-align: middle;\n",
              "    }\n",
              "\n",
              "    .dataframe tbody tr th {\n",
              "        vertical-align: top;\n",
              "    }\n",
              "\n",
              "    .dataframe thead th {\n",
              "        text-align: right;\n",
              "    }\n",
              "</style>\n",
              "<table border=\"1\" class=\"dataframe\">\n",
              "  <thead>\n",
              "    <tr style=\"text-align: right;\">\n",
              "      <th></th>\n",
              "    </tr>\n",
              "  </thead>\n",
              "  <tbody>\n",
              "  </tbody>\n",
              "</table>\n",
              "</div>\n",
              "      <button class=\"colab-df-convert\" onclick=\"convertToInteractive('df-bfc96a49-32a5-4853-854c-e6a3b87011b5')\"\n",
              "              title=\"Convert this dataframe to an interactive table.\"\n",
              "              style=\"display:none;\">\n",
              "        \n",
              "  <svg xmlns=\"http://www.w3.org/2000/svg\" height=\"24px\"viewBox=\"0 0 24 24\"\n",
              "       width=\"24px\">\n",
              "    <path d=\"M0 0h24v24H0V0z\" fill=\"none\"/>\n",
              "    <path d=\"M18.56 5.44l.94 2.06.94-2.06 2.06-.94-2.06-.94-.94-2.06-.94 2.06-2.06.94zm-11 1L8.5 8.5l.94-2.06 2.06-.94-2.06-.94L8.5 2.5l-.94 2.06-2.06.94zm10 10l.94 2.06.94-2.06 2.06-.94-2.06-.94-.94-2.06-.94 2.06-2.06.94z\"/><path d=\"M17.41 7.96l-1.37-1.37c-.4-.4-.92-.59-1.43-.59-.52 0-1.04.2-1.43.59L10.3 9.45l-7.72 7.72c-.78.78-.78 2.05 0 2.83L4 21.41c.39.39.9.59 1.41.59.51 0 1.02-.2 1.41-.59l7.78-7.78 2.81-2.81c.8-.78.8-2.07 0-2.86zM5.41 20L4 18.59l7.72-7.72 1.47 1.35L5.41 20z\"/>\n",
              "  </svg>\n",
              "      </button>\n",
              "      \n",
              "  <style>\n",
              "    .colab-df-container {\n",
              "      display:flex;\n",
              "      flex-wrap:wrap;\n",
              "      gap: 12px;\n",
              "    }\n",
              "\n",
              "    .colab-df-convert {\n",
              "      background-color: #E8F0FE;\n",
              "      border: none;\n",
              "      border-radius: 50%;\n",
              "      cursor: pointer;\n",
              "      display: none;\n",
              "      fill: #1967D2;\n",
              "      height: 32px;\n",
              "      padding: 0 0 0 0;\n",
              "      width: 32px;\n",
              "    }\n",
              "\n",
              "    .colab-df-convert:hover {\n",
              "      background-color: #E2EBFA;\n",
              "      box-shadow: 0px 1px 2px rgba(60, 64, 67, 0.3), 0px 1px 3px 1px rgba(60, 64, 67, 0.15);\n",
              "      fill: #174EA6;\n",
              "    }\n",
              "\n",
              "    [theme=dark] .colab-df-convert {\n",
              "      background-color: #3B4455;\n",
              "      fill: #D2E3FC;\n",
              "    }\n",
              "\n",
              "    [theme=dark] .colab-df-convert:hover {\n",
              "      background-color: #434B5C;\n",
              "      box-shadow: 0px 1px 3px 1px rgba(0, 0, 0, 0.15);\n",
              "      filter: drop-shadow(0px 1px 2px rgba(0, 0, 0, 0.3));\n",
              "      fill: #FFFFFF;\n",
              "    }\n",
              "  </style>\n",
              "\n",
              "      <script>\n",
              "        const buttonEl =\n",
              "          document.querySelector('#df-bfc96a49-32a5-4853-854c-e6a3b87011b5 button.colab-df-convert');\n",
              "        buttonEl.style.display =\n",
              "          google.colab.kernel.accessAllowed ? 'block' : 'none';\n",
              "\n",
              "        async function convertToInteractive(key) {\n",
              "          const element = document.querySelector('#df-bfc96a49-32a5-4853-854c-e6a3b87011b5');\n",
              "          const dataTable =\n",
              "            await google.colab.kernel.invokeFunction('convertToInteractive',\n",
              "                                                     [key], {});\n",
              "          if (!dataTable) return;\n",
              "\n",
              "          const docLinkHtml = 'Like what you see? Visit the ' +\n",
              "            '<a target=\"_blank\" href=https://colab.research.google.com/notebooks/data_table.ipynb>data table notebook</a>'\n",
              "            + ' to learn more about interactive tables.';\n",
              "          element.innerHTML = '';\n",
              "          dataTable['output_type'] = 'display_data';\n",
              "          await google.colab.output.renderOutput(dataTable, element);\n",
              "          const docLink = document.createElement('div');\n",
              "          docLink.innerHTML = docLinkHtml;\n",
              "          element.appendChild(docLink);\n",
              "        }\n",
              "      </script>\n",
              "    </div>\n",
              "  </div>\n",
              "  "
            ],
            "text/plain": [
              "Empty DataFrame\n",
              "Columns: []\n",
              "Index: []"
            ]
          },
          "metadata": {},
          "execution_count": 53
        }
      ],
      "source": [
        "merged_df[categorical_features].corr()"
      ]
    },
    {
      "cell_type": "code",
      "execution_count": 54,
      "metadata": {
        "colab": {
          "base_uri": "https://localhost:8080/",
          "height": 357
        },
        "id": "cgp0fNT5-Z_R",
        "outputId": "68bfd003-2832-4fa1-dec4-a086578de2da"
      },
      "outputs": [
        {
          "output_type": "execute_result",
          "data": {
            "text/html": [
              "\n",
              "  <div id=\"df-adae0eb7-1c56-4e77-9797-cd4b80038aad\">\n",
              "    <div class=\"colab-df-container\">\n",
              "      <div>\n",
              "<style scoped>\n",
              "    .dataframe tbody tr th:only-of-type {\n",
              "        vertical-align: middle;\n",
              "    }\n",
              "\n",
              "    .dataframe tbody tr th {\n",
              "        vertical-align: top;\n",
              "    }\n",
              "\n",
              "    .dataframe thead th {\n",
              "        text-align: right;\n",
              "    }\n",
              "</style>\n",
              "<table border=\"1\" class=\"dataframe\">\n",
              "  <thead>\n",
              "    <tr style=\"text-align: right;\">\n",
              "      <th></th>\n",
              "      <th>activity_category</th>\n",
              "      <th>outcome</th>\n",
              "      <th>char_1_y</th>\n",
              "      <th>char_2_y</th>\n",
              "      <th>char_3_y</th>\n",
              "      <th>char_4_y</th>\n",
              "      <th>char_5_y</th>\n",
              "      <th>char_6_y</th>\n",
              "      <th>char_7_y</th>\n",
              "      <th>char_8_y</th>\n",
              "      <th>char_9_y</th>\n",
              "      <th>char_10_y</th>\n",
              "      <th>char_11</th>\n",
              "      <th>char_12</th>\n",
              "      <th>char_13</th>\n",
              "      <th>char_14</th>\n",
              "      <th>char_15</th>\n",
              "      <th>char_16</th>\n",
              "      <th>char_17</th>\n",
              "      <th>char_18</th>\n",
              "      <th>char_19</th>\n",
              "      <th>char_20</th>\n",
              "      <th>char_21</th>\n",
              "      <th>char_22</th>\n",
              "      <th>char_23</th>\n",
              "      <th>char_24</th>\n",
              "      <th>char_25</th>\n",
              "      <th>char_26</th>\n",
              "      <th>char_27</th>\n",
              "      <th>char_28</th>\n",
              "      <th>char_29</th>\n",
              "      <th>char_30</th>\n",
              "      <th>char_31</th>\n",
              "      <th>char_32</th>\n",
              "      <th>char_33</th>\n",
              "      <th>char_34</th>\n",
              "      <th>char_35</th>\n",
              "      <th>char_36</th>\n",
              "      <th>char_37</th>\n",
              "      <th>char_38</th>\n",
              "      <th>Date</th>\n",
              "      <th>year</th>\n",
              "      <th>month</th>\n",
              "      <th>day</th>\n",
              "      <th>isweekend</th>\n",
              "      <th>groupNo</th>\n",
              "    </tr>\n",
              "  </thead>\n",
              "  <tbody>\n",
              "    <tr>\n",
              "      <th>0</th>\n",
              "      <td>type 4</td>\n",
              "      <td>0</td>\n",
              "      <td>type 2</td>\n",
              "      <td>type 2</td>\n",
              "      <td>type 5</td>\n",
              "      <td>type 5</td>\n",
              "      <td>type 5</td>\n",
              "      <td>type 3</td>\n",
              "      <td>type 11</td>\n",
              "      <td>type 2</td>\n",
              "      <td>type 2</td>\n",
              "      <td>True</td>\n",
              "      <td>False</td>\n",
              "      <td>False</td>\n",
              "      <td>True</td>\n",
              "      <td>True</td>\n",
              "      <td>False</td>\n",
              "      <td>True</td>\n",
              "      <td>False</td>\n",
              "      <td>False</td>\n",
              "      <td>False</td>\n",
              "      <td>False</td>\n",
              "      <td>True</td>\n",
              "      <td>False</td>\n",
              "      <td>False</td>\n",
              "      <td>False</td>\n",
              "      <td>False</td>\n",
              "      <td>False</td>\n",
              "      <td>True</td>\n",
              "      <td>True</td>\n",
              "      <td>False</td>\n",
              "      <td>True</td>\n",
              "      <td>True</td>\n",
              "      <td>False</td>\n",
              "      <td>False</td>\n",
              "      <td>True</td>\n",
              "      <td>True</td>\n",
              "      <td>True</td>\n",
              "      <td>False</td>\n",
              "      <td>36</td>\n",
              "      <td>2023-08-26</td>\n",
              "      <td>2023</td>\n",
              "      <td>8</td>\n",
              "      <td>26</td>\n",
              "      <td>1</td>\n",
              "      <td>17304</td>\n",
              "    </tr>\n",
              "    <tr>\n",
              "      <th>1</th>\n",
              "      <td>type 2</td>\n",
              "      <td>0</td>\n",
              "      <td>type 2</td>\n",
              "      <td>type 2</td>\n",
              "      <td>type 5</td>\n",
              "      <td>type 5</td>\n",
              "      <td>type 5</td>\n",
              "      <td>type 3</td>\n",
              "      <td>type 11</td>\n",
              "      <td>type 2</td>\n",
              "      <td>type 2</td>\n",
              "      <td>True</td>\n",
              "      <td>False</td>\n",
              "      <td>False</td>\n",
              "      <td>True</td>\n",
              "      <td>True</td>\n",
              "      <td>False</td>\n",
              "      <td>True</td>\n",
              "      <td>False</td>\n",
              "      <td>False</td>\n",
              "      <td>False</td>\n",
              "      <td>False</td>\n",
              "      <td>True</td>\n",
              "      <td>False</td>\n",
              "      <td>False</td>\n",
              "      <td>False</td>\n",
              "      <td>False</td>\n",
              "      <td>False</td>\n",
              "      <td>True</td>\n",
              "      <td>True</td>\n",
              "      <td>False</td>\n",
              "      <td>True</td>\n",
              "      <td>True</td>\n",
              "      <td>False</td>\n",
              "      <td>False</td>\n",
              "      <td>True</td>\n",
              "      <td>True</td>\n",
              "      <td>True</td>\n",
              "      <td>False</td>\n",
              "      <td>36</td>\n",
              "      <td>2022-09-27</td>\n",
              "      <td>2022</td>\n",
              "      <td>9</td>\n",
              "      <td>27</td>\n",
              "      <td>0</td>\n",
              "      <td>17304</td>\n",
              "    </tr>\n",
              "    <tr>\n",
              "      <th>2</th>\n",
              "      <td>type 2</td>\n",
              "      <td>0</td>\n",
              "      <td>type 2</td>\n",
              "      <td>type 2</td>\n",
              "      <td>type 5</td>\n",
              "      <td>type 5</td>\n",
              "      <td>type 5</td>\n",
              "      <td>type 3</td>\n",
              "      <td>type 11</td>\n",
              "      <td>type 2</td>\n",
              "      <td>type 2</td>\n",
              "      <td>True</td>\n",
              "      <td>False</td>\n",
              "      <td>False</td>\n",
              "      <td>True</td>\n",
              "      <td>True</td>\n",
              "      <td>False</td>\n",
              "      <td>True</td>\n",
              "      <td>False</td>\n",
              "      <td>False</td>\n",
              "      <td>False</td>\n",
              "      <td>False</td>\n",
              "      <td>True</td>\n",
              "      <td>False</td>\n",
              "      <td>False</td>\n",
              "      <td>False</td>\n",
              "      <td>False</td>\n",
              "      <td>False</td>\n",
              "      <td>True</td>\n",
              "      <td>True</td>\n",
              "      <td>False</td>\n",
              "      <td>True</td>\n",
              "      <td>True</td>\n",
              "      <td>False</td>\n",
              "      <td>False</td>\n",
              "      <td>True</td>\n",
              "      <td>True</td>\n",
              "      <td>True</td>\n",
              "      <td>False</td>\n",
              "      <td>36</td>\n",
              "      <td>2022-09-27</td>\n",
              "      <td>2022</td>\n",
              "      <td>9</td>\n",
              "      <td>27</td>\n",
              "      <td>0</td>\n",
              "      <td>17304</td>\n",
              "    </tr>\n",
              "    <tr>\n",
              "      <th>3</th>\n",
              "      <td>type 2</td>\n",
              "      <td>0</td>\n",
              "      <td>type 2</td>\n",
              "      <td>type 2</td>\n",
              "      <td>type 5</td>\n",
              "      <td>type 5</td>\n",
              "      <td>type 5</td>\n",
              "      <td>type 3</td>\n",
              "      <td>type 11</td>\n",
              "      <td>type 2</td>\n",
              "      <td>type 2</td>\n",
              "      <td>True</td>\n",
              "      <td>False</td>\n",
              "      <td>False</td>\n",
              "      <td>True</td>\n",
              "      <td>True</td>\n",
              "      <td>False</td>\n",
              "      <td>True</td>\n",
              "      <td>False</td>\n",
              "      <td>False</td>\n",
              "      <td>False</td>\n",
              "      <td>False</td>\n",
              "      <td>True</td>\n",
              "      <td>False</td>\n",
              "      <td>False</td>\n",
              "      <td>False</td>\n",
              "      <td>False</td>\n",
              "      <td>False</td>\n",
              "      <td>True</td>\n",
              "      <td>True</td>\n",
              "      <td>False</td>\n",
              "      <td>True</td>\n",
              "      <td>True</td>\n",
              "      <td>False</td>\n",
              "      <td>False</td>\n",
              "      <td>True</td>\n",
              "      <td>True</td>\n",
              "      <td>True</td>\n",
              "      <td>False</td>\n",
              "      <td>36</td>\n",
              "      <td>2023-08-04</td>\n",
              "      <td>2023</td>\n",
              "      <td>8</td>\n",
              "      <td>4</td>\n",
              "      <td>0</td>\n",
              "      <td>17304</td>\n",
              "    </tr>\n",
              "    <tr>\n",
              "      <th>4</th>\n",
              "      <td>type 2</td>\n",
              "      <td>0</td>\n",
              "      <td>type 2</td>\n",
              "      <td>type 2</td>\n",
              "      <td>type 5</td>\n",
              "      <td>type 5</td>\n",
              "      <td>type 5</td>\n",
              "      <td>type 3</td>\n",
              "      <td>type 11</td>\n",
              "      <td>type 2</td>\n",
              "      <td>type 2</td>\n",
              "      <td>True</td>\n",
              "      <td>False</td>\n",
              "      <td>False</td>\n",
              "      <td>True</td>\n",
              "      <td>True</td>\n",
              "      <td>False</td>\n",
              "      <td>True</td>\n",
              "      <td>False</td>\n",
              "      <td>False</td>\n",
              "      <td>False</td>\n",
              "      <td>False</td>\n",
              "      <td>True</td>\n",
              "      <td>False</td>\n",
              "      <td>False</td>\n",
              "      <td>False</td>\n",
              "      <td>False</td>\n",
              "      <td>False</td>\n",
              "      <td>True</td>\n",
              "      <td>True</td>\n",
              "      <td>False</td>\n",
              "      <td>True</td>\n",
              "      <td>True</td>\n",
              "      <td>False</td>\n",
              "      <td>False</td>\n",
              "      <td>True</td>\n",
              "      <td>True</td>\n",
              "      <td>True</td>\n",
              "      <td>False</td>\n",
              "      <td>36</td>\n",
              "      <td>2023-08-26</td>\n",
              "      <td>2023</td>\n",
              "      <td>8</td>\n",
              "      <td>26</td>\n",
              "      <td>1</td>\n",
              "      <td>17304</td>\n",
              "    </tr>\n",
              "  </tbody>\n",
              "</table>\n",
              "</div>\n",
              "      <button class=\"colab-df-convert\" onclick=\"convertToInteractive('df-adae0eb7-1c56-4e77-9797-cd4b80038aad')\"\n",
              "              title=\"Convert this dataframe to an interactive table.\"\n",
              "              style=\"display:none;\">\n",
              "        \n",
              "  <svg xmlns=\"http://www.w3.org/2000/svg\" height=\"24px\"viewBox=\"0 0 24 24\"\n",
              "       width=\"24px\">\n",
              "    <path d=\"M0 0h24v24H0V0z\" fill=\"none\"/>\n",
              "    <path d=\"M18.56 5.44l.94 2.06.94-2.06 2.06-.94-2.06-.94-.94-2.06-.94 2.06-2.06.94zm-11 1L8.5 8.5l.94-2.06 2.06-.94-2.06-.94L8.5 2.5l-.94 2.06-2.06.94zm10 10l.94 2.06.94-2.06 2.06-.94-2.06-.94-.94-2.06-.94 2.06-2.06.94z\"/><path d=\"M17.41 7.96l-1.37-1.37c-.4-.4-.92-.59-1.43-.59-.52 0-1.04.2-1.43.59L10.3 9.45l-7.72 7.72c-.78.78-.78 2.05 0 2.83L4 21.41c.39.39.9.59 1.41.59.51 0 1.02-.2 1.41-.59l7.78-7.78 2.81-2.81c.8-.78.8-2.07 0-2.86zM5.41 20L4 18.59l7.72-7.72 1.47 1.35L5.41 20z\"/>\n",
              "  </svg>\n",
              "      </button>\n",
              "      \n",
              "  <style>\n",
              "    .colab-df-container {\n",
              "      display:flex;\n",
              "      flex-wrap:wrap;\n",
              "      gap: 12px;\n",
              "    }\n",
              "\n",
              "    .colab-df-convert {\n",
              "      background-color: #E8F0FE;\n",
              "      border: none;\n",
              "      border-radius: 50%;\n",
              "      cursor: pointer;\n",
              "      display: none;\n",
              "      fill: #1967D2;\n",
              "      height: 32px;\n",
              "      padding: 0 0 0 0;\n",
              "      width: 32px;\n",
              "    }\n",
              "\n",
              "    .colab-df-convert:hover {\n",
              "      background-color: #E2EBFA;\n",
              "      box-shadow: 0px 1px 2px rgba(60, 64, 67, 0.3), 0px 1px 3px 1px rgba(60, 64, 67, 0.15);\n",
              "      fill: #174EA6;\n",
              "    }\n",
              "\n",
              "    [theme=dark] .colab-df-convert {\n",
              "      background-color: #3B4455;\n",
              "      fill: #D2E3FC;\n",
              "    }\n",
              "\n",
              "    [theme=dark] .colab-df-convert:hover {\n",
              "      background-color: #434B5C;\n",
              "      box-shadow: 0px 1px 3px 1px rgba(0, 0, 0, 0.15);\n",
              "      filter: drop-shadow(0px 1px 2px rgba(0, 0, 0, 0.3));\n",
              "      fill: #FFFFFF;\n",
              "    }\n",
              "  </style>\n",
              "\n",
              "      <script>\n",
              "        const buttonEl =\n",
              "          document.querySelector('#df-adae0eb7-1c56-4e77-9797-cd4b80038aad button.colab-df-convert');\n",
              "        buttonEl.style.display =\n",
              "          google.colab.kernel.accessAllowed ? 'block' : 'none';\n",
              "\n",
              "        async function convertToInteractive(key) {\n",
              "          const element = document.querySelector('#df-adae0eb7-1c56-4e77-9797-cd4b80038aad');\n",
              "          const dataTable =\n",
              "            await google.colab.kernel.invokeFunction('convertToInteractive',\n",
              "                                                     [key], {});\n",
              "          if (!dataTable) return;\n",
              "\n",
              "          const docLinkHtml = 'Like what you see? Visit the ' +\n",
              "            '<a target=\"_blank\" href=https://colab.research.google.com/notebooks/data_table.ipynb>data table notebook</a>'\n",
              "            + ' to learn more about interactive tables.';\n",
              "          element.innerHTML = '';\n",
              "          dataTable['output_type'] = 'display_data';\n",
              "          await google.colab.output.renderOutput(dataTable, element);\n",
              "          const docLink = document.createElement('div');\n",
              "          docLink.innerHTML = docLinkHtml;\n",
              "          element.appendChild(docLink);\n",
              "        }\n",
              "      </script>\n",
              "    </div>\n",
              "  </div>\n",
              "  "
            ],
            "text/plain": [
              "  activity_category  outcome char_1_y char_2_y  ... month day isweekend groupNo\n",
              "0            type 4        0   type 2   type 2  ...     8  26         1   17304\n",
              "1            type 2        0   type 2   type 2  ...     9  27         0   17304\n",
              "2            type 2        0   type 2   type 2  ...     9  27         0   17304\n",
              "3            type 2        0   type 2   type 2  ...     8   4         0   17304\n",
              "4            type 2        0   type 2   type 2  ...     8  26         1   17304\n",
              "\n",
              "[5 rows x 46 columns]"
            ]
          },
          "metadata": {},
          "execution_count": 54
        }
      ],
      "source": [
        "merged_df.head(5)"
      ]
    },
    {
      "cell_type": "code",
      "execution_count": 55,
      "metadata": {
        "colab": {
          "base_uri": "https://localhost:8080/",
          "height": 357
        },
        "id": "Jo0DeWODitii",
        "outputId": "5a2f09eb-faa5-46a5-d1fe-1178fca4b37a"
      },
      "outputs": [
        {
          "output_type": "execute_result",
          "data": {
            "text/html": [
              "\n",
              "  <div id=\"df-fa5305da-1b48-4215-9037-eceeeaa89c6d\">\n",
              "    <div class=\"colab-df-container\">\n",
              "      <div>\n",
              "<style scoped>\n",
              "    .dataframe tbody tr th:only-of-type {\n",
              "        vertical-align: middle;\n",
              "    }\n",
              "\n",
              "    .dataframe tbody tr th {\n",
              "        vertical-align: top;\n",
              "    }\n",
              "\n",
              "    .dataframe thead th {\n",
              "        text-align: right;\n",
              "    }\n",
              "</style>\n",
              "<table border=\"1\" class=\"dataframe\">\n",
              "  <thead>\n",
              "    <tr style=\"text-align: right;\">\n",
              "      <th></th>\n",
              "      <th>activity_category</th>\n",
              "      <th>outcome</th>\n",
              "      <th>char_1_y</th>\n",
              "      <th>char_2_y</th>\n",
              "      <th>char_3_y</th>\n",
              "      <th>char_4_y</th>\n",
              "      <th>char_5_y</th>\n",
              "      <th>char_6_y</th>\n",
              "      <th>char_7_y</th>\n",
              "      <th>char_8_y</th>\n",
              "      <th>char_9_y</th>\n",
              "      <th>char_10_y</th>\n",
              "      <th>char_11</th>\n",
              "      <th>char_12</th>\n",
              "      <th>char_13</th>\n",
              "      <th>char_14</th>\n",
              "      <th>char_15</th>\n",
              "      <th>char_16</th>\n",
              "      <th>char_17</th>\n",
              "      <th>char_18</th>\n",
              "      <th>char_19</th>\n",
              "      <th>char_20</th>\n",
              "      <th>char_21</th>\n",
              "      <th>char_22</th>\n",
              "      <th>char_23</th>\n",
              "      <th>char_24</th>\n",
              "      <th>char_25</th>\n",
              "      <th>char_26</th>\n",
              "      <th>char_27</th>\n",
              "      <th>char_28</th>\n",
              "      <th>char_29</th>\n",
              "      <th>char_30</th>\n",
              "      <th>char_31</th>\n",
              "      <th>char_32</th>\n",
              "      <th>char_33</th>\n",
              "      <th>char_34</th>\n",
              "      <th>char_35</th>\n",
              "      <th>char_36</th>\n",
              "      <th>char_37</th>\n",
              "      <th>char_38</th>\n",
              "      <th>Date</th>\n",
              "      <th>year</th>\n",
              "      <th>month</th>\n",
              "      <th>day</th>\n",
              "      <th>isweekend</th>\n",
              "      <th>groupNo</th>\n",
              "    </tr>\n",
              "  </thead>\n",
              "  <tbody>\n",
              "    <tr>\n",
              "      <th>0</th>\n",
              "      <td>type 4</td>\n",
              "      <td>0</td>\n",
              "      <td>type 2</td>\n",
              "      <td>type 2</td>\n",
              "      <td>type 5</td>\n",
              "      <td>type 5</td>\n",
              "      <td>type 5</td>\n",
              "      <td>type 3</td>\n",
              "      <td>type 11</td>\n",
              "      <td>type 2</td>\n",
              "      <td>type 2</td>\n",
              "      <td>True</td>\n",
              "      <td>False</td>\n",
              "      <td>False</td>\n",
              "      <td>True</td>\n",
              "      <td>True</td>\n",
              "      <td>False</td>\n",
              "      <td>True</td>\n",
              "      <td>False</td>\n",
              "      <td>False</td>\n",
              "      <td>False</td>\n",
              "      <td>False</td>\n",
              "      <td>True</td>\n",
              "      <td>False</td>\n",
              "      <td>False</td>\n",
              "      <td>False</td>\n",
              "      <td>False</td>\n",
              "      <td>False</td>\n",
              "      <td>True</td>\n",
              "      <td>True</td>\n",
              "      <td>False</td>\n",
              "      <td>True</td>\n",
              "      <td>True</td>\n",
              "      <td>False</td>\n",
              "      <td>False</td>\n",
              "      <td>True</td>\n",
              "      <td>True</td>\n",
              "      <td>True</td>\n",
              "      <td>False</td>\n",
              "      <td>36</td>\n",
              "      <td>2023-08-26</td>\n",
              "      <td>2023</td>\n",
              "      <td>8</td>\n",
              "      <td>26</td>\n",
              "      <td>1</td>\n",
              "      <td>17304</td>\n",
              "    </tr>\n",
              "    <tr>\n",
              "      <th>1</th>\n",
              "      <td>type 2</td>\n",
              "      <td>0</td>\n",
              "      <td>type 2</td>\n",
              "      <td>type 2</td>\n",
              "      <td>type 5</td>\n",
              "      <td>type 5</td>\n",
              "      <td>type 5</td>\n",
              "      <td>type 3</td>\n",
              "      <td>type 11</td>\n",
              "      <td>type 2</td>\n",
              "      <td>type 2</td>\n",
              "      <td>True</td>\n",
              "      <td>False</td>\n",
              "      <td>False</td>\n",
              "      <td>True</td>\n",
              "      <td>True</td>\n",
              "      <td>False</td>\n",
              "      <td>True</td>\n",
              "      <td>False</td>\n",
              "      <td>False</td>\n",
              "      <td>False</td>\n",
              "      <td>False</td>\n",
              "      <td>True</td>\n",
              "      <td>False</td>\n",
              "      <td>False</td>\n",
              "      <td>False</td>\n",
              "      <td>False</td>\n",
              "      <td>False</td>\n",
              "      <td>True</td>\n",
              "      <td>True</td>\n",
              "      <td>False</td>\n",
              "      <td>True</td>\n",
              "      <td>True</td>\n",
              "      <td>False</td>\n",
              "      <td>False</td>\n",
              "      <td>True</td>\n",
              "      <td>True</td>\n",
              "      <td>True</td>\n",
              "      <td>False</td>\n",
              "      <td>36</td>\n",
              "      <td>2022-09-27</td>\n",
              "      <td>2022</td>\n",
              "      <td>9</td>\n",
              "      <td>27</td>\n",
              "      <td>0</td>\n",
              "      <td>17304</td>\n",
              "    </tr>\n",
              "    <tr>\n",
              "      <th>2</th>\n",
              "      <td>type 2</td>\n",
              "      <td>0</td>\n",
              "      <td>type 2</td>\n",
              "      <td>type 2</td>\n",
              "      <td>type 5</td>\n",
              "      <td>type 5</td>\n",
              "      <td>type 5</td>\n",
              "      <td>type 3</td>\n",
              "      <td>type 11</td>\n",
              "      <td>type 2</td>\n",
              "      <td>type 2</td>\n",
              "      <td>True</td>\n",
              "      <td>False</td>\n",
              "      <td>False</td>\n",
              "      <td>True</td>\n",
              "      <td>True</td>\n",
              "      <td>False</td>\n",
              "      <td>True</td>\n",
              "      <td>False</td>\n",
              "      <td>False</td>\n",
              "      <td>False</td>\n",
              "      <td>False</td>\n",
              "      <td>True</td>\n",
              "      <td>False</td>\n",
              "      <td>False</td>\n",
              "      <td>False</td>\n",
              "      <td>False</td>\n",
              "      <td>False</td>\n",
              "      <td>True</td>\n",
              "      <td>True</td>\n",
              "      <td>False</td>\n",
              "      <td>True</td>\n",
              "      <td>True</td>\n",
              "      <td>False</td>\n",
              "      <td>False</td>\n",
              "      <td>True</td>\n",
              "      <td>True</td>\n",
              "      <td>True</td>\n",
              "      <td>False</td>\n",
              "      <td>36</td>\n",
              "      <td>2022-09-27</td>\n",
              "      <td>2022</td>\n",
              "      <td>9</td>\n",
              "      <td>27</td>\n",
              "      <td>0</td>\n",
              "      <td>17304</td>\n",
              "    </tr>\n",
              "    <tr>\n",
              "      <th>3</th>\n",
              "      <td>type 2</td>\n",
              "      <td>0</td>\n",
              "      <td>type 2</td>\n",
              "      <td>type 2</td>\n",
              "      <td>type 5</td>\n",
              "      <td>type 5</td>\n",
              "      <td>type 5</td>\n",
              "      <td>type 3</td>\n",
              "      <td>type 11</td>\n",
              "      <td>type 2</td>\n",
              "      <td>type 2</td>\n",
              "      <td>True</td>\n",
              "      <td>False</td>\n",
              "      <td>False</td>\n",
              "      <td>True</td>\n",
              "      <td>True</td>\n",
              "      <td>False</td>\n",
              "      <td>True</td>\n",
              "      <td>False</td>\n",
              "      <td>False</td>\n",
              "      <td>False</td>\n",
              "      <td>False</td>\n",
              "      <td>True</td>\n",
              "      <td>False</td>\n",
              "      <td>False</td>\n",
              "      <td>False</td>\n",
              "      <td>False</td>\n",
              "      <td>False</td>\n",
              "      <td>True</td>\n",
              "      <td>True</td>\n",
              "      <td>False</td>\n",
              "      <td>True</td>\n",
              "      <td>True</td>\n",
              "      <td>False</td>\n",
              "      <td>False</td>\n",
              "      <td>True</td>\n",
              "      <td>True</td>\n",
              "      <td>True</td>\n",
              "      <td>False</td>\n",
              "      <td>36</td>\n",
              "      <td>2023-08-04</td>\n",
              "      <td>2023</td>\n",
              "      <td>8</td>\n",
              "      <td>4</td>\n",
              "      <td>0</td>\n",
              "      <td>17304</td>\n",
              "    </tr>\n",
              "    <tr>\n",
              "      <th>4</th>\n",
              "      <td>type 2</td>\n",
              "      <td>0</td>\n",
              "      <td>type 2</td>\n",
              "      <td>type 2</td>\n",
              "      <td>type 5</td>\n",
              "      <td>type 5</td>\n",
              "      <td>type 5</td>\n",
              "      <td>type 3</td>\n",
              "      <td>type 11</td>\n",
              "      <td>type 2</td>\n",
              "      <td>type 2</td>\n",
              "      <td>True</td>\n",
              "      <td>False</td>\n",
              "      <td>False</td>\n",
              "      <td>True</td>\n",
              "      <td>True</td>\n",
              "      <td>False</td>\n",
              "      <td>True</td>\n",
              "      <td>False</td>\n",
              "      <td>False</td>\n",
              "      <td>False</td>\n",
              "      <td>False</td>\n",
              "      <td>True</td>\n",
              "      <td>False</td>\n",
              "      <td>False</td>\n",
              "      <td>False</td>\n",
              "      <td>False</td>\n",
              "      <td>False</td>\n",
              "      <td>True</td>\n",
              "      <td>True</td>\n",
              "      <td>False</td>\n",
              "      <td>True</td>\n",
              "      <td>True</td>\n",
              "      <td>False</td>\n",
              "      <td>False</td>\n",
              "      <td>True</td>\n",
              "      <td>True</td>\n",
              "      <td>True</td>\n",
              "      <td>False</td>\n",
              "      <td>36</td>\n",
              "      <td>2023-08-26</td>\n",
              "      <td>2023</td>\n",
              "      <td>8</td>\n",
              "      <td>26</td>\n",
              "      <td>1</td>\n",
              "      <td>17304</td>\n",
              "    </tr>\n",
              "  </tbody>\n",
              "</table>\n",
              "</div>\n",
              "      <button class=\"colab-df-convert\" onclick=\"convertToInteractive('df-fa5305da-1b48-4215-9037-eceeeaa89c6d')\"\n",
              "              title=\"Convert this dataframe to an interactive table.\"\n",
              "              style=\"display:none;\">\n",
              "        \n",
              "  <svg xmlns=\"http://www.w3.org/2000/svg\" height=\"24px\"viewBox=\"0 0 24 24\"\n",
              "       width=\"24px\">\n",
              "    <path d=\"M0 0h24v24H0V0z\" fill=\"none\"/>\n",
              "    <path d=\"M18.56 5.44l.94 2.06.94-2.06 2.06-.94-2.06-.94-.94-2.06-.94 2.06-2.06.94zm-11 1L8.5 8.5l.94-2.06 2.06-.94-2.06-.94L8.5 2.5l-.94 2.06-2.06.94zm10 10l.94 2.06.94-2.06 2.06-.94-2.06-.94-.94-2.06-.94 2.06-2.06.94z\"/><path d=\"M17.41 7.96l-1.37-1.37c-.4-.4-.92-.59-1.43-.59-.52 0-1.04.2-1.43.59L10.3 9.45l-7.72 7.72c-.78.78-.78 2.05 0 2.83L4 21.41c.39.39.9.59 1.41.59.51 0 1.02-.2 1.41-.59l7.78-7.78 2.81-2.81c.8-.78.8-2.07 0-2.86zM5.41 20L4 18.59l7.72-7.72 1.47 1.35L5.41 20z\"/>\n",
              "  </svg>\n",
              "      </button>\n",
              "      \n",
              "  <style>\n",
              "    .colab-df-container {\n",
              "      display:flex;\n",
              "      flex-wrap:wrap;\n",
              "      gap: 12px;\n",
              "    }\n",
              "\n",
              "    .colab-df-convert {\n",
              "      background-color: #E8F0FE;\n",
              "      border: none;\n",
              "      border-radius: 50%;\n",
              "      cursor: pointer;\n",
              "      display: none;\n",
              "      fill: #1967D2;\n",
              "      height: 32px;\n",
              "      padding: 0 0 0 0;\n",
              "      width: 32px;\n",
              "    }\n",
              "\n",
              "    .colab-df-convert:hover {\n",
              "      background-color: #E2EBFA;\n",
              "      box-shadow: 0px 1px 2px rgba(60, 64, 67, 0.3), 0px 1px 3px 1px rgba(60, 64, 67, 0.15);\n",
              "      fill: #174EA6;\n",
              "    }\n",
              "\n",
              "    [theme=dark] .colab-df-convert {\n",
              "      background-color: #3B4455;\n",
              "      fill: #D2E3FC;\n",
              "    }\n",
              "\n",
              "    [theme=dark] .colab-df-convert:hover {\n",
              "      background-color: #434B5C;\n",
              "      box-shadow: 0px 1px 3px 1px rgba(0, 0, 0, 0.15);\n",
              "      filter: drop-shadow(0px 1px 2px rgba(0, 0, 0, 0.3));\n",
              "      fill: #FFFFFF;\n",
              "    }\n",
              "  </style>\n",
              "\n",
              "      <script>\n",
              "        const buttonEl =\n",
              "          document.querySelector('#df-fa5305da-1b48-4215-9037-eceeeaa89c6d button.colab-df-convert');\n",
              "        buttonEl.style.display =\n",
              "          google.colab.kernel.accessAllowed ? 'block' : 'none';\n",
              "\n",
              "        async function convertToInteractive(key) {\n",
              "          const element = document.querySelector('#df-fa5305da-1b48-4215-9037-eceeeaa89c6d');\n",
              "          const dataTable =\n",
              "            await google.colab.kernel.invokeFunction('convertToInteractive',\n",
              "                                                     [key], {});\n",
              "          if (!dataTable) return;\n",
              "\n",
              "          const docLinkHtml = 'Like what you see? Visit the ' +\n",
              "            '<a target=\"_blank\" href=https://colab.research.google.com/notebooks/data_table.ipynb>data table notebook</a>'\n",
              "            + ' to learn more about interactive tables.';\n",
              "          element.innerHTML = '';\n",
              "          dataTable['output_type'] = 'display_data';\n",
              "          await google.colab.output.renderOutput(dataTable, element);\n",
              "          const docLink = document.createElement('div');\n",
              "          docLink.innerHTML = docLinkHtml;\n",
              "          element.appendChild(docLink);\n",
              "        }\n",
              "      </script>\n",
              "    </div>\n",
              "  </div>\n",
              "  "
            ],
            "text/plain": [
              "  activity_category  outcome char_1_y char_2_y  ... month day isweekend groupNo\n",
              "0            type 4        0   type 2   type 2  ...     8  26         1   17304\n",
              "1            type 2        0   type 2   type 2  ...     9  27         0   17304\n",
              "2            type 2        0   type 2   type 2  ...     9  27         0   17304\n",
              "3            type 2        0   type 2   type 2  ...     8   4         0   17304\n",
              "4            type 2        0   type 2   type 2  ...     8  26         1   17304\n",
              "\n",
              "[5 rows x 46 columns]"
            ]
          },
          "metadata": {},
          "execution_count": 55
        }
      ],
      "source": [
        "merged_df.head(5)"
      ]
    },
    {
      "cell_type": "markdown",
      "metadata": {
        "id": "a4VoPOsza21T"
      },
      "source": [
        "## Scaling Numeric Features"
      ]
    },
    {
      "cell_type": "code",
      "execution_count": 56,
      "metadata": {
        "id": "LpmrdRkDmGSX"
      },
      "outputs": [],
      "source": [
        "from sklearn.preprocessing import MinMaxScaler"
      ]
    },
    {
      "cell_type": "code",
      "execution_count": 57,
      "metadata": {
        "id": "5SrhZ1YIoYwP"
      },
      "outputs": [],
      "source": [
        "scaler= MinMaxScaler()\n",
        "merged_df['char_38']= scaler.fit_transform(merged_df[['char_38']])\n"
      ]
    },
    {
      "cell_type": "code",
      "execution_count": 58,
      "metadata": {
        "colab": {
          "base_uri": "https://localhost:8080/",
          "height": 357
        },
        "id": "njvsuxIQsSPy",
        "outputId": "83adebf9-f460-467a-b788-16cac5c184e3"
      },
      "outputs": [
        {
          "output_type": "execute_result",
          "data": {
            "text/html": [
              "\n",
              "  <div id=\"df-eb546dfe-afe4-4568-b3b9-62da2591aada\">\n",
              "    <div class=\"colab-df-container\">\n",
              "      <div>\n",
              "<style scoped>\n",
              "    .dataframe tbody tr th:only-of-type {\n",
              "        vertical-align: middle;\n",
              "    }\n",
              "\n",
              "    .dataframe tbody tr th {\n",
              "        vertical-align: top;\n",
              "    }\n",
              "\n",
              "    .dataframe thead th {\n",
              "        text-align: right;\n",
              "    }\n",
              "</style>\n",
              "<table border=\"1\" class=\"dataframe\">\n",
              "  <thead>\n",
              "    <tr style=\"text-align: right;\">\n",
              "      <th></th>\n",
              "      <th>activity_category</th>\n",
              "      <th>outcome</th>\n",
              "      <th>char_1_y</th>\n",
              "      <th>char_2_y</th>\n",
              "      <th>char_3_y</th>\n",
              "      <th>char_4_y</th>\n",
              "      <th>char_5_y</th>\n",
              "      <th>char_6_y</th>\n",
              "      <th>char_7_y</th>\n",
              "      <th>char_8_y</th>\n",
              "      <th>char_9_y</th>\n",
              "      <th>char_10_y</th>\n",
              "      <th>char_11</th>\n",
              "      <th>char_12</th>\n",
              "      <th>char_13</th>\n",
              "      <th>char_14</th>\n",
              "      <th>char_15</th>\n",
              "      <th>char_16</th>\n",
              "      <th>char_17</th>\n",
              "      <th>char_18</th>\n",
              "      <th>char_19</th>\n",
              "      <th>char_20</th>\n",
              "      <th>char_21</th>\n",
              "      <th>char_22</th>\n",
              "      <th>char_23</th>\n",
              "      <th>char_24</th>\n",
              "      <th>char_25</th>\n",
              "      <th>char_26</th>\n",
              "      <th>char_27</th>\n",
              "      <th>char_28</th>\n",
              "      <th>char_29</th>\n",
              "      <th>char_30</th>\n",
              "      <th>char_31</th>\n",
              "      <th>char_32</th>\n",
              "      <th>char_33</th>\n",
              "      <th>char_34</th>\n",
              "      <th>char_35</th>\n",
              "      <th>char_36</th>\n",
              "      <th>char_37</th>\n",
              "      <th>char_38</th>\n",
              "      <th>Date</th>\n",
              "      <th>year</th>\n",
              "      <th>month</th>\n",
              "      <th>day</th>\n",
              "      <th>isweekend</th>\n",
              "      <th>groupNo</th>\n",
              "    </tr>\n",
              "  </thead>\n",
              "  <tbody>\n",
              "    <tr>\n",
              "      <th>0</th>\n",
              "      <td>type 4</td>\n",
              "      <td>0</td>\n",
              "      <td>type 2</td>\n",
              "      <td>type 2</td>\n",
              "      <td>type 5</td>\n",
              "      <td>type 5</td>\n",
              "      <td>type 5</td>\n",
              "      <td>type 3</td>\n",
              "      <td>type 11</td>\n",
              "      <td>type 2</td>\n",
              "      <td>type 2</td>\n",
              "      <td>True</td>\n",
              "      <td>False</td>\n",
              "      <td>False</td>\n",
              "      <td>True</td>\n",
              "      <td>True</td>\n",
              "      <td>False</td>\n",
              "      <td>True</td>\n",
              "      <td>False</td>\n",
              "      <td>False</td>\n",
              "      <td>False</td>\n",
              "      <td>False</td>\n",
              "      <td>True</td>\n",
              "      <td>False</td>\n",
              "      <td>False</td>\n",
              "      <td>False</td>\n",
              "      <td>False</td>\n",
              "      <td>False</td>\n",
              "      <td>True</td>\n",
              "      <td>True</td>\n",
              "      <td>False</td>\n",
              "      <td>True</td>\n",
              "      <td>True</td>\n",
              "      <td>False</td>\n",
              "      <td>False</td>\n",
              "      <td>True</td>\n",
              "      <td>True</td>\n",
              "      <td>True</td>\n",
              "      <td>False</td>\n",
              "      <td>0.36</td>\n",
              "      <td>2023-08-26</td>\n",
              "      <td>2023</td>\n",
              "      <td>8</td>\n",
              "      <td>26</td>\n",
              "      <td>1</td>\n",
              "      <td>17304</td>\n",
              "    </tr>\n",
              "    <tr>\n",
              "      <th>1</th>\n",
              "      <td>type 2</td>\n",
              "      <td>0</td>\n",
              "      <td>type 2</td>\n",
              "      <td>type 2</td>\n",
              "      <td>type 5</td>\n",
              "      <td>type 5</td>\n",
              "      <td>type 5</td>\n",
              "      <td>type 3</td>\n",
              "      <td>type 11</td>\n",
              "      <td>type 2</td>\n",
              "      <td>type 2</td>\n",
              "      <td>True</td>\n",
              "      <td>False</td>\n",
              "      <td>False</td>\n",
              "      <td>True</td>\n",
              "      <td>True</td>\n",
              "      <td>False</td>\n",
              "      <td>True</td>\n",
              "      <td>False</td>\n",
              "      <td>False</td>\n",
              "      <td>False</td>\n",
              "      <td>False</td>\n",
              "      <td>True</td>\n",
              "      <td>False</td>\n",
              "      <td>False</td>\n",
              "      <td>False</td>\n",
              "      <td>False</td>\n",
              "      <td>False</td>\n",
              "      <td>True</td>\n",
              "      <td>True</td>\n",
              "      <td>False</td>\n",
              "      <td>True</td>\n",
              "      <td>True</td>\n",
              "      <td>False</td>\n",
              "      <td>False</td>\n",
              "      <td>True</td>\n",
              "      <td>True</td>\n",
              "      <td>True</td>\n",
              "      <td>False</td>\n",
              "      <td>0.36</td>\n",
              "      <td>2022-09-27</td>\n",
              "      <td>2022</td>\n",
              "      <td>9</td>\n",
              "      <td>27</td>\n",
              "      <td>0</td>\n",
              "      <td>17304</td>\n",
              "    </tr>\n",
              "    <tr>\n",
              "      <th>2</th>\n",
              "      <td>type 2</td>\n",
              "      <td>0</td>\n",
              "      <td>type 2</td>\n",
              "      <td>type 2</td>\n",
              "      <td>type 5</td>\n",
              "      <td>type 5</td>\n",
              "      <td>type 5</td>\n",
              "      <td>type 3</td>\n",
              "      <td>type 11</td>\n",
              "      <td>type 2</td>\n",
              "      <td>type 2</td>\n",
              "      <td>True</td>\n",
              "      <td>False</td>\n",
              "      <td>False</td>\n",
              "      <td>True</td>\n",
              "      <td>True</td>\n",
              "      <td>False</td>\n",
              "      <td>True</td>\n",
              "      <td>False</td>\n",
              "      <td>False</td>\n",
              "      <td>False</td>\n",
              "      <td>False</td>\n",
              "      <td>True</td>\n",
              "      <td>False</td>\n",
              "      <td>False</td>\n",
              "      <td>False</td>\n",
              "      <td>False</td>\n",
              "      <td>False</td>\n",
              "      <td>True</td>\n",
              "      <td>True</td>\n",
              "      <td>False</td>\n",
              "      <td>True</td>\n",
              "      <td>True</td>\n",
              "      <td>False</td>\n",
              "      <td>False</td>\n",
              "      <td>True</td>\n",
              "      <td>True</td>\n",
              "      <td>True</td>\n",
              "      <td>False</td>\n",
              "      <td>0.36</td>\n",
              "      <td>2022-09-27</td>\n",
              "      <td>2022</td>\n",
              "      <td>9</td>\n",
              "      <td>27</td>\n",
              "      <td>0</td>\n",
              "      <td>17304</td>\n",
              "    </tr>\n",
              "    <tr>\n",
              "      <th>3</th>\n",
              "      <td>type 2</td>\n",
              "      <td>0</td>\n",
              "      <td>type 2</td>\n",
              "      <td>type 2</td>\n",
              "      <td>type 5</td>\n",
              "      <td>type 5</td>\n",
              "      <td>type 5</td>\n",
              "      <td>type 3</td>\n",
              "      <td>type 11</td>\n",
              "      <td>type 2</td>\n",
              "      <td>type 2</td>\n",
              "      <td>True</td>\n",
              "      <td>False</td>\n",
              "      <td>False</td>\n",
              "      <td>True</td>\n",
              "      <td>True</td>\n",
              "      <td>False</td>\n",
              "      <td>True</td>\n",
              "      <td>False</td>\n",
              "      <td>False</td>\n",
              "      <td>False</td>\n",
              "      <td>False</td>\n",
              "      <td>True</td>\n",
              "      <td>False</td>\n",
              "      <td>False</td>\n",
              "      <td>False</td>\n",
              "      <td>False</td>\n",
              "      <td>False</td>\n",
              "      <td>True</td>\n",
              "      <td>True</td>\n",
              "      <td>False</td>\n",
              "      <td>True</td>\n",
              "      <td>True</td>\n",
              "      <td>False</td>\n",
              "      <td>False</td>\n",
              "      <td>True</td>\n",
              "      <td>True</td>\n",
              "      <td>True</td>\n",
              "      <td>False</td>\n",
              "      <td>0.36</td>\n",
              "      <td>2023-08-04</td>\n",
              "      <td>2023</td>\n",
              "      <td>8</td>\n",
              "      <td>4</td>\n",
              "      <td>0</td>\n",
              "      <td>17304</td>\n",
              "    </tr>\n",
              "    <tr>\n",
              "      <th>4</th>\n",
              "      <td>type 2</td>\n",
              "      <td>0</td>\n",
              "      <td>type 2</td>\n",
              "      <td>type 2</td>\n",
              "      <td>type 5</td>\n",
              "      <td>type 5</td>\n",
              "      <td>type 5</td>\n",
              "      <td>type 3</td>\n",
              "      <td>type 11</td>\n",
              "      <td>type 2</td>\n",
              "      <td>type 2</td>\n",
              "      <td>True</td>\n",
              "      <td>False</td>\n",
              "      <td>False</td>\n",
              "      <td>True</td>\n",
              "      <td>True</td>\n",
              "      <td>False</td>\n",
              "      <td>True</td>\n",
              "      <td>False</td>\n",
              "      <td>False</td>\n",
              "      <td>False</td>\n",
              "      <td>False</td>\n",
              "      <td>True</td>\n",
              "      <td>False</td>\n",
              "      <td>False</td>\n",
              "      <td>False</td>\n",
              "      <td>False</td>\n",
              "      <td>False</td>\n",
              "      <td>True</td>\n",
              "      <td>True</td>\n",
              "      <td>False</td>\n",
              "      <td>True</td>\n",
              "      <td>True</td>\n",
              "      <td>False</td>\n",
              "      <td>False</td>\n",
              "      <td>True</td>\n",
              "      <td>True</td>\n",
              "      <td>True</td>\n",
              "      <td>False</td>\n",
              "      <td>0.36</td>\n",
              "      <td>2023-08-26</td>\n",
              "      <td>2023</td>\n",
              "      <td>8</td>\n",
              "      <td>26</td>\n",
              "      <td>1</td>\n",
              "      <td>17304</td>\n",
              "    </tr>\n",
              "  </tbody>\n",
              "</table>\n",
              "</div>\n",
              "      <button class=\"colab-df-convert\" onclick=\"convertToInteractive('df-eb546dfe-afe4-4568-b3b9-62da2591aada')\"\n",
              "              title=\"Convert this dataframe to an interactive table.\"\n",
              "              style=\"display:none;\">\n",
              "        \n",
              "  <svg xmlns=\"http://www.w3.org/2000/svg\" height=\"24px\"viewBox=\"0 0 24 24\"\n",
              "       width=\"24px\">\n",
              "    <path d=\"M0 0h24v24H0V0z\" fill=\"none\"/>\n",
              "    <path d=\"M18.56 5.44l.94 2.06.94-2.06 2.06-.94-2.06-.94-.94-2.06-.94 2.06-2.06.94zm-11 1L8.5 8.5l.94-2.06 2.06-.94-2.06-.94L8.5 2.5l-.94 2.06-2.06.94zm10 10l.94 2.06.94-2.06 2.06-.94-2.06-.94-.94-2.06-.94 2.06-2.06.94z\"/><path d=\"M17.41 7.96l-1.37-1.37c-.4-.4-.92-.59-1.43-.59-.52 0-1.04.2-1.43.59L10.3 9.45l-7.72 7.72c-.78.78-.78 2.05 0 2.83L4 21.41c.39.39.9.59 1.41.59.51 0 1.02-.2 1.41-.59l7.78-7.78 2.81-2.81c.8-.78.8-2.07 0-2.86zM5.41 20L4 18.59l7.72-7.72 1.47 1.35L5.41 20z\"/>\n",
              "  </svg>\n",
              "      </button>\n",
              "      \n",
              "  <style>\n",
              "    .colab-df-container {\n",
              "      display:flex;\n",
              "      flex-wrap:wrap;\n",
              "      gap: 12px;\n",
              "    }\n",
              "\n",
              "    .colab-df-convert {\n",
              "      background-color: #E8F0FE;\n",
              "      border: none;\n",
              "      border-radius: 50%;\n",
              "      cursor: pointer;\n",
              "      display: none;\n",
              "      fill: #1967D2;\n",
              "      height: 32px;\n",
              "      padding: 0 0 0 0;\n",
              "      width: 32px;\n",
              "    }\n",
              "\n",
              "    .colab-df-convert:hover {\n",
              "      background-color: #E2EBFA;\n",
              "      box-shadow: 0px 1px 2px rgba(60, 64, 67, 0.3), 0px 1px 3px 1px rgba(60, 64, 67, 0.15);\n",
              "      fill: #174EA6;\n",
              "    }\n",
              "\n",
              "    [theme=dark] .colab-df-convert {\n",
              "      background-color: #3B4455;\n",
              "      fill: #D2E3FC;\n",
              "    }\n",
              "\n",
              "    [theme=dark] .colab-df-convert:hover {\n",
              "      background-color: #434B5C;\n",
              "      box-shadow: 0px 1px 3px 1px rgba(0, 0, 0, 0.15);\n",
              "      filter: drop-shadow(0px 1px 2px rgba(0, 0, 0, 0.3));\n",
              "      fill: #FFFFFF;\n",
              "    }\n",
              "  </style>\n",
              "\n",
              "      <script>\n",
              "        const buttonEl =\n",
              "          document.querySelector('#df-eb546dfe-afe4-4568-b3b9-62da2591aada button.colab-df-convert');\n",
              "        buttonEl.style.display =\n",
              "          google.colab.kernel.accessAllowed ? 'block' : 'none';\n",
              "\n",
              "        async function convertToInteractive(key) {\n",
              "          const element = document.querySelector('#df-eb546dfe-afe4-4568-b3b9-62da2591aada');\n",
              "          const dataTable =\n",
              "            await google.colab.kernel.invokeFunction('convertToInteractive',\n",
              "                                                     [key], {});\n",
              "          if (!dataTable) return;\n",
              "\n",
              "          const docLinkHtml = 'Like what you see? Visit the ' +\n",
              "            '<a target=\"_blank\" href=https://colab.research.google.com/notebooks/data_table.ipynb>data table notebook</a>'\n",
              "            + ' to learn more about interactive tables.';\n",
              "          element.innerHTML = '';\n",
              "          dataTable['output_type'] = 'display_data';\n",
              "          await google.colab.output.renderOutput(dataTable, element);\n",
              "          const docLink = document.createElement('div');\n",
              "          docLink.innerHTML = docLinkHtml;\n",
              "          element.appendChild(docLink);\n",
              "        }\n",
              "      </script>\n",
              "    </div>\n",
              "  </div>\n",
              "  "
            ],
            "text/plain": [
              "  activity_category  outcome char_1_y char_2_y  ... month day isweekend groupNo\n",
              "0            type 4        0   type 2   type 2  ...     8  26         1   17304\n",
              "1            type 2        0   type 2   type 2  ...     9  27         0   17304\n",
              "2            type 2        0   type 2   type 2  ...     9  27         0   17304\n",
              "3            type 2        0   type 2   type 2  ...     8   4         0   17304\n",
              "4            type 2        0   type 2   type 2  ...     8  26         1   17304\n",
              "\n",
              "[5 rows x 46 columns]"
            ]
          },
          "metadata": {},
          "execution_count": 58
        }
      ],
      "source": [
        "merged_df.head()"
      ]
    },
    {
      "cell_type": "code",
      "execution_count": 59,
      "metadata": {
        "colab": {
          "base_uri": "https://localhost:8080/"
        },
        "id": "sbs4ULyYa21U",
        "outputId": "d022a43a-80a7-4985-c515-2ef843f1f1b7"
      },
      "outputs": [
        {
          "output_type": "stream",
          "name": "stdout",
          "text": [
            "<class 'pandas.core.frame.DataFrame'>\n",
            "Int64Index: 2039676 entries, 0 to 2197290\n",
            "Data columns (total 46 columns):\n",
            " #   Column             Dtype         \n",
            "---  ------             -----         \n",
            " 0   activity_category  object        \n",
            " 1   outcome            int64         \n",
            " 2   char_1_y           object        \n",
            " 3   char_2_y           object        \n",
            " 4   char_3_y           object        \n",
            " 5   char_4_y           object        \n",
            " 6   char_5_y           object        \n",
            " 7   char_6_y           object        \n",
            " 8   char_7_y           object        \n",
            " 9   char_8_y           object        \n",
            " 10  char_9_y           object        \n",
            " 11  char_10_y          bool          \n",
            " 12  char_11            bool          \n",
            " 13  char_12            bool          \n",
            " 14  char_13            bool          \n",
            " 15  char_14            bool          \n",
            " 16  char_15            bool          \n",
            " 17  char_16            bool          \n",
            " 18  char_17            bool          \n",
            " 19  char_18            bool          \n",
            " 20  char_19            bool          \n",
            " 21  char_20            bool          \n",
            " 22  char_21            bool          \n",
            " 23  char_22            bool          \n",
            " 24  char_23            bool          \n",
            " 25  char_24            bool          \n",
            " 26  char_25            bool          \n",
            " 27  char_26            bool          \n",
            " 28  char_27            bool          \n",
            " 29  char_28            bool          \n",
            " 30  char_29            bool          \n",
            " 31  char_30            bool          \n",
            " 32  char_31            bool          \n",
            " 33  char_32            bool          \n",
            " 34  char_33            bool          \n",
            " 35  char_34            bool          \n",
            " 36  char_35            bool          \n",
            " 37  char_36            bool          \n",
            " 38  char_37            bool          \n",
            " 39  char_38            float64       \n",
            " 40  Date               datetime64[ns]\n",
            " 41  year               int64         \n",
            " 42  month              int64         \n",
            " 43  day                int64         \n",
            " 44  isweekend          int64         \n",
            " 45  groupNo            object        \n",
            "dtypes: bool(28), datetime64[ns](1), float64(1), int64(5), object(11)\n",
            "memory usage: 350.1+ MB\n"
          ]
        }
      ],
      "source": [
        "merged_df.info()"
      ]
    },
    {
      "cell_type": "code",
      "execution_count": 60,
      "metadata": {
        "id": "2dNNZloIa21U"
      },
      "outputs": [],
      "source": [
        " del_col = ['char_2_y', 'char_1_y', 'char_3_y','char_4_y','char_5_y','char_6_y','char_7_y','char_8_y','char_9_y','groupNo','activity_category']\n",
        "    "
      ]
    },
    {
      "cell_type": "code",
      "execution_count": 61,
      "metadata": {
        "id": "LcaZmU3Ga21V"
      },
      "outputs": [],
      "source": [
        "merged_df.drop(del_col,axis=1,inplace=True)"
      ]
    },
    {
      "cell_type": "code",
      "execution_count": 62,
      "metadata": {
        "id": "iBzeOuD_a21V"
      },
      "outputs": [],
      "source": [
        "merged_df.drop('Date', axis=1, inplace=True)"
      ]
    },
    {
      "cell_type": "markdown",
      "metadata": {
        "id": "1KrnP3mHa21V"
      },
      "source": [
        "## Input and Target Columns"
      ]
    },
    {
      "cell_type": "code",
      "execution_count": 63,
      "metadata": {
        "id": "FZfIwv5Fa21V"
      },
      "outputs": [],
      "source": [
        "input_df= merged_df.drop('outcome', axis=1)\n",
        "target = merged_df.outcome"
      ]
    },
    {
      "cell_type": "markdown",
      "metadata": {
        "id": "Ey1Un39Za21W"
      },
      "source": [
        "## Train test split"
      ]
    },
    {
      "cell_type": "code",
      "execution_count": 64,
      "metadata": {
        "id": "BFqNgKkda21W"
      },
      "outputs": [],
      "source": [
        "from sklearn.model_selection import train_test_split"
      ]
    },
    {
      "cell_type": "code",
      "execution_count": 65,
      "metadata": {
        "id": "6LKV7TTapNNw"
      },
      "outputs": [],
      "source": [
        " X_train, X_test, y_train, y_test = train_test_split(\n",
        "     input_df, target, test_size=0.33, random_state=42)"
      ]
    },
    {
      "cell_type": "code",
      "execution_count": 66,
      "metadata": {
        "colab": {
          "base_uri": "https://localhost:8080/"
        },
        "id": "CJbIhvBma21W",
        "outputId": "86126de0-c763-48bc-b580-47ca2240a89c"
      },
      "outputs": [
        {
          "output_type": "execute_result",
          "data": {
            "text/plain": [
              "((1366582, 33), (673094, 33), (1366582,), (673094,))"
            ]
          },
          "metadata": {},
          "execution_count": 66
        }
      ],
      "source": [
        "X_train.shape, X_test.shape, y_train.shape, y_test.shape"
      ]
    },
    {
      "cell_type": "markdown",
      "metadata": {
        "id": "NFW44q_3a21X"
      },
      "source": [
        "## Traininf Random Forest Model"
      ]
    },
    {
      "cell_type": "code",
      "execution_count": 67,
      "metadata": {
        "id": "daWHUshja21X"
      },
      "outputs": [],
      "source": [
        "from sklearn.ensemble import RandomForestClassifier"
      ]
    },
    {
      "cell_type": "code",
      "execution_count": 68,
      "metadata": {
        "id": "ahw8af1Da21X"
      },
      "outputs": [],
      "source": [
        "model_rf = RandomForestClassifier(n_jobs=-1, random_state=42)"
      ]
    },
    {
      "cell_type": "code",
      "execution_count": 69,
      "metadata": {
        "colab": {
          "base_uri": "https://localhost:8080/"
        },
        "id": "KWC7dCbxa21Y",
        "outputId": "5806798b-1ee8-4e91-8092-540d7770356c"
      },
      "outputs": [
        {
          "output_type": "execute_result",
          "data": {
            "text/plain": [
              "RandomForestClassifier(n_jobs=-1, random_state=42)"
            ]
          },
          "metadata": {},
          "execution_count": 69
        }
      ],
      "source": [
        "model_rf.fit(X_train, y_train)"
      ]
    },
    {
      "cell_type": "markdown",
      "metadata": {
        "id": "GT5A4cfVa21Y"
      },
      "source": [
        "### Scoring"
      ]
    },
    {
      "cell_type": "code",
      "execution_count": 70,
      "metadata": {
        "colab": {
          "base_uri": "https://localhost:8080/"
        },
        "id": "DP6ShPxDa21Y",
        "outputId": "abddd9da-a7a2-4fc0-d46f-af2bb57cbb16"
      },
      "outputs": [
        {
          "output_type": "execute_result",
          "data": {
            "text/plain": [
              "0.9230971869964627"
            ]
          },
          "metadata": {},
          "execution_count": 70
        }
      ],
      "source": [
        "model_rf.score(X_train, y_train)"
      ]
    },
    {
      "cell_type": "code",
      "execution_count": 71,
      "metadata": {
        "colab": {
          "base_uri": "https://localhost:8080/"
        },
        "id": "hieV5YEXa21Y",
        "outputId": "e7dd94a1-a4ca-4164-9933-bf7562a825b0"
      },
      "outputs": [
        {
          "output_type": "execute_result",
          "data": {
            "text/plain": [
              "0.9035870175636687"
            ]
          },
          "metadata": {},
          "execution_count": 71
        }
      ],
      "source": [
        "model_rf.score(X_test, y_test)"
      ]
    },
    {
      "cell_type": "code",
      "execution_count": 72,
      "metadata": {
        "id": "RhCqvaRja21Z"
      },
      "outputs": [],
      "source": [
        "from sklearn.metrics import accuracy_score, confusion_matrix"
      ]
    },
    {
      "cell_type": "code",
      "execution_count": 73,
      "metadata": {
        "colab": {
          "base_uri": "https://localhost:8080/"
        },
        "id": "1D2jdx3Va21Z",
        "outputId": "fdd71eb5-bb70-47f4-c4ca-d132eea8c5fa"
      },
      "outputs": [
        {
          "output_type": "execute_result",
          "data": {
            "text/plain": [
              "array([[0.32580556, 0.67419444],\n",
              "       [1.        , 0.        ],\n",
              "       [0.35160808, 0.64839192],\n",
              "       ...,\n",
              "       [0.15906277, 0.84093723],\n",
              "       [0.        , 1.        ],\n",
              "       [0.35096044, 0.64903956]])"
            ]
          },
          "metadata": {},
          "execution_count": 73
        }
      ],
      "source": [
        "train_probs = model_rf.predict_proba(X_train)\n",
        "train_probs"
      ]
    },
    {
      "cell_type": "code",
      "execution_count": 74,
      "metadata": {
        "id": "DePibkaca21Z"
      },
      "outputs": [],
      "source": [
        "y_pred= model_rf.predict(X_test)\n",
        "y_true = y_test"
      ]
    },
    {
      "cell_type": "code",
      "execution_count": 75,
      "metadata": {
        "colab": {
          "base_uri": "https://localhost:8080/"
        },
        "id": "fDcUoMnia21a",
        "outputId": "cc69b6ad-8082-46e2-bc2d-1edc58231104"
      },
      "outputs": [
        {
          "output_type": "execute_result",
          "data": {
            "text/plain": [
              "array([[329833,  42643],\n",
              "       [ 22252, 278366]])"
            ]
          },
          "metadata": {},
          "execution_count": 75
        }
      ],
      "source": [
        "confusion_matrix(y_true, y_pred)"
      ]
    },
    {
      "cell_type": "markdown",
      "metadata": {
        "id": "oE-AwJTwa21a"
      },
      "source": [
        "### Confusion Metrix"
      ]
    },
    {
      "cell_type": "code",
      "execution_count": 76,
      "metadata": {
        "colab": {
          "base_uri": "https://localhost:8080/",
          "height": 422
        },
        "id": "g54csCpBa21a",
        "outputId": "485dd2ef-5673-45b4-fe1b-a14ffb9f5c1d"
      },
      "outputs": [
        {
          "output_type": "execute_result",
          "data": {
            "text/plain": [
              "Text(0.5, 1.0, 'Confusion Metrics')"
            ]
          },
          "metadata": {},
          "execution_count": 76
        },
        {
          "output_type": "display_data",
          "data": {
            "image/png": "[encoded data removed]",
            "text/plain": [
              "<Figure size 720x432 with 2 Axes>"
            ]
          },
          "metadata": {}
        }
      ],
      "source": [
        "sns.heatmap(confusion_matrix(y_true,y_pred, normalize='true'), annot=True)\n",
        "plt.xlabel('Predicted')\n",
        "plt.ylabel('True')\n",
        "plt.title('Confusion Metrics')\n"
      ]
    },
    {
      "cell_type": "markdown",
      "metadata": {
        "id": "Ga4i9n6Ka21b"
      },
      "source": [
        "### Classification Report"
      ]
    },
    {
      "cell_type": "code",
      "execution_count": 77,
      "metadata": {
        "id": "lnu7-wHga21b"
      },
      "outputs": [],
      "source": [
        "from sklearn.metrics import classification_report"
      ]
    },
    {
      "cell_type": "code",
      "execution_count": 78,
      "metadata": {
        "colab": {
          "base_uri": "https://localhost:8080/"
        },
        "id": "VO5sCcOha21b",
        "outputId": "93055e40-667a-422d-efde-dfd40f8c267a"
      },
      "outputs": [
        {
          "output_type": "stream",
          "name": "stdout",
          "text": [
            "              precision    recall  f1-score   support\n",
            "\n",
            "           0       0.94      0.89      0.91    372476\n",
            "           1       0.87      0.93      0.90    300618\n",
            "\n",
            "    accuracy                           0.90    673094\n",
            "   macro avg       0.90      0.91      0.90    673094\n",
            "weighted avg       0.91      0.90      0.90    673094\n",
            "\n"
          ]
        }
      ],
      "source": [
        "print(classification_report(y_true,y_pred))"
      ]
    },
    {
      "cell_type": "code",
      "execution_count": 79,
      "metadata": {
        "colab": {
          "base_uri": "https://localhost:8080/"
        },
        "id": "TOWfqfvja21b",
        "outputId": "457f7e51-96ce-4867-d28e-e7c1b602246d"
      },
      "outputs": [
        {
          "output_type": "stream",
          "name": "stdout",
          "text": [
            "auto\n"
          ]
        }
      ],
      "source": [
        "print(model_rf.max_features)\n"
      ]
    },
    {
      "cell_type": "markdown",
      "metadata": {
        "id": "p-cv13oaa21b"
      },
      "source": [
        "### Feature Importance"
      ]
    },
    {
      "cell_type": "code",
      "execution_count": 80,
      "metadata": {
        "colab": {
          "base_uri": "https://localhost:8080/"
        },
        "id": "1cPDJeoQa21c",
        "outputId": "b73d9065-2011-4b09-fa19-ed15612ce3d0"
      },
      "outputs": [
        {
          "output_type": "execute_result",
          "data": {
            "text/plain": [
              "array([0.00803693, 0.0069273 , 0.00615901, 0.02818365, 0.00915488,\n",
              "       0.00584245, 0.00848315, 0.01251889, 0.00603448, 0.00725274,\n",
              "       0.00692922, 0.00690775, 0.0113784 , 0.00774712, 0.00527155,\n",
              "       0.02424488, 0.00602672, 0.00739379, 0.00670498, 0.0062454 ,\n",
              "       0.00581976, 0.01066124, 0.00851855, 0.00587226, 0.01752326,\n",
              "       0.0069374 , 0.0246358 , 0.01036045, 0.58269101, 0.00934779,\n",
              "       0.04719601, 0.07722693, 0.00576624])"
            ]
          },
          "metadata": {},
          "execution_count": 80
        }
      ],
      "source": [
        "model_rf.feature_importances_"
      ]
    },
    {
      "cell_type": "code",
      "execution_count": 81,
      "metadata": {
        "colab": {
          "base_uri": "https://localhost:8080/",
          "height": 1000
        },
        "id": "o9zyqK73a21c",
        "outputId": "10d04e6b-e8aa-4976-e42e-694a9191e222"
      },
      "outputs": [
        {
          "output_type": "execute_result",
          "data": {
            "text/html": [
              "\n",
              "  <div id=\"df-ded0e097-49f8-4730-9182-1ac0d4b1846e\">\n",
              "    <div class=\"colab-df-container\">\n",
              "      <div>\n",
              "<style scoped>\n",
              "    .dataframe tbody tr th:only-of-type {\n",
              "        vertical-align: middle;\n",
              "    }\n",
              "\n",
              "    .dataframe tbody tr th {\n",
              "        vertical-align: top;\n",
              "    }\n",
              "\n",
              "    .dataframe thead th {\n",
              "        text-align: right;\n",
              "    }\n",
              "</style>\n",
              "<table border=\"1\" class=\"dataframe\">\n",
              "  <thead>\n",
              "    <tr style=\"text-align: right;\">\n",
              "      <th></th>\n",
              "      <th>Features</th>\n",
              "      <th>importance</th>\n",
              "    </tr>\n",
              "  </thead>\n",
              "  <tbody>\n",
              "    <tr>\n",
              "      <th>28</th>\n",
              "      <td>char_38</td>\n",
              "      <td>0.582691</td>\n",
              "    </tr>\n",
              "    <tr>\n",
              "      <th>31</th>\n",
              "      <td>day</td>\n",
              "      <td>0.077227</td>\n",
              "    </tr>\n",
              "    <tr>\n",
              "      <th>30</th>\n",
              "      <td>month</td>\n",
              "      <td>0.047196</td>\n",
              "    </tr>\n",
              "    <tr>\n",
              "      <th>3</th>\n",
              "      <td>char_13</td>\n",
              "      <td>0.028184</td>\n",
              "    </tr>\n",
              "    <tr>\n",
              "      <th>26</th>\n",
              "      <td>char_36</td>\n",
              "      <td>0.024636</td>\n",
              "    </tr>\n",
              "    <tr>\n",
              "      <th>15</th>\n",
              "      <td>char_25</td>\n",
              "      <td>0.024245</td>\n",
              "    </tr>\n",
              "    <tr>\n",
              "      <th>24</th>\n",
              "      <td>char_34</td>\n",
              "      <td>0.017523</td>\n",
              "    </tr>\n",
              "    <tr>\n",
              "      <th>7</th>\n",
              "      <td>char_17</td>\n",
              "      <td>0.012519</td>\n",
              "    </tr>\n",
              "    <tr>\n",
              "      <th>12</th>\n",
              "      <td>char_22</td>\n",
              "      <td>0.011378</td>\n",
              "    </tr>\n",
              "    <tr>\n",
              "      <th>21</th>\n",
              "      <td>char_31</td>\n",
              "      <td>0.010661</td>\n",
              "    </tr>\n",
              "    <tr>\n",
              "      <th>27</th>\n",
              "      <td>char_37</td>\n",
              "      <td>0.010360</td>\n",
              "    </tr>\n",
              "    <tr>\n",
              "      <th>29</th>\n",
              "      <td>year</td>\n",
              "      <td>0.009348</td>\n",
              "    </tr>\n",
              "    <tr>\n",
              "      <th>4</th>\n",
              "      <td>char_14</td>\n",
              "      <td>0.009155</td>\n",
              "    </tr>\n",
              "    <tr>\n",
              "      <th>22</th>\n",
              "      <td>char_32</td>\n",
              "      <td>0.008519</td>\n",
              "    </tr>\n",
              "    <tr>\n",
              "      <th>6</th>\n",
              "      <td>char_16</td>\n",
              "      <td>0.008483</td>\n",
              "    </tr>\n",
              "    <tr>\n",
              "      <th>0</th>\n",
              "      <td>char_10_y</td>\n",
              "      <td>0.008037</td>\n",
              "    </tr>\n",
              "    <tr>\n",
              "      <th>13</th>\n",
              "      <td>char_23</td>\n",
              "      <td>0.007747</td>\n",
              "    </tr>\n",
              "    <tr>\n",
              "      <th>17</th>\n",
              "      <td>char_27</td>\n",
              "      <td>0.007394</td>\n",
              "    </tr>\n",
              "    <tr>\n",
              "      <th>9</th>\n",
              "      <td>char_19</td>\n",
              "      <td>0.007253</td>\n",
              "    </tr>\n",
              "    <tr>\n",
              "      <th>25</th>\n",
              "      <td>char_35</td>\n",
              "      <td>0.006937</td>\n",
              "    </tr>\n",
              "    <tr>\n",
              "      <th>10</th>\n",
              "      <td>char_20</td>\n",
              "      <td>0.006929</td>\n",
              "    </tr>\n",
              "    <tr>\n",
              "      <th>1</th>\n",
              "      <td>char_11</td>\n",
              "      <td>0.006927</td>\n",
              "    </tr>\n",
              "    <tr>\n",
              "      <th>11</th>\n",
              "      <td>char_21</td>\n",
              "      <td>0.006908</td>\n",
              "    </tr>\n",
              "    <tr>\n",
              "      <th>18</th>\n",
              "      <td>char_28</td>\n",
              "      <td>0.006705</td>\n",
              "    </tr>\n",
              "    <tr>\n",
              "      <th>19</th>\n",
              "      <td>char_29</td>\n",
              "      <td>0.006245</td>\n",
              "    </tr>\n",
              "    <tr>\n",
              "      <th>2</th>\n",
              "      <td>char_12</td>\n",
              "      <td>0.006159</td>\n",
              "    </tr>\n",
              "    <tr>\n",
              "      <th>8</th>\n",
              "      <td>char_18</td>\n",
              "      <td>0.006034</td>\n",
              "    </tr>\n",
              "    <tr>\n",
              "      <th>16</th>\n",
              "      <td>char_26</td>\n",
              "      <td>0.006027</td>\n",
              "    </tr>\n",
              "    <tr>\n",
              "      <th>23</th>\n",
              "      <td>char_33</td>\n",
              "      <td>0.005872</td>\n",
              "    </tr>\n",
              "    <tr>\n",
              "      <th>5</th>\n",
              "      <td>char_15</td>\n",
              "      <td>0.005842</td>\n",
              "    </tr>\n",
              "    <tr>\n",
              "      <th>20</th>\n",
              "      <td>char_30</td>\n",
              "      <td>0.005820</td>\n",
              "    </tr>\n",
              "    <tr>\n",
              "      <th>32</th>\n",
              "      <td>isweekend</td>\n",
              "      <td>0.005766</td>\n",
              "    </tr>\n",
              "    <tr>\n",
              "      <th>14</th>\n",
              "      <td>char_24</td>\n",
              "      <td>0.005272</td>\n",
              "    </tr>\n",
              "  </tbody>\n",
              "</table>\n",
              "</div>\n",
              "      <button class=\"colab-df-convert\" onclick=\"convertToInteractive('df-ded0e097-49f8-4730-9182-1ac0d4b1846e')\"\n",
              "              title=\"Convert this dataframe to an interactive table.\"\n",
              "              style=\"display:none;\">\n",
              "        \n",
              "  <svg xmlns=\"http://www.w3.org/2000/svg\" height=\"24px\"viewBox=\"0 0 24 24\"\n",
              "       width=\"24px\">\n",
              "    <path d=\"M0 0h24v24H0V0z\" fill=\"none\"/>\n",
              "    <path d=\"M18.56 5.44l.94 2.06.94-2.06 2.06-.94-2.06-.94-.94-2.06-.94 2.06-2.06.94zm-11 1L8.5 8.5l.94-2.06 2.06-.94-2.06-.94L8.5 2.5l-.94 2.06-2.06.94zm10 10l.94 2.06.94-2.06 2.06-.94-2.06-.94-.94-2.06-.94 2.06-2.06.94z\"/><path d=\"M17.41 7.96l-1.37-1.37c-.4-.4-.92-.59-1.43-.59-.52 0-1.04.2-1.43.59L10.3 9.45l-7.72 7.72c-.78.78-.78 2.05 0 2.83L4 21.41c.39.39.9.59 1.41.59.51 0 1.02-.2 1.41-.59l7.78-7.78 2.81-2.81c.8-.78.8-2.07 0-2.86zM5.41 20L4 18.59l7.72-7.72 1.47 1.35L5.41 20z\"/>\n",
              "  </svg>\n",
              "      </button>\n",
              "      \n",
              "  <style>\n",
              "    .colab-df-container {\n",
              "      display:flex;\n",
              "      flex-wrap:wrap;\n",
              "      gap: 12px;\n",
              "    }\n",
              "\n",
              "    .colab-df-convert {\n",
              "      background-color: #E8F0FE;\n",
              "      border: none;\n",
              "      border-radius: 50%;\n",
              "      cursor: pointer;\n",
              "      display: none;\n",
              "      fill: #1967D2;\n",
              "      height: 32px;\n",
              "      padding: 0 0 0 0;\n",
              "      width: 32px;\n",
              "    }\n",
              "\n",
              "    .colab-df-convert:hover {\n",
              "      background-color: #E2EBFA;\n",
              "      box-shadow: 0px 1px 2px rgba(60, 64, 67, 0.3), 0px 1px 3px 1px rgba(60, 64, 67, 0.15);\n",
              "      fill: #174EA6;\n",
              "    }\n",
              "\n",
              "    [theme=dark] .colab-df-convert {\n",
              "      background-color: #3B4455;\n",
              "      fill: #D2E3FC;\n",
              "    }\n",
              "\n",
              "    [theme=dark] .colab-df-convert:hover {\n",
              "      background-color: #434B5C;\n",
              "      box-shadow: 0px 1px 3px 1px rgba(0, 0, 0, 0.15);\n",
              "      filter: drop-shadow(0px 1px 2px rgba(0, 0, 0, 0.3));\n",
              "      fill: #FFFFFF;\n",
              "    }\n",
              "  </style>\n",
              "\n",
              "      <script>\n",
              "        const buttonEl =\n",
              "          document.querySelector('#df-ded0e097-49f8-4730-9182-1ac0d4b1846e button.colab-df-convert');\n",
              "        buttonEl.style.display =\n",
              "          google.colab.kernel.accessAllowed ? 'block' : 'none';\n",
              "\n",
              "        async function convertToInteractive(key) {\n",
              "          const element = document.querySelector('#df-ded0e097-49f8-4730-9182-1ac0d4b1846e');\n",
              "          const dataTable =\n",
              "            await google.colab.kernel.invokeFunction('convertToInteractive',\n",
              "                                                     [key], {});\n",
              "          if (!dataTable) return;\n",
              "\n",
              "          const docLinkHtml = 'Like what you see? Visit the ' +\n",
              "            '<a target=\"_blank\" href=https://colab.research.google.com/notebooks/data_table.ipynb>data table notebook</a>'\n",
              "            + ' to learn more about interactive tables.';\n",
              "          element.innerHTML = '';\n",
              "          dataTable['output_type'] = 'display_data';\n",
              "          await google.colab.output.renderOutput(dataTable, element);\n",
              "          const docLink = document.createElement('div');\n",
              "          docLink.innerHTML = docLinkHtml;\n",
              "          element.appendChild(docLink);\n",
              "        }\n",
              "      </script>\n",
              "    </div>\n",
              "  </div>\n",
              "  "
            ],
            "text/plain": [
              "     Features  importance\n",
              "28    char_38    0.582691\n",
              "31        day    0.077227\n",
              "30      month    0.047196\n",
              "3     char_13    0.028184\n",
              "26    char_36    0.024636\n",
              "15    char_25    0.024245\n",
              "24    char_34    0.017523\n",
              "7     char_17    0.012519\n",
              "12    char_22    0.011378\n",
              "21    char_31    0.010661\n",
              "27    char_37    0.010360\n",
              "29       year    0.009348\n",
              "4     char_14    0.009155\n",
              "22    char_32    0.008519\n",
              "6     char_16    0.008483\n",
              "0   char_10_y    0.008037\n",
              "13    char_23    0.007747\n",
              "17    char_27    0.007394\n",
              "9     char_19    0.007253\n",
              "25    char_35    0.006937\n",
              "10    char_20    0.006929\n",
              "1     char_11    0.006927\n",
              "11    char_21    0.006908\n",
              "18    char_28    0.006705\n",
              "19    char_29    0.006245\n",
              "2     char_12    0.006159\n",
              "8     char_18    0.006034\n",
              "16    char_26    0.006027\n",
              "23    char_33    0.005872\n",
              "5     char_15    0.005842\n",
              "20    char_30    0.005820\n",
              "32  isweekend    0.005766\n",
              "14    char_24    0.005272"
            ]
          },
          "metadata": {},
          "execution_count": 81
        }
      ],
      "source": [
        "feature_importance_df= pd.DataFrame({\n",
        "    'Features': X_train.columns,\n",
        "    'importance': model_rf.feature_importances_\n",
        "                                    }).sort_values('importance', ascending=False)\n",
        "feature_importance_df"
      ]
    },
    {
      "cell_type": "code",
      "execution_count": 82,
      "metadata": {
        "scrolled": true,
        "colab": {
          "base_uri": "https://localhost:8080/",
          "height": 422
        },
        "id": "YWqa96YIa21c",
        "outputId": "e10f52c1-7bd5-46c3-e106-51445f56d914"
      },
      "outputs": [
        {
          "output_type": "execute_result",
          "data": {
            "text/plain": [
              "Text(0.5, 1.0, 'Feature Importance')"
            ]
          },
          "metadata": {},
          "execution_count": 82
        },
        {
          "output_type": "display_data",
          "data": {
            "image/png": "[encoded data removed]",
            "text/plain": [
              "<Figure size 720x432 with 1 Axes>"
            ]
          },
          "metadata": {}
        }
      ],
      "source": [
        "sns.barplot(x='importance', y='Features', data= feature_importance_df)\n",
        "plt.title('Feature Importance')"
      ]
    },
    {
      "cell_type": "code",
      "execution_count": 83,
      "metadata": {
        "id": "40xeakyna21c"
      },
      "outputs": [],
      "source": [
        "def max_depth_error(md):\n",
        "    model_rf = RandomForestClassifier(max_depth=md, random_state=42)\n",
        "    model_rf.fit(X_train, y_train)\n",
        "    train_acc = 1 - model_rf.score(X_train, y_train)\n",
        "    val_acc = 1 - model_rf.score(X_test, y_test)\n",
        "    return {'Max Depth': md, 'Training Error': train_acc, 'Validation Error': val_acc}"
      ]
    },
    {
      "cell_type": "markdown",
      "metadata": {
        "id": "kfv0xXL7a21d"
      },
      "source": [
        "## Training XGBoost Model"
      ]
    },
    {
      "cell_type": "code",
      "execution_count": 84,
      "metadata": {
        "colab": {
          "base_uri": "https://localhost:8080/"
        },
        "id": "2jNHBum7a21d",
        "outputId": "63de82e7-897a-4449-ad2c-150fef2d51b5"
      },
      "outputs": [
        {
          "output_type": "stream",
          "name": "stdout",
          "text": [
            "\u001b[K     |████████████████████████████████| 46 kB 1.7 MB/s \n",
            "\u001b[K     |████████████████████████████████| 173.6 MB 7.1 kB/s \n",
            "\u001b[?25h"
          ]
        }
      ],
      "source": [
        "!pip install graphviz xgboost --upgrade --q"
      ]
    },
    {
      "cell_type": "code",
      "execution_count": 85,
      "metadata": {
        "id": "OIxIgRdua21d"
      },
      "outputs": [],
      "source": [
        "from xgboost import XGBClassifier"
      ]
    },
    {
      "cell_type": "code",
      "execution_count": 86,
      "metadata": {
        "id": "HG7asiPza21d"
      },
      "outputs": [],
      "source": [
        "from sklearn.metrics import accuracy_score"
      ]
    },
    {
      "cell_type": "code",
      "execution_count": 87,
      "metadata": {
        "id": "Fgavp850a21e"
      },
      "outputs": [],
      "source": [
        "model_xgb = XGBClassifier(random_state=42, n_jobs=-1)"
      ]
    },
    {
      "cell_type": "code",
      "execution_count": 88,
      "metadata": {
        "colab": {
          "base_uri": "https://localhost:8080/"
        },
        "id": "LYViWrgoa21e",
        "outputId": "4e04fee7-484d-4879-9e8f-37dca7466fb6"
      },
      "outputs": [
        {
          "output_type": "stream",
          "name": "stderr",
          "text": [
            "/usr/local/lib/python3.7/dist-packages/xgboost/sklearn.py:1224: UserWarning:\n",
            "\n",
            "The use of label encoder in XGBClassifier is deprecated and will be removed in a future release. To remove this warning, do the following: 1) Pass option use_label_encoder=False when constructing XGBClassifier object; and 2) Encode your labels (y) as integers starting with 0, i.e. 0, 1, 2, ..., [num_class - 1].\n",
            "\n"
          ]
        },
        {
          "output_type": "stream",
          "name": "stdout",
          "text": [
            "[09:57:57] WARNING: ../src/learner.cc:1115: Starting in XGBoost 1.3.0, the default evaluation metric used with the objective 'binary:logistic' was changed from 'error' to 'logloss'. Explicitly set eval_metric if you'd like to restore the old behavior.\n",
            "CPU times: user 9min 24s, sys: 788 ms, total: 9min 25s\n",
            "Wall time: 5min 11s\n"
          ]
        },
        {
          "output_type": "execute_result",
          "data": {
            "text/plain": [
              "XGBClassifier(base_score=0.5, booster='gbtree', colsample_bylevel=1,\n",
              "              colsample_bynode=1, colsample_bytree=1, enable_categorical=False,\n",
              "              gamma=0, gpu_id=-1, importance_type=None,\n",
              "              interaction_constraints='', learning_rate=0.300000012,\n",
              "              max_delta_step=0, max_depth=6, min_child_weight=1, missing=nan,\n",
              "              monotone_constraints='()', n_estimators=100, n_jobs=-1,\n",
              "              num_parallel_tree=1, predictor='auto', random_state=42,\n",
              "              reg_alpha=0, reg_lambda=1, scale_pos_weight=1, subsample=1,\n",
              "              tree_method='exact', validate_parameters=1, verbosity=None)"
            ]
          },
          "metadata": {},
          "execution_count": 88
        }
      ],
      "source": [
        "%%time\n",
        "model_xgb.fit(X_train, y_train)"
      ]
    },
    {
      "cell_type": "markdown",
      "metadata": {
        "id": "6_EIdQNKa21e"
      },
      "source": [
        "### Scoring"
      ]
    },
    {
      "cell_type": "code",
      "execution_count": 89,
      "metadata": {
        "colab": {
          "base_uri": "https://localhost:8080/"
        },
        "id": "Gj2T_jsva21e",
        "outputId": "5e0f5472-8a8c-4dae-d80a-cc073436c0a1"
      },
      "outputs": [
        {
          "output_type": "execute_result",
          "data": {
            "text/plain": [
              "0.8672176276286384"
            ]
          },
          "metadata": {},
          "execution_count": 89
        }
      ],
      "source": [
        "model_xgb.score(X_train,y_train)"
      ]
    },
    {
      "cell_type": "code",
      "execution_count": 90,
      "metadata": {
        "colab": {
          "base_uri": "https://localhost:8080/"
        },
        "id": "j9r27uOka21f",
        "outputId": "fa38b7d6-a464-4cb2-8efe-250092103559"
      },
      "outputs": [
        {
          "output_type": "execute_result",
          "data": {
            "text/plain": [
              "0.865668093906646"
            ]
          },
          "metadata": {},
          "execution_count": 90
        }
      ],
      "source": [
        "model_xgb.score(X_test,y_test)"
      ]
    },
    {
      "cell_type": "code",
      "execution_count": 91,
      "metadata": {
        "colab": {
          "base_uri": "https://localhost:8080/"
        },
        "id": "-VuFMKIda21f",
        "outputId": "1c7acd2c-350e-41a1-b69b-372f80202daa"
      },
      "outputs": [
        {
          "output_type": "stream",
          "name": "stdout",
          "text": [
            "0:[char_38<0.474999994] yes=1,no=2,missing=1\n",
            "\t1:[char_38<0.465000004] yes=3,no=4,missing=3\n",
            "\t\t3:[char_38<0.454999983] yes=7,no=8,missing=7\n",
            "7:[char_20] yes=16,no=15\n",
            "\t\t\t\t15:[char_38<0.00499999989] yes=31,no=32,missing=31\n",
            "\t\t\t\t\t31:[month<9] yes=63,no=64,missing=63\n",
            "\t\t\t\t\t\t63:leaf=-0.547611415\n",
            "\t\t\t\t\t\t64:leaf=-0.583353221\n",
            "\t\t\t\t\t32:leaf=-0.599170268\n",
            "16:[char_18] yes=34,no=33\n",
            "\t\t\t\t\t33:[char_38<0.375] yes=65,no=66,missing=65\n",
            "\t\t\t\t\t\t65:leaf=-0.597369432\n",
            "\t\t\t\t\t\t66:leaf=-0.165263727\n",
            "\t\t\t\t\t34:leaf=-0.599739015\n",
            "8:[char_25] yes=18,no=17\n",
            "17:[char_10_y] yes=36,no=35\n",
            "35:[char_23] yes=68,no=67\n",
            "\t\t\t\t\t\t67:leaf=-0.393939406\n",
            "\t\t\t\t\t\t68:leaf=-0.0960452035\n",
            "36:[char_31] yes=70,no=69\n",
            "\t\t\t\t\t\t69:leaf=0.235872239\n",
            "\t\t\t\t\t\t70:leaf=-0.588273644\n",
            "18:[char_23] yes=38,no=37\n",
            "\t\t\t\t\t37:[day<5] yes=71,no=72,missing=71\n",
            "\t\t\t\t\t\t71:leaf=-0.413793117\n",
            "\t\t\t\t\t\t72:leaf=-0.551702797\n",
            "\t\t\t\t\t38:leaf=-0.597887874\n",
            "4:[char_25] yes=10,no=9\n",
            "9:[char_27] yes=20,no=19\n",
            "19:[char_20] yes=40,no=39\n",
            "39:[char_31] yes=74,no=73\n",
            "\t\t\t\t\t\t73:leaf=-0.0951846465\n",
            "\t\t\t\t\t\t74:leaf=0.260377377\n",
            "40:[char_19] yes=76,no=75\n",
            "\t\t\t\t\t\t75:leaf=-0.249848023\n",
            "\t\t\t\t\t\t76:leaf=-0.560000002\n",
            "20:[char_33] yes=42,no=41\n",
            "\t\t\t\t\t41:[month<2] yes=77,no=78,missing=77\n",
            "\t\t\t\t\t\t77:leaf=-0.107692316\n",
            "\t\t\t\t\t\t78:leaf=0.472340465\n",
            "42:[char_36] yes=80,no=79\n",
            "\t\t\t\t\t\t79:leaf=0.270000011\n",
            "\t\t\t\t\t\t80:leaf=-0.51000005\n",
            "10:[char_21] yes=22,no=21\n",
            "21:[char_35] yes=44,no=43\n",
            "43:[char_16] yes=82,no=81\n",
            "\t\t\t\t\t\t81:leaf=-0.434905678\n",
            "\t\t\t\t\t\t82:leaf=-0.0509225093\n",
            "44:[char_19] yes=84,no=83\n",
            "\t\t\t\t\t\t83:leaf=0.204289541\n",
            "\t\t\t\t\t\t84:leaf=-0.581538498\n",
            "22:[char_32] yes=46,no=45\n",
            "45:[char_35] yes=86,no=85\n",
            "\t\t\t\t\t\t85:leaf=-0.58951968\n",
            "\t\t\t\t\t\t86:leaf=0.454054087\n",
            "\t\t\t\t\t46:leaf=-0.596894681\n",
            "\t2:[char_38<0.764999986] yes=5,no=6,missing=5\n",
            "\t\t5:[char_38<0.504999995] yes=11,no=12,missing=11\n",
            "11:[char_25] yes=24,no=23\n",
            "23:[char_16] yes=48,no=47\n",
            "47:[char_32] yes=88,no=87\n",
            "\t\t\t\t\t\t87:leaf=0.0654112026\n",
            "\t\t\t\t\t\t88:leaf=-0.253805339\n",
            "48:[char_11] yes=90,no=89\n",
            "\t\t\t\t\t\t89:leaf=0.342656255\n",
            "\t\t\t\t\t\t90:leaf=-0.0658064559\n",
            "24:[char_30] yes=50,no=49\n",
            "49:[char_36] yes=92,no=91\n",
            "\t\t\t\t\t\t91:leaf=-0.156069368\n",
            "\t\t\t\t\t\t92:leaf=-0.411044508\n",
            "50:[char_18] yes=94,no=93\n",
            "\t\t\t\t\t\t93:leaf=0.0984244719\n",
            "\t\t\t\t\t\t94:leaf=-0.569098711\n",
            "12:[char_30] yes=26,no=25\n",
            "\t\t\t\t25:[char_38<0.675000012] yes=51,no=52,missing=51\n",
            "51:[char_34] yes=96,no=95\n",
            "\t\t\t\t\t\t95:leaf=0.118826501\n",
            "\t\t\t\t\t\t96:leaf=0.217666939\n",
            "52:[char_10_y] yes=98,no=97\n",
            "\t\t\t\t\t\t97:leaf=0.224830329\n",
            "\t\t\t\t\t\t98:leaf=0.37411961\n",
            "\t\t\t\t26:[char_38<0.534999967] yes=53,no=54,missing=53\n",
            "53:[char_11] yes=100,no=99\n",
            "\t\t\t\t\t\t99:leaf=0.334896833\n",
            "\t\t\t\t\t\t100:leaf=-0.151509047\n",
            "\t\t\t\t\t54:[char_38<0.675000012] yes=101,no=102,missing=101\n",
            "\t\t\t\t\t\t101:leaf=0.410758287\n",
            "\t\t\t\t\t\t102:leaf=0.310497493\n",
            "\t\t6:[char_38<0.805000007] yes=13,no=14,missing=13\n",
            "13:[char_17] yes=28,no=27\n",
            "27:[char_18] yes=56,no=55\n",
            "55:[char_36] yes=104,no=103\n",
            "\t\t\t\t\t\t103:leaf=0.274704456\n",
            "\t\t\t\t\t\t104:leaf=0.399193585\n",
            "56:[char_36] yes=106,no=105\n",
            "\t\t\t\t\t\t105:leaf=0.326086968\n",
            "\t\t\t\t\t\t106:leaf=-0.128723413\n",
            "28:[char_35] yes=58,no=57\n",
            "57:[char_13] yes=108,no=107\n",
            "\t\t\t\t\t\t107:leaf=0.156549528\n",
            "\t\t\t\t\t\t108:leaf=0.478104502\n",
            "58:[char_30] yes=110,no=109\n",
            "\t\t\t\t\t\t109:leaf=0.124041818\n",
            "\t\t\t\t\t\t110:leaf=0.350227088\n",
            "14:[char_33] yes=30,no=29\n",
            "29:[char_34] yes=60,no=59\n",
            "59:[char_23] yes=112,no=111\n",
            "\t\t\t\t\t\t111:leaf=0.375937849\n",
            "\t\t\t\t\t\t112:leaf=0.261145949\n",
            "\t\t\t\t\t60:[char_38<0.975000024] yes=113,no=114,missing=113\n",
            "\t\t\t\t\t\t113:leaf=0.412550956\n",
            "\t\t\t\t\t\t114:leaf=0.496263802\n",
            "30:[char_25] yes=62,no=61\n",
            "61:[char_12] yes=116,no=115\n",
            "\t\t\t\t\t\t115:leaf=0.341526687\n",
            "\t\t\t\t\t\t116:leaf=0.472032547\n",
            "\t\t\t\t\t62:[char_38<0.944999993] yes=117,no=118,missing=117\n",
            "\t\t\t\t\t\t117:leaf=0.29866147\n",
            "\t\t\t\t\t\t118:leaf=0.374434292\n",
            "\n"
          ]
        }
      ],
      "source": [
        "trees = model_xgb.get_booster().get_dump()\n",
        "print(trees[0])"
      ]
    },
    {
      "cell_type": "code",
      "execution_count": 92,
      "metadata": {
        "id": "E4qi8DI_a21f"
      },
      "outputs": [],
      "source": [
        "def test_params(**params):\n",
        "    model_xgb2 = XGBClassifier(random_state=42, n_jobs=-1, **params)\n",
        "    model_xgb2.fit(X_train, y_train)\n",
        "    return model_xgb2.score(X_train, y_train), model_xgb2.score(X_test, y_test)"
      ]
    },
    {
      "cell_type": "code",
      "execution_count": 93,
      "metadata": {
        "id": "-h7HQfwda21f"
      },
      "outputs": [],
      "source": [
        "def predict_input(model, single_input):\n",
        "    input_df = pd.DataFrame([single_input])\n",
        "    input_df[numeric_cols] = imputer.transform(input_df[numeric_cols])\n",
        "    input_df[numeric_cols] = scaler.transform(input_df[numeric_cols])\n",
        "    input_df[encoded_cols] = encoder.transform(input_df[categorical_cols])\n",
        "    X_input = input_df[numeric_cols + encoded_cols]\n",
        "    pred = model.predict(X_input)[0]\n",
        "    prob = model.predict_proba(X_input)[0][list(model.classes_).index(pred)]\n",
        "    return pred, prob"
      ]
    },
    {
      "cell_type": "code",
      "execution_count": 94,
      "metadata": {
        "colab": {
          "base_uri": "https://localhost:8080/"
        },
        "id": "wcAO6GcPa21f",
        "outputId": "b44c7327-7566-4380-9917-0164ce71152a"
      },
      "outputs": [
        {
          "output_type": "stream",
          "name": "stderr",
          "text": [
            "/usr/local/lib/python3.7/dist-packages/xgboost/sklearn.py:1224: UserWarning:\n",
            "\n",
            "The use of label encoder in XGBClassifier is deprecated and will be removed in a future release. To remove this warning, do the following: 1) Pass option use_label_encoder=False when constructing XGBClassifier object; and 2) Encode your labels (y) as integers starting with 0, i.e. 0, 1, 2, ..., [num_class - 1].\n",
            "\n"
          ]
        },
        {
          "output_type": "stream",
          "name": "stdout",
          "text": [
            "[10:03:28] WARNING: ../src/learner.cc:1115: Starting in XGBoost 1.3.0, the default evaluation metric used with the objective 'binary:logistic' was changed from 'error' to 'logloss'. Explicitly set eval_metric if you'd like to restore the old behavior.\n"
          ]
        },
        {
          "output_type": "execute_result",
          "data": {
            "text/plain": [
              "(0.8672176276286384, 0.865668093906646)"
            ]
          },
          "metadata": {},
          "execution_count": 94
        }
      ],
      "source": [
        "test_params(n_estimators=100)"
      ]
    }
  ],
  "metadata": {
    "colab": {
      "name": "Red_Hat_Customer_Classification.ipynb",
      "provenance": []
    },
    "kernelspec": {
      "display_name": "Python 3",
      "language": "python",
      "name": "python3"
    },
    "language_info": {
      "codemirror_mode": {
        "name": "ipython",
        "version": 3
      },
      "file_extension": ".py",
      "mimetype": "text/x-python",
      "name": "python",
      "nbconvert_exporter": "python",
      "pygments_lexer": "ipython3",
      "version": "3.8.5"
    }
  },
  "nbformat": 4,
  "nbformat_minor": 0
}